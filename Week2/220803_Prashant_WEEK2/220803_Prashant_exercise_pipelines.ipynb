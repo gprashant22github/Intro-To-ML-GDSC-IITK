{
  "metadata": {
    "kernelspec": {
      "display_name": "Python 3",
      "language": "python",
      "name": "python3"
    },
    "language_info": {
      "name": "python",
      "version": "3.10.12",
      "mimetype": "text/x-python",
      "codemirror_mode": {
        "name": "ipython",
        "version": 3
      },
      "pygments_lexer": "ipython3",
      "nbconvert_exporter": "python",
      "file_extension": ".py"
    },
    "kaggle": {
      "accelerator": "none",
      "dataSources": [
        {
          "sourceId": 10211,
          "databundleVersionId": 111096,
          "sourceType": "competition"
        }
      ],
      "isInternetEnabled": false,
      "language": "python",
      "sourceType": "notebook",
      "isGpuEnabled": false
    },
    "colab": {
      "provenance": []
    }
  },
  "nbformat_minor": 0,
  "nbformat": 4,
  "cells": [
    {
      "cell_type": "markdown",
      "source": [
        "**This notebook is an exercise in the [Intermediate Machine Learning](https://www.kaggle.com/learn/intermediate-machine-learning) course.  You can reference the tutorial at [this link](https://www.kaggle.com/alexisbcook/pipelines).**\n",
        "\n",
        "---\n"
      ],
      "metadata": {
        "id": "WnoQg_UGks1T"
      }
    },
    {
      "cell_type": "markdown",
      "source": [
        "In this exercise, you will use **pipelines** to improve the efficiency of your machine learning code.\n",
        "\n",
        "# Setup\n",
        "\n",
        "The questions below will give you feedback on your work. Run the following cell to set up the feedback system."
      ],
      "metadata": {
        "id": "n-p2bLmxks1c"
      }
    },
    {
      "cell_type": "code",
      "source": [
        "# Set up code checking\n",
        "import os\n",
        "if not os.path.exists(\"../input/train.csv\"):\n",
        "    os.symlink(\"../input/home-data-for-ml-course/train.csv\", \"../input/train.csv\")\n",
        "    os.symlink(\"../input/home-data-for-ml-course/test.csv\", \"../input/test.csv\")\n",
        "from learntools.core import binder\n",
        "binder.bind(globals())\n",
        "from learntools.ml_intermediate.ex4 import *\n",
        "print(\"Setup Complete\")"
      ],
      "metadata": {
        "execution": {
          "iopub.status.busy": "2023-12-23T16:10:52.427264Z",
          "iopub.execute_input": "2023-12-23T16:10:52.427799Z",
          "iopub.status.idle": "2023-12-23T16:10:54.556617Z",
          "shell.execute_reply.started": "2023-12-23T16:10:52.427749Z",
          "shell.execute_reply": "2023-12-23T16:10:54.555213Z"
        },
        "trusted": true,
        "id": "vSTgD2anks1d",
        "outputId": "7e0fb53b-ca5b-40c1-853f-931e1a7e7d2f"
      },
      "execution_count": null,
      "outputs": [
        {
          "name": "stdout",
          "text": "Setup Complete\n",
          "output_type": "stream"
        }
      ]
    },
    {
      "cell_type": "markdown",
      "source": [
        "You will work with data from the [Housing Prices Competition for Kaggle Learn Users](https://www.kaggle.com/c/home-data-for-ml-course).\n",
        "\n",
        "![Ames Housing dataset image](https://storage.googleapis.com/kaggle-media/learn/images/lTJVG4e.png)\n",
        "\n",
        "Run the next code cell without changes to load the training and validation sets in `X_train`, `X_valid`, `y_train`, and `y_valid`.  The test set is loaded in `X_test`."
      ],
      "metadata": {
        "id": "bkMaLvayks1g"
      }
    },
    {
      "cell_type": "code",
      "source": [
        "import pandas as pd\n",
        "from sklearn.model_selection import train_test_split\n",
        "\n",
        "# Read the data\n",
        "X_full = pd.read_csv('../input/train.csv', index_col='Id')\n",
        "X_test_full = pd.read_csv('../input/test.csv', index_col='Id')\n",
        "\n",
        "# Remove rows with missing target, separate target from predictors\n",
        "X_full.dropna(axis=0, subset=['SalePrice'], inplace=True)\n",
        "y = X_full.SalePrice\n",
        "X_full.drop(['SalePrice'], axis=1, inplace=True)\n",
        "\n",
        "# Break off validation set from training data\n",
        "X_train_full, X_valid_full, y_train, y_valid = train_test_split(X_full, y,\n",
        "                                                                train_size=0.8, test_size=0.2,\n",
        "                                                                random_state=0)\n",
        "\n",
        "# \"Cardinality\" means the number of unique values in a column\n",
        "# Select categorical columns with relatively low cardinality (convenient but arbitrary)\n",
        "categorical_cols = [cname for cname in X_train_full.columns if\n",
        "                    X_train_full[cname].nunique() < 10 and\n",
        "                    X_train_full[cname].dtype == \"object\"]\n",
        "\n",
        "# Select numerical columns\n",
        "numerical_cols = [cname for cname in X_train_full.columns if\n",
        "                X_train_full[cname].dtype in ['int64', 'float64']]\n",
        "\n",
        "# Keep selected columns only\n",
        "my_cols = categorical_cols + numerical_cols\n",
        "X_train = X_train_full[my_cols].copy()\n",
        "X_valid = X_valid_full[my_cols].copy()\n",
        "X_test = X_test_full[my_cols].copy()"
      ],
      "metadata": {
        "execution": {
          "iopub.status.busy": "2023-12-23T16:44:12.598730Z",
          "iopub.execute_input": "2023-12-23T16:44:12.599196Z",
          "iopub.status.idle": "2023-12-23T16:44:12.912033Z",
          "shell.execute_reply.started": "2023-12-23T16:44:12.599160Z",
          "shell.execute_reply": "2023-12-23T16:44:12.910698Z"
        },
        "trusted": true,
        "id": "fgD2Tcx1ks1g"
      },
      "execution_count": null,
      "outputs": []
    },
    {
      "cell_type": "code",
      "source": [
        "X_train.head()"
      ],
      "metadata": {
        "execution": {
          "iopub.status.busy": "2023-12-23T16:44:18.448989Z",
          "iopub.execute_input": "2023-12-23T16:44:18.449481Z",
          "iopub.status.idle": "2023-12-23T16:44:18.490183Z",
          "shell.execute_reply.started": "2023-12-23T16:44:18.449445Z",
          "shell.execute_reply": "2023-12-23T16:44:18.488711Z"
        },
        "trusted": true,
        "id": "Gtn1Yuoeks1h",
        "outputId": "3ba7f5bb-25fa-48bd-a776-63931ac66f33"
      },
      "execution_count": null,
      "outputs": [
        {
          "execution_count": 3,
          "output_type": "execute_result",
          "data": {
            "text/plain": "    MSZoning Street Alley LotShape LandContour Utilities LotConfig LandSlope  \\\nId                                                                             \n619       RL   Pave   NaN      Reg         Lvl    AllPub    Inside       Gtl   \n871       RL   Pave   NaN      Reg         Lvl    AllPub    Inside       Gtl   \n93        RL   Pave  Grvl      IR1         HLS    AllPub    Inside       Gtl   \n818       RL   Pave   NaN      IR1         Lvl    AllPub   CulDSac       Gtl   \n303       RL   Pave   NaN      IR1         Lvl    AllPub    Corner       Gtl   \n\n    Condition1 Condition2  ... GarageArea WoodDeckSF OpenPorchSF  \\\nId                         ...                                     \n619       Norm       Norm  ...        774          0         108   \n871       PosN       Norm  ...        308          0           0   \n93        Norm       Norm  ...        432          0           0   \n818       Norm       Norm  ...        857        150          59   \n303       Norm       Norm  ...        843        468          81   \n\n    EnclosedPorch 3SsnPorch ScreenPorch PoolArea MiscVal MoSold YrSold  \nId                                                                      \n619             0         0         260        0       0      7   2007  \n871             0         0           0        0       0      8   2009  \n93             44         0           0        0       0      8   2009  \n818             0         0           0        0       0      7   2008  \n303             0         0           0        0       0      1   2006  \n\n[5 rows x 76 columns]",
            "text/html": "<div>\n<style scoped>\n    .dataframe tbody tr th:only-of-type {\n        vertical-align: middle;\n    }\n\n    .dataframe tbody tr th {\n        vertical-align: top;\n    }\n\n    .dataframe thead th {\n        text-align: right;\n    }\n</style>\n<table border=\"1\" class=\"dataframe\">\n  <thead>\n    <tr style=\"text-align: right;\">\n      <th></th>\n      <th>MSZoning</th>\n      <th>Street</th>\n      <th>Alley</th>\n      <th>LotShape</th>\n      <th>LandContour</th>\n      <th>Utilities</th>\n      <th>LotConfig</th>\n      <th>LandSlope</th>\n      <th>Condition1</th>\n      <th>Condition2</th>\n      <th>...</th>\n      <th>GarageArea</th>\n      <th>WoodDeckSF</th>\n      <th>OpenPorchSF</th>\n      <th>EnclosedPorch</th>\n      <th>3SsnPorch</th>\n      <th>ScreenPorch</th>\n      <th>PoolArea</th>\n      <th>MiscVal</th>\n      <th>MoSold</th>\n      <th>YrSold</th>\n    </tr>\n    <tr>\n      <th>Id</th>\n      <th></th>\n      <th></th>\n      <th></th>\n      <th></th>\n      <th></th>\n      <th></th>\n      <th></th>\n      <th></th>\n      <th></th>\n      <th></th>\n      <th></th>\n      <th></th>\n      <th></th>\n      <th></th>\n      <th></th>\n      <th></th>\n      <th></th>\n      <th></th>\n      <th></th>\n      <th></th>\n      <th></th>\n    </tr>\n  </thead>\n  <tbody>\n    <tr>\n      <th>619</th>\n      <td>RL</td>\n      <td>Pave</td>\n      <td>NaN</td>\n      <td>Reg</td>\n      <td>Lvl</td>\n      <td>AllPub</td>\n      <td>Inside</td>\n      <td>Gtl</td>\n      <td>Norm</td>\n      <td>Norm</td>\n      <td>...</td>\n      <td>774</td>\n      <td>0</td>\n      <td>108</td>\n      <td>0</td>\n      <td>0</td>\n      <td>260</td>\n      <td>0</td>\n      <td>0</td>\n      <td>7</td>\n      <td>2007</td>\n    </tr>\n    <tr>\n      <th>871</th>\n      <td>RL</td>\n      <td>Pave</td>\n      <td>NaN</td>\n      <td>Reg</td>\n      <td>Lvl</td>\n      <td>AllPub</td>\n      <td>Inside</td>\n      <td>Gtl</td>\n      <td>PosN</td>\n      <td>Norm</td>\n      <td>...</td>\n      <td>308</td>\n      <td>0</td>\n      <td>0</td>\n      <td>0</td>\n      <td>0</td>\n      <td>0</td>\n      <td>0</td>\n      <td>0</td>\n      <td>8</td>\n      <td>2009</td>\n    </tr>\n    <tr>\n      <th>93</th>\n      <td>RL</td>\n      <td>Pave</td>\n      <td>Grvl</td>\n      <td>IR1</td>\n      <td>HLS</td>\n      <td>AllPub</td>\n      <td>Inside</td>\n      <td>Gtl</td>\n      <td>Norm</td>\n      <td>Norm</td>\n      <td>...</td>\n      <td>432</td>\n      <td>0</td>\n      <td>0</td>\n      <td>44</td>\n      <td>0</td>\n      <td>0</td>\n      <td>0</td>\n      <td>0</td>\n      <td>8</td>\n      <td>2009</td>\n    </tr>\n    <tr>\n      <th>818</th>\n      <td>RL</td>\n      <td>Pave</td>\n      <td>NaN</td>\n      <td>IR1</td>\n      <td>Lvl</td>\n      <td>AllPub</td>\n      <td>CulDSac</td>\n      <td>Gtl</td>\n      <td>Norm</td>\n      <td>Norm</td>\n      <td>...</td>\n      <td>857</td>\n      <td>150</td>\n      <td>59</td>\n      <td>0</td>\n      <td>0</td>\n      <td>0</td>\n      <td>0</td>\n      <td>0</td>\n      <td>7</td>\n      <td>2008</td>\n    </tr>\n    <tr>\n      <th>303</th>\n      <td>RL</td>\n      <td>Pave</td>\n      <td>NaN</td>\n      <td>IR1</td>\n      <td>Lvl</td>\n      <td>AllPub</td>\n      <td>Corner</td>\n      <td>Gtl</td>\n      <td>Norm</td>\n      <td>Norm</td>\n      <td>...</td>\n      <td>843</td>\n      <td>468</td>\n      <td>81</td>\n      <td>0</td>\n      <td>0</td>\n      <td>0</td>\n      <td>0</td>\n      <td>0</td>\n      <td>1</td>\n      <td>2006</td>\n    </tr>\n  </tbody>\n</table>\n<p>5 rows × 76 columns</p>\n</div>"
          },
          "metadata": {}
        }
      ]
    },
    {
      "cell_type": "markdown",
      "source": [
        "The next code cell uses code from the tutorial to preprocess the data and train a model.  Run this code without changes."
      ],
      "metadata": {
        "id": "uzZqUIwVks1i"
      }
    },
    {
      "cell_type": "code",
      "source": [
        "from sklearn.compose import ColumnTransformer\n",
        "from sklearn.pipeline import Pipeline\n",
        "from sklearn.impute import SimpleImputer\n",
        "from sklearn.preprocessing import OneHotEncoder\n",
        "from sklearn.ensemble import RandomForestRegressor\n",
        "from sklearn.metrics import mean_absolute_error\n",
        "\n",
        "# Preprocessing for numerical data\n",
        "numerical_transformer = SimpleImputer(strategy='constant')\n",
        "\n",
        "# Preprocessing for categorical data\n",
        "categorical_transformer = Pipeline(steps=[\n",
        "    ('imputer', SimpleImputer(strategy='most_frequent')),\n",
        "    ('onehot', OneHotEncoder(handle_unknown='ignore'))\n",
        "])\n",
        "\n",
        "# Bundle preprocessing for numerical and categorical data\n",
        "preprocessor = ColumnTransformer(\n",
        "    transformers=[\n",
        "        ('num', numerical_transformer, numerical_cols),\n",
        "        ('cat', categorical_transformer, categorical_cols)\n",
        "    ])\n",
        "\n",
        "# Define model\n",
        "model = RandomForestRegressor(n_estimators=100, random_state=0)\n",
        "\n",
        "# Bundle preprocessing and modeling code in a pipeline\n",
        "clf = Pipeline(steps=[('preprocessor', preprocessor),\n",
        "                      ('model', model)\n",
        "                     ])\n",
        "\n",
        "# Preprocessing of training data, fit model\n",
        "clf.fit(X_train, y_train)\n",
        "\n",
        "# Preprocessing of validation data, get predictions\n",
        "preds = clf.predict(X_valid)\n",
        "\n",
        "print('MAE:', mean_absolute_error(y_valid, preds))"
      ],
      "metadata": {
        "execution": {
          "iopub.status.busy": "2023-12-23T16:44:31.663022Z",
          "iopub.execute_input": "2023-12-23T16:44:31.663487Z",
          "iopub.status.idle": "2023-12-23T16:44:34.897661Z",
          "shell.execute_reply.started": "2023-12-23T16:44:31.663452Z",
          "shell.execute_reply": "2023-12-23T16:44:34.896287Z"
        },
        "trusted": true,
        "id": "k8YmPMbWks1j",
        "outputId": "377dee55-cde3-4a80-8682-75ec8b390520"
      },
      "execution_count": null,
      "outputs": [
        {
          "name": "stdout",
          "text": "MAE: 17614.81993150685\n",
          "output_type": "stream"
        }
      ]
    },
    {
      "cell_type": "markdown",
      "source": [
        "The code yields a value around 17862 for the mean absolute error (MAE).  In the next step, you will amend the code to do better.\n",
        "\n",
        "# Step 1: Improve the performance\n",
        "\n",
        "### Part A\n",
        "\n",
        "Now, it's your turn!  In the code cell below, define your own preprocessing steps and random forest model.  Fill in values for the following variables:\n",
        "- `numerical_transformer`\n",
        "- `categorical_transformer`\n",
        "- `model`\n",
        "\n",
        "To pass this part of the exercise, you need only define valid preprocessing steps and a random forest model."
      ],
      "metadata": {
        "id": "tF9r8d74ks1k"
      }
    },
    {
      "cell_type": "code",
      "source": [
        "# Preprocessing for numerical data\n",
        "numerical_transformer = SimpleImputer(strategy='constant')\n",
        "\n",
        "# Preprocessing for categorical data\n",
        "categorical_transformer = Pipeline(steps=[\n",
        "    ('imputer', SimpleImputer(strategy='constant')),\n",
        "    ('onehot', OneHotEncoder(handle_unknown='ignore'))\n",
        "])\n",
        "\n",
        "# Bundle preprocessing for numerical and categorical data\n",
        "preprocessor = ColumnTransformer(\n",
        "    transformers=[\n",
        "        ('num', numerical_transformer, numerical_cols),\n",
        "        ('cat', categorical_transformer, categorical_cols)\n",
        "    ])\n",
        "\n",
        "# Define model\n",
        "model = RandomForestRegressor(n_estimators=100, random_state=0)\n",
        "\n",
        "# Check your answer\n",
        "step_1.a.check()"
      ],
      "metadata": {
        "execution": {
          "iopub.status.busy": "2023-12-23T16:45:19.988526Z",
          "iopub.execute_input": "2023-12-23T16:45:19.989624Z",
          "iopub.status.idle": "2023-12-23T16:45:20.008888Z",
          "shell.execute_reply.started": "2023-12-23T16:45:19.989548Z",
          "shell.execute_reply": "2023-12-23T16:45:20.007512Z"
        },
        "trusted": true,
        "id": "kgFV72a6ks1l",
        "outputId": "8dd4fbe6-cebf-4a95-e8bc-7a66a352f238"
      },
      "execution_count": null,
      "outputs": [
        {
          "output_type": "display_data",
          "data": {
            "text/plain": "<IPython.core.display.Javascript object>",
            "application/javascript": "parent.postMessage({\"jupyterEvent\": \"custom.exercise_interaction\", \"data\": {\"outcomeType\": 1, \"valueTowardsCompletion\": 1.0, \"interactionType\": 1, \"questionType\": 2, \"questionId\": \"1.1_YourTurnModel\", \"learnToolsVersion\": \"0.3.4\", \"failureMessage\": \"\", \"exceptionClass\": \"\", \"trace\": \"\"}}, \"*\")"
          },
          "metadata": {}
        },
        {
          "output_type": "display_data",
          "data": {
            "text/plain": "Correct",
            "text/markdown": "<span style=\"color:#33cc33\">Correct</span>"
          },
          "metadata": {}
        }
      ]
    },
    {
      "cell_type": "code",
      "source": [
        "# Lines below will give you a hint or solution code\n",
        "#step_1.a.hint()\n",
        "#step_1.a.solution()"
      ],
      "metadata": {
        "execution": {
          "iopub.status.busy": "2023-12-23T16:45:27.377401Z",
          "iopub.execute_input": "2023-12-23T16:45:27.378491Z",
          "iopub.status.idle": "2023-12-23T16:45:27.384475Z",
          "shell.execute_reply.started": "2023-12-23T16:45:27.378429Z",
          "shell.execute_reply": "2023-12-23T16:45:27.382950Z"
        },
        "trusted": true,
        "id": "t03vbL_Gks1m"
      },
      "execution_count": null,
      "outputs": []
    },
    {
      "cell_type": "markdown",
      "source": [
        "### Part B\n",
        "\n",
        "Run the code cell below without changes.\n",
        "\n",
        "To pass this step, you need to have defined a pipeline in **Part A** that achieves lower MAE than the code above.  You're encouraged to take your time here and try out many different approaches, to see how low you can get the MAE!  (_If your code does not pass, please amend the preprocessing steps and model in Part A._)"
      ],
      "metadata": {
        "id": "4DSbIK-Gks1m"
      }
    },
    {
      "cell_type": "code",
      "source": [
        "# Bundle preprocessing and modeling code in a pipeline\n",
        "my_pipeline = Pipeline(steps=[('preprocessor', preprocessor),\n",
        "                              ('model', model)\n",
        "                             ])\n",
        "\n",
        "# Preprocessing of training data, fit model\n",
        "my_pipeline.fit(X_train, y_train)\n",
        "\n",
        "# Preprocessing of validation data, get predictions\n",
        "preds = my_pipeline.predict(X_valid)\n",
        "\n",
        "# Evaluate the model\n",
        "score = mean_absolute_error(y_valid, preds)\n",
        "print('MAE:', score)\n",
        "\n",
        "# Check your answer\n",
        "step_1.b.check()"
      ],
      "metadata": {
        "execution": {
          "iopub.status.busy": "2023-12-23T16:45:30.439140Z",
          "iopub.execute_input": "2023-12-23T16:45:30.439655Z",
          "iopub.status.idle": "2023-12-23T16:45:33.289167Z",
          "shell.execute_reply.started": "2023-12-23T16:45:30.439616Z",
          "shell.execute_reply": "2023-12-23T16:45:33.287680Z"
        },
        "trusted": true,
        "id": "sVzV9Gw2ks1n",
        "outputId": "5f0b7b17-6c6f-4567-a13c-4fc1b43c5f98"
      },
      "execution_count": null,
      "outputs": [
        {
          "name": "stdout",
          "text": "MAE: 17540.473424657535\n",
          "output_type": "stream"
        },
        {
          "output_type": "display_data",
          "data": {
            "text/plain": "<IPython.core.display.Javascript object>",
            "application/javascript": "parent.postMessage({\"jupyterEvent\": \"custom.exercise_interaction\", \"data\": {\"outcomeType\": 1, \"valueTowardsCompletion\": 1.0, \"interactionType\": 1, \"questionType\": 2, \"questionId\": \"1.2_YourTurnPredict\", \"learnToolsVersion\": \"0.3.4\", \"failureMessage\": \"\", \"exceptionClass\": \"\", \"trace\": \"\"}}, \"*\")"
          },
          "metadata": {}
        },
        {
          "output_type": "display_data",
          "data": {
            "text/plain": "Correct",
            "text/markdown": "<span style=\"color:#33cc33\">Correct</span>"
          },
          "metadata": {}
        }
      ]
    },
    {
      "cell_type": "code",
      "source": [
        "# Line below will give you a hint\n",
        "#step_1.b.hint()"
      ],
      "metadata": {
        "id": "N0bvWLZrks1n"
      },
      "execution_count": null,
      "outputs": []
    },
    {
      "cell_type": "markdown",
      "source": [
        "# Step 2: Generate test predictions\n",
        "\n",
        "Now, you'll use your trained model to generate predictions with the test data."
      ],
      "metadata": {
        "id": "AFz1LaAJks1n"
      }
    },
    {
      "cell_type": "code",
      "source": [
        "# Preprocessing of test data, fit model\n",
        "preds_test = my_pipeline.predict(X_test) # Your code here\n",
        "\n",
        "# Check your answer\n",
        "step_2.check()"
      ],
      "metadata": {
        "execution": {
          "iopub.status.busy": "2023-12-23T16:46:03.512245Z",
          "iopub.execute_input": "2023-12-23T16:46:03.512787Z",
          "iopub.status.idle": "2023-12-23T16:46:03.607966Z",
          "shell.execute_reply.started": "2023-12-23T16:46:03.512745Z",
          "shell.execute_reply": "2023-12-23T16:46:03.606669Z"
        },
        "trusted": true,
        "id": "mBKA--cxks1o",
        "outputId": "f5ad6514-c85b-4e23-a4cb-8a38c452d841"
      },
      "execution_count": null,
      "outputs": [
        {
          "output_type": "display_data",
          "data": {
            "text/plain": "<IPython.core.display.Javascript object>",
            "application/javascript": "parent.postMessage({\"jupyterEvent\": \"custom.exercise_interaction\", \"data\": {\"outcomeType\": 1, \"valueTowardsCompletion\": 1.0, \"interactionType\": 1, \"questionType\": 2, \"questionId\": \"2_TestPreds\", \"learnToolsVersion\": \"0.3.4\", \"failureMessage\": \"\", \"exceptionClass\": \"\", \"trace\": \"\"}}, \"*\")"
          },
          "metadata": {}
        },
        {
          "output_type": "display_data",
          "data": {
            "text/plain": "Correct",
            "text/markdown": "<span style=\"color:#33cc33\">Correct</span>"
          },
          "metadata": {}
        }
      ]
    },
    {
      "cell_type": "code",
      "source": [
        "# Lines below will give you a hint or solution code\n",
        "#step_2.hint()\n",
        "#step_2.solution()"
      ],
      "metadata": {
        "execution": {
          "iopub.status.busy": "2023-12-23T16:45:46.456116Z",
          "iopub.execute_input": "2023-12-23T16:45:46.456557Z",
          "iopub.status.idle": "2023-12-23T16:45:46.468108Z",
          "shell.execute_reply.started": "2023-12-23T16:45:46.456527Z",
          "shell.execute_reply": "2023-12-23T16:45:46.466328Z"
        },
        "trusted": true,
        "id": "GSUquyFZks1o",
        "outputId": "89fe2dce-7612-49f6-d13b-168f96809bd9"
      },
      "execution_count": null,
      "outputs": [
        {
          "output_type": "display_data",
          "data": {
            "text/plain": "<IPython.core.display.Javascript object>",
            "application/javascript": "parent.postMessage({\"jupyterEvent\": \"custom.exercise_interaction\", \"data\": {\"interactionType\": 3, \"questionType\": 2, \"questionId\": \"2_TestPreds\", \"learnToolsVersion\": \"0.3.4\", \"valueTowardsCompletion\": 0.0, \"failureMessage\": \"\", \"exceptionClass\": \"\", \"trace\": \"\", \"outcomeType\": 4}}, \"*\")"
          },
          "metadata": {}
        },
        {
          "output_type": "display_data",
          "data": {
            "text/plain": "Solution: \n```python\n# Preprocessing of test data, fit model\npreds_test = my_pipeline.predict(X_test)\n\n```",
            "text/markdown": "<span style=\"color:#33cc99\">Solution:</span> \n```python\n# Preprocessing of test data, fit model\npreds_test = my_pipeline.predict(X_test)\n\n```"
          },
          "metadata": {}
        }
      ]
    },
    {
      "cell_type": "markdown",
      "source": [
        "Run the next code cell without changes to save your results to a CSV file that can be submitted directly to the competition."
      ],
      "metadata": {
        "id": "wAik2xy5ks1o"
      }
    },
    {
      "cell_type": "code",
      "source": [
        "# Save test predictions to file\n",
        "output = pd.DataFrame({'Id': X_test.index,\n",
        "                       'SalePrice': preds_test})\n",
        "output.to_csv('submission.csv', index=False)"
      ],
      "metadata": {
        "execution": {
          "iopub.status.busy": "2023-12-23T16:46:10.959905Z",
          "iopub.execute_input": "2023-12-23T16:46:10.960327Z",
          "iopub.status.idle": "2023-12-23T16:46:10.974451Z",
          "shell.execute_reply.started": "2023-12-23T16:46:10.960294Z",
          "shell.execute_reply": "2023-12-23T16:46:10.972870Z"
        },
        "trusted": true,
        "id": "MRqsd3d-ks1o"
      },
      "execution_count": null,
      "outputs": []
    },
    {
      "cell_type": "markdown",
      "source": [
        "# Submit your results\n",
        "\n",
        "Once you have successfully completed Step 2, you're ready to submit your results to the leaderboard!  If you choose to do so, make sure that you have already joined the competition by clicking on the **Join Competition** button at [this link](https://www.kaggle.com/c/home-data-for-ml-course).  \n",
        "1. Begin by clicking on the **Save Version** button in the top right corner of the window.  This will generate a pop-up window.  \n",
        "2. Ensure that the **Save and Run All** option is selected, and then click on the **Save** button.\n",
        "3. This generates a window in the bottom left corner of the notebook.  After it has finished running, click on the number to the right of the **Save Version** button.  This pulls up a list of versions on the right of the screen.  Click on the ellipsis **(...)** to the right of the most recent version, and select **Open in Viewer**.  This brings you into view mode of the same page. You will need to scroll down to get back to these instructions.\n",
        "4. Click on the **Data** tab near the top of the screen.  Then, click on the file you would like to submit, and click on the **Submit** button to submit your results to the leaderboard.\n",
        "\n",
        "You have now successfully submitted to the competition!\n",
        "\n",
        "If you want to keep working to improve your performance, select the **Edit** button in the top right of the screen. Then you can change your code and repeat the process. There's a lot of room to improve, and you will climb up the leaderboard as you work.\n",
        "\n",
        "\n",
        "# Keep going\n",
        "\n",
        "Move on to learn about [**cross-validation**](https://www.kaggle.com/alexisbcook/cross-validation), a technique you can use to obtain more accurate estimates of model performance!"
      ],
      "metadata": {
        "id": "b40xqSZ_ks1p"
      }
    },
    {
      "cell_type": "markdown",
      "source": [
        "---\n",
        "\n",
        "\n",
        "\n",
        "\n",
        "*Have questions or comments? Visit the [course discussion forum](https://www.kaggle.com/learn/intermediate-machine-learning/discussion) to chat with other learners.*"
      ],
      "metadata": {
        "id": "kLG_Wyg_ks1p"
      }
    }
  ]
}