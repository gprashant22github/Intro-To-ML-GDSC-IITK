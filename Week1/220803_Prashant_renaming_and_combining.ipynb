{
  "cells": [
    {
      "cell_type": "markdown",
      "id": "d1094c6f",
      "metadata": {
        "papermill": {
          "duration": 0.005219,
          "end_time": "2023-12-16T18:48:10.927301",
          "exception": false,
          "start_time": "2023-12-16T18:48:10.922082",
          "status": "completed"
        },
        "tags": [],
        "id": "d1094c6f"
      },
      "source": [
        "**This notebook is an exercise in the [Pandas](https://www.kaggle.com/learn/pandas) course.  You can reference the tutorial at [this link](https://www.kaggle.com/residentmario/renaming-and-combining).**\n",
        "\n",
        "---\n"
      ]
    },
    {
      "cell_type": "markdown",
      "id": "1dff99e0",
      "metadata": {
        "papermill": {
          "duration": 0.004435,
          "end_time": "2023-12-16T18:48:10.936925",
          "exception": false,
          "start_time": "2023-12-16T18:48:10.932490",
          "status": "completed"
        },
        "tags": [],
        "id": "1dff99e0"
      },
      "source": [
        "# Introduction\n",
        "\n",
        "Run the following cell to load your data and some utility functions."
      ]
    },
    {
      "cell_type": "code",
      "execution_count": null,
      "id": "b1f804b0",
      "metadata": {
        "execution": {
          "iopub.execute_input": "2023-12-16T18:48:10.948156Z",
          "iopub.status.busy": "2023-12-16T18:48:10.947795Z",
          "iopub.status.idle": "2023-12-16T18:48:14.698512Z",
          "shell.execute_reply": "2023-12-16T18:48:14.697110Z"
        },
        "papermill": {
          "duration": 3.759226,
          "end_time": "2023-12-16T18:48:14.700801",
          "exception": false,
          "start_time": "2023-12-16T18:48:10.941575",
          "status": "completed"
        },
        "tags": [],
        "id": "b1f804b0",
        "outputId": "41f9f7b3-4123-4f75-9854-e04fa0cd7491"
      },
      "outputs": [
        {
          "name": "stdout",
          "output_type": "stream",
          "text": [
            "Setup complete.\n"
          ]
        }
      ],
      "source": [
        "import pandas as pd\n",
        "\n",
        "reviews = pd.read_csv(\"../input/wine-reviews/winemag-data-130k-v2.csv\", index_col=0)\n",
        "\n",
        "from learntools.core import binder; binder.bind(globals())\n",
        "from learntools.pandas.renaming_and_combining import *\n",
        "print(\"Setup complete.\")"
      ]
    },
    {
      "cell_type": "markdown",
      "id": "2f1c4ea0",
      "metadata": {
        "papermill": {
          "duration": 0.004432,
          "end_time": "2023-12-16T18:48:14.710201",
          "exception": false,
          "start_time": "2023-12-16T18:48:14.705769",
          "status": "completed"
        },
        "tags": [],
        "id": "2f1c4ea0"
      },
      "source": [
        "# Exercises\n",
        "\n",
        "View the first several lines of your data by running the cell below:"
      ]
    },
    {
      "cell_type": "code",
      "execution_count": null,
      "id": "1616f45c",
      "metadata": {
        "execution": {
          "iopub.execute_input": "2023-12-16T18:48:14.721264Z",
          "iopub.status.busy": "2023-12-16T18:48:14.720921Z",
          "iopub.status.idle": "2023-12-16T18:48:14.741145Z",
          "shell.execute_reply": "2023-12-16T18:48:14.740005Z"
        },
        "papermill": {
          "duration": 0.02892,
          "end_time": "2023-12-16T18:48:14.743707",
          "exception": false,
          "start_time": "2023-12-16T18:48:14.714787",
          "status": "completed"
        },
        "tags": [],
        "id": "1616f45c",
        "outputId": "d8672ba8-45e5-4551-cdf5-610e0792dd40"
      },
      "outputs": [
        {
          "data": {
            "text/html": [
              "<div>\n",
              "<style scoped>\n",
              "    .dataframe tbody tr th:only-of-type {\n",
              "        vertical-align: middle;\n",
              "    }\n",
              "\n",
              "    .dataframe tbody tr th {\n",
              "        vertical-align: top;\n",
              "    }\n",
              "\n",
              "    .dataframe thead th {\n",
              "        text-align: right;\n",
              "    }\n",
              "</style>\n",
              "<table border=\"1\" class=\"dataframe\">\n",
              "  <thead>\n",
              "    <tr style=\"text-align: right;\">\n",
              "      <th></th>\n",
              "      <th>country</th>\n",
              "      <th>description</th>\n",
              "      <th>designation</th>\n",
              "      <th>points</th>\n",
              "      <th>price</th>\n",
              "      <th>province</th>\n",
              "      <th>region_1</th>\n",
              "      <th>region_2</th>\n",
              "      <th>taster_name</th>\n",
              "      <th>taster_twitter_handle</th>\n",
              "      <th>title</th>\n",
              "      <th>variety</th>\n",
              "      <th>winery</th>\n",
              "    </tr>\n",
              "  </thead>\n",
              "  <tbody>\n",
              "    <tr>\n",
              "      <th>0</th>\n",
              "      <td>Italy</td>\n",
              "      <td>Aromas include tropical fruit, broom, brimston...</td>\n",
              "      <td>Vulkà Bianco</td>\n",
              "      <td>87</td>\n",
              "      <td>NaN</td>\n",
              "      <td>Sicily &amp; Sardinia</td>\n",
              "      <td>Etna</td>\n",
              "      <td>NaN</td>\n",
              "      <td>Kerin O’Keefe</td>\n",
              "      <td>@kerinokeefe</td>\n",
              "      <td>Nicosia 2013 Vulkà Bianco  (Etna)</td>\n",
              "      <td>White Blend</td>\n",
              "      <td>Nicosia</td>\n",
              "    </tr>\n",
              "    <tr>\n",
              "      <th>1</th>\n",
              "      <td>Portugal</td>\n",
              "      <td>This is ripe and fruity, a wine that is smooth...</td>\n",
              "      <td>Avidagos</td>\n",
              "      <td>87</td>\n",
              "      <td>15.0</td>\n",
              "      <td>Douro</td>\n",
              "      <td>NaN</td>\n",
              "      <td>NaN</td>\n",
              "      <td>Roger Voss</td>\n",
              "      <td>@vossroger</td>\n",
              "      <td>Quinta dos Avidagos 2011 Avidagos Red (Douro)</td>\n",
              "      <td>Portuguese Red</td>\n",
              "      <td>Quinta dos Avidagos</td>\n",
              "    </tr>\n",
              "    <tr>\n",
              "      <th>2</th>\n",
              "      <td>US</td>\n",
              "      <td>Tart and snappy, the flavors of lime flesh and...</td>\n",
              "      <td>NaN</td>\n",
              "      <td>87</td>\n",
              "      <td>14.0</td>\n",
              "      <td>Oregon</td>\n",
              "      <td>Willamette Valley</td>\n",
              "      <td>Willamette Valley</td>\n",
              "      <td>Paul Gregutt</td>\n",
              "      <td>@paulgwine</td>\n",
              "      <td>Rainstorm 2013 Pinot Gris (Willamette Valley)</td>\n",
              "      <td>Pinot Gris</td>\n",
              "      <td>Rainstorm</td>\n",
              "    </tr>\n",
              "    <tr>\n",
              "      <th>3</th>\n",
              "      <td>US</td>\n",
              "      <td>Pineapple rind, lemon pith and orange blossom ...</td>\n",
              "      <td>Reserve Late Harvest</td>\n",
              "      <td>87</td>\n",
              "      <td>13.0</td>\n",
              "      <td>Michigan</td>\n",
              "      <td>Lake Michigan Shore</td>\n",
              "      <td>NaN</td>\n",
              "      <td>Alexander Peartree</td>\n",
              "      <td>NaN</td>\n",
              "      <td>St. Julian 2013 Reserve Late Harvest Riesling ...</td>\n",
              "      <td>Riesling</td>\n",
              "      <td>St. Julian</td>\n",
              "    </tr>\n",
              "    <tr>\n",
              "      <th>4</th>\n",
              "      <td>US</td>\n",
              "      <td>Much like the regular bottling from 2012, this...</td>\n",
              "      <td>Vintner's Reserve Wild Child Block</td>\n",
              "      <td>87</td>\n",
              "      <td>65.0</td>\n",
              "      <td>Oregon</td>\n",
              "      <td>Willamette Valley</td>\n",
              "      <td>Willamette Valley</td>\n",
              "      <td>Paul Gregutt</td>\n",
              "      <td>@paulgwine</td>\n",
              "      <td>Sweet Cheeks 2012 Vintner's Reserve Wild Child...</td>\n",
              "      <td>Pinot Noir</td>\n",
              "      <td>Sweet Cheeks</td>\n",
              "    </tr>\n",
              "  </tbody>\n",
              "</table>\n",
              "</div>"
            ],
            "text/plain": [
              "    country                                        description  \\\n",
              "0     Italy  Aromas include tropical fruit, broom, brimston...   \n",
              "1  Portugal  This is ripe and fruity, a wine that is smooth...   \n",
              "2        US  Tart and snappy, the flavors of lime flesh and...   \n",
              "3        US  Pineapple rind, lemon pith and orange blossom ...   \n",
              "4        US  Much like the regular bottling from 2012, this...   \n",
              "\n",
              "                          designation  points  price           province  \\\n",
              "0                        Vulkà Bianco      87    NaN  Sicily & Sardinia   \n",
              "1                            Avidagos      87   15.0              Douro   \n",
              "2                                 NaN      87   14.0             Oregon   \n",
              "3                Reserve Late Harvest      87   13.0           Michigan   \n",
              "4  Vintner's Reserve Wild Child Block      87   65.0             Oregon   \n",
              "\n",
              "              region_1           region_2         taster_name  \\\n",
              "0                 Etna                NaN       Kerin O’Keefe   \n",
              "1                  NaN                NaN          Roger Voss   \n",
              "2    Willamette Valley  Willamette Valley        Paul Gregutt   \n",
              "3  Lake Michigan Shore                NaN  Alexander Peartree   \n",
              "4    Willamette Valley  Willamette Valley        Paul Gregutt   \n",
              "\n",
              "  taster_twitter_handle                                              title  \\\n",
              "0          @kerinokeefe                  Nicosia 2013 Vulkà Bianco  (Etna)   \n",
              "1            @vossroger      Quinta dos Avidagos 2011 Avidagos Red (Douro)   \n",
              "2           @paulgwine       Rainstorm 2013 Pinot Gris (Willamette Valley)   \n",
              "3                   NaN  St. Julian 2013 Reserve Late Harvest Riesling ...   \n",
              "4           @paulgwine   Sweet Cheeks 2012 Vintner's Reserve Wild Child...   \n",
              "\n",
              "          variety               winery  \n",
              "0     White Blend              Nicosia  \n",
              "1  Portuguese Red  Quinta dos Avidagos  \n",
              "2      Pinot Gris            Rainstorm  \n",
              "3        Riesling           St. Julian  \n",
              "4      Pinot Noir         Sweet Cheeks  "
            ]
          },
          "execution_count": 2,
          "metadata": {},
          "output_type": "execute_result"
        }
      ],
      "source": [
        "reviews.head()"
      ]
    },
    {
      "cell_type": "markdown",
      "id": "079b75ae",
      "metadata": {
        "papermill": {
          "duration": 0.004665,
          "end_time": "2023-12-16T18:48:14.753764",
          "exception": false,
          "start_time": "2023-12-16T18:48:14.749099",
          "status": "completed"
        },
        "tags": [],
        "id": "079b75ae"
      },
      "source": [
        "## 1.\n",
        "`region_1` and `region_2` are pretty uninformative names for locale columns in the dataset. Create a copy of `reviews` with these columns renamed to `region` and `locale`, respectively."
      ]
    },
    {
      "cell_type": "code",
      "execution_count": null,
      "id": "83889316",
      "metadata": {
        "execution": {
          "iopub.execute_input": "2023-12-16T18:48:14.765428Z",
          "iopub.status.busy": "2023-12-16T18:48:14.765079Z",
          "iopub.status.idle": "2023-12-16T18:48:14.787787Z",
          "shell.execute_reply": "2023-12-16T18:48:14.786462Z"
        },
        "papermill": {
          "duration": 0.031202,
          "end_time": "2023-12-16T18:48:14.789983",
          "exception": false,
          "start_time": "2023-12-16T18:48:14.758781",
          "status": "completed"
        },
        "tags": [],
        "id": "83889316",
        "outputId": "63384cbb-106e-4982-9a84-08d7a5b456af"
      },
      "outputs": [
        {
          "data": {
            "application/javascript": [
              "parent.postMessage({\"jupyterEvent\": \"custom.exercise_interaction\", \"data\": {\"outcomeType\": 1, \"valueTowardsCompletion\": 0.25, \"interactionType\": 1, \"questionType\": 1, \"questionId\": \"1_RenameCols\", \"learnToolsVersion\": \"0.3.4\", \"failureMessage\": \"\", \"exceptionClass\": \"\", \"trace\": \"\"}}, \"*\")"
            ],
            "text/plain": [
              "<IPython.core.display.Javascript object>"
            ]
          },
          "metadata": {},
          "output_type": "display_data"
        },
        {
          "data": {
            "text/markdown": [
              "<span style=\"color:#33cc33\">Correct</span>"
            ],
            "text/plain": [
              "Correct"
            ]
          },
          "metadata": {},
          "output_type": "display_data"
        }
      ],
      "source": [
        "# Your code here\n",
        "renamed = reviews.rename(columns=dict(region_1='region', region_2='locale'))\n",
        "\n",
        "# Check your answer\n",
        "q1.check()"
      ]
    },
    {
      "cell_type": "code",
      "execution_count": null,
      "id": "66049d0b",
      "metadata": {
        "execution": {
          "iopub.execute_input": "2023-12-16T18:48:14.802993Z",
          "iopub.status.busy": "2023-12-16T18:48:14.802622Z",
          "iopub.status.idle": "2023-12-16T18:48:14.807029Z",
          "shell.execute_reply": "2023-12-16T18:48:14.805771Z"
        },
        "papermill": {
          "duration": 0.013837,
          "end_time": "2023-12-16T18:48:14.809430",
          "exception": false,
          "start_time": "2023-12-16T18:48:14.795593",
          "status": "completed"
        },
        "tags": [],
        "id": "66049d0b"
      },
      "outputs": [],
      "source": [
        "#q1.hint()\n",
        "#q1.solution()"
      ]
    },
    {
      "cell_type": "markdown",
      "id": "8f5fb32d",
      "metadata": {
        "papermill": {
          "duration": 0.005023,
          "end_time": "2023-12-16T18:48:14.819962",
          "exception": false,
          "start_time": "2023-12-16T18:48:14.814939",
          "status": "completed"
        },
        "tags": [],
        "id": "8f5fb32d"
      },
      "source": [
        "## 2.\n",
        "Set the index name in the dataset to `wines`."
      ]
    },
    {
      "cell_type": "code",
      "execution_count": null,
      "id": "0b82dd75",
      "metadata": {
        "execution": {
          "iopub.execute_input": "2023-12-16T18:48:14.833052Z",
          "iopub.status.busy": "2023-12-16T18:48:14.832696Z",
          "iopub.status.idle": "2023-12-16T18:48:14.852162Z",
          "shell.execute_reply": "2023-12-16T18:48:14.851150Z"
        },
        "papermill": {
          "duration": 0.02881,
          "end_time": "2023-12-16T18:48:14.853892",
          "exception": false,
          "start_time": "2023-12-16T18:48:14.825082",
          "status": "completed"
        },
        "tags": [],
        "id": "0b82dd75",
        "outputId": "959e4274-68d4-42d5-cc9a-2b09c6d3c848"
      },
      "outputs": [
        {
          "data": {
            "application/javascript": [
              "parent.postMessage({\"jupyterEvent\": \"custom.exercise_interaction\", \"data\": {\"outcomeType\": 1, \"valueTowardsCompletion\": 0.25, \"interactionType\": 1, \"questionType\": 1, \"questionId\": \"2_RenameIndex\", \"learnToolsVersion\": \"0.3.4\", \"failureMessage\": \"\", \"exceptionClass\": \"\", \"trace\": \"\"}}, \"*\")"
            ],
            "text/plain": [
              "<IPython.core.display.Javascript object>"
            ]
          },
          "metadata": {},
          "output_type": "display_data"
        },
        {
          "data": {
            "text/markdown": [
              "<span style=\"color:#33cc33\">Correct</span>"
            ],
            "text/plain": [
              "Correct"
            ]
          },
          "metadata": {},
          "output_type": "display_data"
        }
      ],
      "source": [
        "reindexed = reviews.rename_axis('wines', axis='rows')\n",
        "\n",
        "# Check your answer\n",
        "q2.check()"
      ]
    },
    {
      "cell_type": "code",
      "execution_count": null,
      "id": "d5dcfbdd",
      "metadata": {
        "execution": {
          "iopub.execute_input": "2023-12-16T18:48:14.866733Z",
          "iopub.status.busy": "2023-12-16T18:48:14.866383Z",
          "iopub.status.idle": "2023-12-16T18:48:14.871801Z",
          "shell.execute_reply": "2023-12-16T18:48:14.870661Z"
        },
        "papermill": {
          "duration": 0.014622,
          "end_time": "2023-12-16T18:48:14.874184",
          "exception": false,
          "start_time": "2023-12-16T18:48:14.859562",
          "status": "completed"
        },
        "tags": [],
        "id": "d5dcfbdd"
      },
      "outputs": [],
      "source": [
        "#q2.hint()\n",
        "#q2.solution()"
      ]
    },
    {
      "cell_type": "markdown",
      "id": "d0592e5f",
      "metadata": {
        "papermill": {
          "duration": 0.00546,
          "end_time": "2023-12-16T18:48:14.885555",
          "exception": false,
          "start_time": "2023-12-16T18:48:14.880095",
          "status": "completed"
        },
        "tags": [],
        "id": "d0592e5f"
      },
      "source": [
        "## 3.\n",
        "The [Things on Reddit](https://www.kaggle.com/residentmario/things-on-reddit/data) dataset includes product links from a selection of top-ranked forums (\"subreddits\") on reddit.com. Run the cell below to load a dataframe of products mentioned on the */r/gaming* subreddit and another dataframe for products mentioned on the *r//movies* subreddit."
      ]
    },
    {
      "cell_type": "code",
      "execution_count": null,
      "id": "b96dba98",
      "metadata": {
        "execution": {
          "iopub.execute_input": "2023-12-16T18:48:14.898478Z",
          "iopub.status.busy": "2023-12-16T18:48:14.898119Z",
          "iopub.status.idle": "2023-12-16T18:48:14.912533Z",
          "shell.execute_reply": "2023-12-16T18:48:14.911719Z"
        },
        "papermill": {
          "duration": 0.023673,
          "end_time": "2023-12-16T18:48:14.914824",
          "exception": false,
          "start_time": "2023-12-16T18:48:14.891151",
          "status": "completed"
        },
        "tags": [],
        "id": "b96dba98"
      },
      "outputs": [],
      "source": [
        "gaming_products = pd.read_csv(\"../input/things-on-reddit/top-things/top-things/reddits/g/gaming.csv\")\n",
        "gaming_products['subreddit'] = \"r/gaming\"\n",
        "movie_products = pd.read_csv(\"../input/things-on-reddit/top-things/top-things/reddits/m/movies.csv\")\n",
        "movie_products['subreddit'] = \"r/movies\""
      ]
    },
    {
      "cell_type": "markdown",
      "id": "d9bb35f4",
      "metadata": {
        "papermill": {
          "duration": 0.005325,
          "end_time": "2023-12-16T18:48:14.925767",
          "exception": false,
          "start_time": "2023-12-16T18:48:14.920442",
          "status": "completed"
        },
        "tags": [],
        "id": "d9bb35f4"
      },
      "source": [
        "Create a `DataFrame` of products mentioned on *either* subreddit."
      ]
    },
    {
      "cell_type": "code",
      "execution_count": null,
      "id": "18583423",
      "metadata": {
        "execution": {
          "iopub.execute_input": "2023-12-16T18:48:14.938611Z",
          "iopub.status.busy": "2023-12-16T18:48:14.938287Z",
          "iopub.status.idle": "2023-12-16T18:48:14.949363Z",
          "shell.execute_reply": "2023-12-16T18:48:14.948679Z"
        },
        "papermill": {
          "duration": 0.019778,
          "end_time": "2023-12-16T18:48:14.951027",
          "exception": false,
          "start_time": "2023-12-16T18:48:14.931249",
          "status": "completed"
        },
        "tags": [],
        "id": "18583423",
        "outputId": "eb417e12-6036-4212-fb87-8790d62b998b"
      },
      "outputs": [
        {
          "data": {
            "application/javascript": [
              "parent.postMessage({\"jupyterEvent\": \"custom.exercise_interaction\", \"data\": {\"outcomeType\": 1, \"valueTowardsCompletion\": 0.25, \"interactionType\": 1, \"questionType\": 2, \"questionId\": \"3_ConcatReddit\", \"learnToolsVersion\": \"0.3.4\", \"failureMessage\": \"\", \"exceptionClass\": \"\", \"trace\": \"\"}}, \"*\")"
            ],
            "text/plain": [
              "<IPython.core.display.Javascript object>"
            ]
          },
          "metadata": {},
          "output_type": "display_data"
        },
        {
          "data": {
            "text/markdown": [
              "<span style=\"color:#33cc33\">Correct</span>"
            ],
            "text/plain": [
              "Correct"
            ]
          },
          "metadata": {},
          "output_type": "display_data"
        }
      ],
      "source": [
        "combined_products = pd.concat([gaming_products, movie_products])\n",
        "\n",
        "# Check your answer\n",
        "q3.check()"
      ]
    },
    {
      "cell_type": "code",
      "execution_count": null,
      "id": "89e76cbb",
      "metadata": {
        "execution": {
          "iopub.execute_input": "2023-12-16T18:48:14.964663Z",
          "iopub.status.busy": "2023-12-16T18:48:14.964252Z",
          "iopub.status.idle": "2023-12-16T18:48:14.968708Z",
          "shell.execute_reply": "2023-12-16T18:48:14.967375Z"
        },
        "papermill": {
          "duration": 0.01346,
          "end_time": "2023-12-16T18:48:14.970533",
          "exception": false,
          "start_time": "2023-12-16T18:48:14.957073",
          "status": "completed"
        },
        "tags": [],
        "id": "89e76cbb"
      },
      "outputs": [],
      "source": [
        "#q3.hint()\n",
        "#q3.solution()"
      ]
    },
    {
      "cell_type": "markdown",
      "id": "ab4f6bef",
      "metadata": {
        "papermill": {
          "duration": 0.005513,
          "end_time": "2023-12-16T18:48:14.982224",
          "exception": false,
          "start_time": "2023-12-16T18:48:14.976711",
          "status": "completed"
        },
        "tags": [],
        "id": "ab4f6bef"
      },
      "source": [
        "## 4.\n",
        "The [Powerlifting Database](https://www.kaggle.com/open-powerlifting/powerlifting-database) dataset on Kaggle includes one CSV table for powerlifting meets and a separate one for powerlifting competitors. Run the cell below to load these datasets into dataframes:"
      ]
    },
    {
      "cell_type": "code",
      "execution_count": null,
      "id": "cbf5b251",
      "metadata": {
        "execution": {
          "iopub.execute_input": "2023-12-16T18:48:14.995245Z",
          "iopub.status.busy": "2023-12-16T18:48:14.994941Z",
          "iopub.status.idle": "2023-12-16T18:48:15.537189Z",
          "shell.execute_reply": "2023-12-16T18:48:15.535624Z"
        },
        "papermill": {
          "duration": 0.551408,
          "end_time": "2023-12-16T18:48:15.539376",
          "exception": false,
          "start_time": "2023-12-16T18:48:14.987968",
          "status": "completed"
        },
        "tags": [],
        "id": "cbf5b251"
      },
      "outputs": [],
      "source": [
        "powerlifting_meets = pd.read_csv(\"../input/powerlifting-database/meets.csv\")\n",
        "powerlifting_competitors = pd.read_csv(\"../input/powerlifting-database/openpowerlifting.csv\")"
      ]
    },
    {
      "cell_type": "markdown",
      "id": "a68a8c73",
      "metadata": {
        "papermill": {
          "duration": 0.005528,
          "end_time": "2023-12-16T18:48:15.550917",
          "exception": false,
          "start_time": "2023-12-16T18:48:15.545389",
          "status": "completed"
        },
        "tags": [],
        "id": "a68a8c73"
      },
      "source": [
        "Both tables include references to a `MeetID`, a unique key for each meet (competition) included in the database. Using this, generate a dataset combining the two tables into one."
      ]
    },
    {
      "cell_type": "code",
      "execution_count": null,
      "id": "b386e7d6",
      "metadata": {
        "execution": {
          "iopub.execute_input": "2023-12-16T18:48:15.564082Z",
          "iopub.status.busy": "2023-12-16T18:48:15.563449Z",
          "iopub.status.idle": "2023-12-16T18:48:16.286594Z",
          "shell.execute_reply": "2023-12-16T18:48:16.285706Z"
        },
        "papermill": {
          "duration": 0.73206,
          "end_time": "2023-12-16T18:48:16.288731",
          "exception": false,
          "start_time": "2023-12-16T18:48:15.556671",
          "status": "completed"
        },
        "tags": [],
        "id": "b386e7d6",
        "outputId": "71abcb0c-77fb-4126-b76d-f30df9f48a7b"
      },
      "outputs": [
        {
          "data": {
            "application/javascript": [
              "parent.postMessage({\"jupyterEvent\": \"custom.exercise_interaction\", \"data\": {\"outcomeType\": 1, \"valueTowardsCompletion\": 0.25, \"interactionType\": 1, \"questionType\": 2, \"questionId\": \"4_JoinLifting\", \"learnToolsVersion\": \"0.3.4\", \"failureMessage\": \"\", \"exceptionClass\": \"\", \"trace\": \"\"}}, \"*\")"
            ],
            "text/plain": [
              "<IPython.core.display.Javascript object>"
            ]
          },
          "metadata": {},
          "output_type": "display_data"
        },
        {
          "data": {
            "text/markdown": [
              "<span style=\"color:#33cc33\">Correct</span>"
            ],
            "text/plain": [
              "Correct"
            ]
          },
          "metadata": {},
          "output_type": "display_data"
        }
      ],
      "source": [
        "powerlifting_combined = powerlifting_meets.set_index(\"MeetID\").join(powerlifting_competitors.set_index(\"MeetID\"))\n",
        "\n",
        "# Check your answer\n",
        "q4.check()"
      ]
    },
    {
      "cell_type": "code",
      "execution_count": null,
      "id": "ba2f88e0",
      "metadata": {
        "execution": {
          "iopub.execute_input": "2023-12-16T18:48:16.304875Z",
          "iopub.status.busy": "2023-12-16T18:48:16.303911Z",
          "iopub.status.idle": "2023-12-16T18:48:16.308789Z",
          "shell.execute_reply": "2023-12-16T18:48:16.307559Z"
        },
        "papermill": {
          "duration": 0.015765,
          "end_time": "2023-12-16T18:48:16.311208",
          "exception": false,
          "start_time": "2023-12-16T18:48:16.295443",
          "status": "completed"
        },
        "tags": [],
        "id": "ba2f88e0"
      },
      "outputs": [],
      "source": [
        "#q4.hint()\n",
        "#q4.solution()"
      ]
    },
    {
      "cell_type": "markdown",
      "id": "bf0b6bb0",
      "metadata": {
        "papermill": {
          "duration": 0.006116,
          "end_time": "2023-12-16T18:48:16.324055",
          "exception": false,
          "start_time": "2023-12-16T18:48:16.317939",
          "status": "completed"
        },
        "tags": [],
        "id": "bf0b6bb0"
      },
      "source": [
        "# Congratulations!\n",
        "\n",
        "You've finished the Pandas micro-course.  Many data scientists feel efficiency with Pandas is the most useful and practical skill they have, because it allows you to progress quickly in any project you have.\n",
        "\n",
        "If you'd like to apply your new skills to examining geospatial data, you're encouraged to check out our **[Geospatial Analysis](https://www.kaggle.com/learn/geospatial-analysis)** micro-course.\n",
        "\n",
        "You can also take advantage of your Pandas skills by entering a **[Kaggle Competition](https://www.kaggle.com/competitions)** or by answering a question you find interesting using **[Kaggle Datasets](https://www.kaggle.com/datasets)**."
      ]
    },
    {
      "cell_type": "markdown",
      "id": "5cdbfa40",
      "metadata": {
        "papermill": {
          "duration": 0.006359,
          "end_time": "2023-12-16T18:48:16.337421",
          "exception": false,
          "start_time": "2023-12-16T18:48:16.331062",
          "status": "completed"
        },
        "tags": [],
        "id": "5cdbfa40"
      },
      "source": [
        "---\n",
        "\n",
        "\n",
        "\n",
        "\n",
        "*Have questions or comments? Visit the [course discussion forum](https://www.kaggle.com/learn/pandas/discussion) to chat with other learners.*"
      ]
    }
  ],
  "metadata": {
    "kaggle": {
      "accelerator": "none",
      "dataSources": [
        {
          "datasetId": 655,
          "sourceId": 1252,
          "sourceType": "datasetVersion"
        },
        {
          "datasetId": 2321,
          "sourceId": 3919,
          "sourceType": "datasetVersion"
        },
        {
          "datasetId": 2894,
          "sourceId": 4877,
          "sourceType": "datasetVersion"
        },
        {
          "datasetId": 3491,
          "sourceId": 5624,
          "sourceType": "datasetVersion"
        },
        {
          "datasetId": 1442,
          "sourceId": 8172,
          "sourceType": "datasetVersion"
        },
        {
          "datasetId": 9366,
          "sourceId": 13206,
          "sourceType": "datasetVersion"
        },
        {
          "datasetId": 179555,
          "sourceId": 403916,
          "sourceType": "datasetVersion"
        },
        {
          "datasetId": 4549,
          "sourceId": 466349,
          "sourceType": "datasetVersion"
        },
        {
          "datasetId": 2478,
          "sourceId": 1151655,
          "sourceType": "datasetVersion"
        },
        {
          "datasetId": 10128,
          "sourceId": 5438389,
          "sourceType": "datasetVersion"
        }
      ],
      "isGpuEnabled": false,
      "isInternetEnabled": false,
      "language": "python",
      "sourceType": "notebook"
    },
    "kernelspec": {
      "display_name": "Python 3",
      "language": "python",
      "name": "python3"
    },
    "language_info": {
      "codemirror_mode": {
        "name": "ipython",
        "version": 3
      },
      "file_extension": ".py",
      "mimetype": "text/x-python",
      "name": "python",
      "nbconvert_exporter": "python",
      "pygments_lexer": "ipython3",
      "version": "3.10.12"
    },
    "papermill": {
      "default_parameters": {},
      "duration": 8.714705,
      "end_time": "2023-12-16T18:48:16.967833",
      "environment_variables": {},
      "exception": null,
      "input_path": "__notebook__.ipynb",
      "output_path": "__notebook__.ipynb",
      "parameters": {},
      "start_time": "2023-12-16T18:48:08.253128",
      "version": "2.4.0"
    },
    "colab": {
      "provenance": []
    }
  },
  "nbformat": 4,
  "nbformat_minor": 5
}