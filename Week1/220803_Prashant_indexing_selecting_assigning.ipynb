{
  "cells": [
    {
      "cell_type": "markdown",
      "id": "1300c081",
      "metadata": {
        "papermill": {
          "duration": 0.011997,
          "end_time": "2023-12-16T18:40:39.886079",
          "exception": false,
          "start_time": "2023-12-16T18:40:39.874082",
          "status": "completed"
        },
        "tags": [],
        "id": "1300c081"
      },
      "source": [
        "**This notebook is an exercise in the [Pandas](https://www.kaggle.com/learn/pandas) course.  You can reference the tutorial at [this link](https://www.kaggle.com/residentmario/indexing-selecting-assigning).**\n",
        "\n",
        "---\n"
      ]
    },
    {
      "cell_type": "markdown",
      "id": "e903003e",
      "metadata": {
        "papermill": {
          "duration": 0.010647,
          "end_time": "2023-12-16T18:40:39.908677",
          "exception": false,
          "start_time": "2023-12-16T18:40:39.898030",
          "status": "completed"
        },
        "tags": [],
        "id": "e903003e"
      },
      "source": [
        "# Introduction\n",
        "\n",
        "In this set of exercises we will work with the [Wine Reviews dataset](https://www.kaggle.com/zynicide/wine-reviews)."
      ]
    },
    {
      "cell_type": "markdown",
      "id": "1eba04c8",
      "metadata": {
        "papermill": {
          "duration": 0.01182,
          "end_time": "2023-12-16T18:40:39.931861",
          "exception": false,
          "start_time": "2023-12-16T18:40:39.920041",
          "status": "completed"
        },
        "tags": [],
        "id": "1eba04c8"
      },
      "source": [
        "Run the following cell to load your data and some utility functions (including code to check your answers)."
      ]
    },
    {
      "cell_type": "code",
      "execution_count": null,
      "id": "52989ccb",
      "metadata": {
        "execution": {
          "iopub.execute_input": "2023-12-16T18:40:39.956264Z",
          "iopub.status.busy": "2023-12-16T18:40:39.955762Z",
          "iopub.status.idle": "2023-12-16T18:40:43.747981Z",
          "shell.execute_reply": "2023-12-16T18:40:43.746988Z"
        },
        "papermill": {
          "duration": 3.807791,
          "end_time": "2023-12-16T18:40:43.750967",
          "exception": false,
          "start_time": "2023-12-16T18:40:39.943176",
          "status": "completed"
        },
        "tags": [],
        "id": "52989ccb",
        "outputId": "06ab45c1-c742-4b98-e183-d2c3aff7a9da"
      },
      "outputs": [
        {
          "name": "stdout",
          "output_type": "stream",
          "text": [
            "Setup complete.\n"
          ]
        }
      ],
      "source": [
        "import pandas as pd\n",
        "\n",
        "reviews = pd.read_csv(\"../input/wine-reviews/winemag-data-130k-v2.csv\", index_col=0)\n",
        "pd.set_option(\"display.max_rows\", 5)\n",
        "\n",
        "from learntools.core import binder; binder.bind(globals())\n",
        "from learntools.pandas.indexing_selecting_and_assigning import *\n",
        "print(\"Setup complete.\")"
      ]
    },
    {
      "cell_type": "markdown",
      "id": "32ff53e9",
      "metadata": {
        "papermill": {
          "duration": 0.011326,
          "end_time": "2023-12-16T18:40:43.773676",
          "exception": false,
          "start_time": "2023-12-16T18:40:43.762350",
          "status": "completed"
        },
        "tags": [],
        "id": "32ff53e9"
      },
      "source": [
        "Look at an overview of your data by running the following line."
      ]
    },
    {
      "cell_type": "code",
      "execution_count": null,
      "id": "35c21223",
      "metadata": {
        "execution": {
          "iopub.execute_input": "2023-12-16T18:40:43.799873Z",
          "iopub.status.busy": "2023-12-16T18:40:43.799423Z",
          "iopub.status.idle": "2023-12-16T18:40:43.825788Z",
          "shell.execute_reply": "2023-12-16T18:40:43.824956Z"
        },
        "papermill": {
          "duration": 0.042546,
          "end_time": "2023-12-16T18:40:43.828082",
          "exception": false,
          "start_time": "2023-12-16T18:40:43.785536",
          "status": "completed"
        },
        "tags": [],
        "id": "35c21223",
        "outputId": "60f08f70-a699-4ef4-f2ac-5b0aae408de1"
      },
      "outputs": [
        {
          "data": {
            "text/html": [
              "<div>\n",
              "<style scoped>\n",
              "    .dataframe tbody tr th:only-of-type {\n",
              "        vertical-align: middle;\n",
              "    }\n",
              "\n",
              "    .dataframe tbody tr th {\n",
              "        vertical-align: top;\n",
              "    }\n",
              "\n",
              "    .dataframe thead th {\n",
              "        text-align: right;\n",
              "    }\n",
              "</style>\n",
              "<table border=\"1\" class=\"dataframe\">\n",
              "  <thead>\n",
              "    <tr style=\"text-align: right;\">\n",
              "      <th></th>\n",
              "      <th>country</th>\n",
              "      <th>description</th>\n",
              "      <th>designation</th>\n",
              "      <th>points</th>\n",
              "      <th>price</th>\n",
              "      <th>province</th>\n",
              "      <th>region_1</th>\n",
              "      <th>region_2</th>\n",
              "      <th>taster_name</th>\n",
              "      <th>taster_twitter_handle</th>\n",
              "      <th>title</th>\n",
              "      <th>variety</th>\n",
              "      <th>winery</th>\n",
              "    </tr>\n",
              "  </thead>\n",
              "  <tbody>\n",
              "    <tr>\n",
              "      <th>0</th>\n",
              "      <td>Italy</td>\n",
              "      <td>Aromas include tropical fruit, broom, brimston...</td>\n",
              "      <td>Vulkà Bianco</td>\n",
              "      <td>87</td>\n",
              "      <td>NaN</td>\n",
              "      <td>Sicily &amp; Sardinia</td>\n",
              "      <td>Etna</td>\n",
              "      <td>NaN</td>\n",
              "      <td>Kerin O’Keefe</td>\n",
              "      <td>@kerinokeefe</td>\n",
              "      <td>Nicosia 2013 Vulkà Bianco  (Etna)</td>\n",
              "      <td>White Blend</td>\n",
              "      <td>Nicosia</td>\n",
              "    </tr>\n",
              "    <tr>\n",
              "      <th>1</th>\n",
              "      <td>Portugal</td>\n",
              "      <td>This is ripe and fruity, a wine that is smooth...</td>\n",
              "      <td>Avidagos</td>\n",
              "      <td>87</td>\n",
              "      <td>15.0</td>\n",
              "      <td>Douro</td>\n",
              "      <td>NaN</td>\n",
              "      <td>NaN</td>\n",
              "      <td>Roger Voss</td>\n",
              "      <td>@vossroger</td>\n",
              "      <td>Quinta dos Avidagos 2011 Avidagos Red (Douro)</td>\n",
              "      <td>Portuguese Red</td>\n",
              "      <td>Quinta dos Avidagos</td>\n",
              "    </tr>\n",
              "    <tr>\n",
              "      <th>2</th>\n",
              "      <td>US</td>\n",
              "      <td>Tart and snappy, the flavors of lime flesh and...</td>\n",
              "      <td>NaN</td>\n",
              "      <td>87</td>\n",
              "      <td>14.0</td>\n",
              "      <td>Oregon</td>\n",
              "      <td>Willamette Valley</td>\n",
              "      <td>Willamette Valley</td>\n",
              "      <td>Paul Gregutt</td>\n",
              "      <td>@paulgwine</td>\n",
              "      <td>Rainstorm 2013 Pinot Gris (Willamette Valley)</td>\n",
              "      <td>Pinot Gris</td>\n",
              "      <td>Rainstorm</td>\n",
              "    </tr>\n",
              "    <tr>\n",
              "      <th>3</th>\n",
              "      <td>US</td>\n",
              "      <td>Pineapple rind, lemon pith and orange blossom ...</td>\n",
              "      <td>Reserve Late Harvest</td>\n",
              "      <td>87</td>\n",
              "      <td>13.0</td>\n",
              "      <td>Michigan</td>\n",
              "      <td>Lake Michigan Shore</td>\n",
              "      <td>NaN</td>\n",
              "      <td>Alexander Peartree</td>\n",
              "      <td>NaN</td>\n",
              "      <td>St. Julian 2013 Reserve Late Harvest Riesling ...</td>\n",
              "      <td>Riesling</td>\n",
              "      <td>St. Julian</td>\n",
              "    </tr>\n",
              "    <tr>\n",
              "      <th>4</th>\n",
              "      <td>US</td>\n",
              "      <td>Much like the regular bottling from 2012, this...</td>\n",
              "      <td>Vintner's Reserve Wild Child Block</td>\n",
              "      <td>87</td>\n",
              "      <td>65.0</td>\n",
              "      <td>Oregon</td>\n",
              "      <td>Willamette Valley</td>\n",
              "      <td>Willamette Valley</td>\n",
              "      <td>Paul Gregutt</td>\n",
              "      <td>@paulgwine</td>\n",
              "      <td>Sweet Cheeks 2012 Vintner's Reserve Wild Child...</td>\n",
              "      <td>Pinot Noir</td>\n",
              "      <td>Sweet Cheeks</td>\n",
              "    </tr>\n",
              "  </tbody>\n",
              "</table>\n",
              "</div>"
            ],
            "text/plain": [
              "    country                                        description  \\\n",
              "0     Italy  Aromas include tropical fruit, broom, brimston...   \n",
              "1  Portugal  This is ripe and fruity, a wine that is smooth...   \n",
              "2        US  Tart and snappy, the flavors of lime flesh and...   \n",
              "3        US  Pineapple rind, lemon pith and orange blossom ...   \n",
              "4        US  Much like the regular bottling from 2012, this...   \n",
              "\n",
              "                          designation  points  price           province  \\\n",
              "0                        Vulkà Bianco      87    NaN  Sicily & Sardinia   \n",
              "1                            Avidagos      87   15.0              Douro   \n",
              "2                                 NaN      87   14.0             Oregon   \n",
              "3                Reserve Late Harvest      87   13.0           Michigan   \n",
              "4  Vintner's Reserve Wild Child Block      87   65.0             Oregon   \n",
              "\n",
              "              region_1           region_2         taster_name  \\\n",
              "0                 Etna                NaN       Kerin O’Keefe   \n",
              "1                  NaN                NaN          Roger Voss   \n",
              "2    Willamette Valley  Willamette Valley        Paul Gregutt   \n",
              "3  Lake Michigan Shore                NaN  Alexander Peartree   \n",
              "4    Willamette Valley  Willamette Valley        Paul Gregutt   \n",
              "\n",
              "  taster_twitter_handle                                              title  \\\n",
              "0          @kerinokeefe                  Nicosia 2013 Vulkà Bianco  (Etna)   \n",
              "1            @vossroger      Quinta dos Avidagos 2011 Avidagos Red (Douro)   \n",
              "2           @paulgwine       Rainstorm 2013 Pinot Gris (Willamette Valley)   \n",
              "3                   NaN  St. Julian 2013 Reserve Late Harvest Riesling ...   \n",
              "4           @paulgwine   Sweet Cheeks 2012 Vintner's Reserve Wild Child...   \n",
              "\n",
              "          variety               winery  \n",
              "0     White Blend              Nicosia  \n",
              "1  Portuguese Red  Quinta dos Avidagos  \n",
              "2      Pinot Gris            Rainstorm  \n",
              "3        Riesling           St. Julian  \n",
              "4      Pinot Noir         Sweet Cheeks  "
            ]
          },
          "execution_count": 2,
          "metadata": {},
          "output_type": "execute_result"
        }
      ],
      "source": [
        "reviews.head()"
      ]
    },
    {
      "cell_type": "markdown",
      "id": "89ee9116",
      "metadata": {
        "papermill": {
          "duration": 0.011199,
          "end_time": "2023-12-16T18:40:43.851001",
          "exception": false,
          "start_time": "2023-12-16T18:40:43.839802",
          "status": "completed"
        },
        "tags": [],
        "id": "89ee9116"
      },
      "source": [
        "# Exercises"
      ]
    },
    {
      "cell_type": "markdown",
      "id": "df1bd6f2",
      "metadata": {
        "papermill": {
          "duration": 0.011926,
          "end_time": "2023-12-16T18:40:43.874721",
          "exception": false,
          "start_time": "2023-12-16T18:40:43.862795",
          "status": "completed"
        },
        "tags": [],
        "id": "df1bd6f2"
      },
      "source": [
        "## 1.\n",
        "\n",
        "Select the `description` column from `reviews` and assign the result to the variable `desc`."
      ]
    },
    {
      "cell_type": "code",
      "execution_count": null,
      "id": "8e8666f2",
      "metadata": {
        "execution": {
          "iopub.execute_input": "2023-12-16T18:40:43.901019Z",
          "iopub.status.busy": "2023-12-16T18:40:43.900029Z",
          "iopub.status.idle": "2023-12-16T18:40:43.910491Z",
          "shell.execute_reply": "2023-12-16T18:40:43.909230Z"
        },
        "papermill": {
          "duration": 0.02625,
          "end_time": "2023-12-16T18:40:43.913103",
          "exception": false,
          "start_time": "2023-12-16T18:40:43.886853",
          "status": "completed"
        },
        "tags": [],
        "id": "8e8666f2",
        "outputId": "098b5f91-ef78-455e-923c-5dfd680adfe2"
      },
      "outputs": [
        {
          "data": {
            "application/javascript": [
              "parent.postMessage({\"jupyterEvent\": \"custom.exercise_interaction\", \"data\": {\"outcomeType\": 1, \"valueTowardsCompletion\": 0.1111111111111111, \"interactionType\": 1, \"questionType\": 1, \"questionId\": \"1_SelectDescCol\", \"learnToolsVersion\": \"0.3.4\", \"failureMessage\": \"\", \"exceptionClass\": \"\", \"trace\": \"\"}}, \"*\")"
            ],
            "text/plain": [
              "<IPython.core.display.Javascript object>"
            ]
          },
          "metadata": {},
          "output_type": "display_data"
        },
        {
          "data": {
            "text/markdown": [
              "<span style=\"color:#33cc33\">Correct</span>"
            ],
            "text/plain": [
              "Correct"
            ]
          },
          "metadata": {},
          "output_type": "display_data"
        }
      ],
      "source": [
        "# Your code here\n",
        "desc = reviews.description\n",
        "\n",
        "# Check your answer\n",
        "q1.check()"
      ]
    },
    {
      "cell_type": "markdown",
      "id": "1b853fc1",
      "metadata": {
        "papermill": {
          "duration": 0.012071,
          "end_time": "2023-12-16T18:40:43.937383",
          "exception": false,
          "start_time": "2023-12-16T18:40:43.925312",
          "status": "completed"
        },
        "tags": [],
        "id": "1b853fc1"
      },
      "source": [
        "Follow-up question: what type of object is `desc`? If you're not sure, you can check by calling Python's `type` function: `type(desc)`."
      ]
    },
    {
      "cell_type": "code",
      "execution_count": null,
      "id": "5a3deeee",
      "metadata": {
        "execution": {
          "iopub.execute_input": "2023-12-16T18:40:43.963430Z",
          "iopub.status.busy": "2023-12-16T18:40:43.962746Z",
          "iopub.status.idle": "2023-12-16T18:40:43.967279Z",
          "shell.execute_reply": "2023-12-16T18:40:43.966307Z"
        },
        "papermill": {
          "duration": 0.0205,
          "end_time": "2023-12-16T18:40:43.969845",
          "exception": false,
          "start_time": "2023-12-16T18:40:43.949345",
          "status": "completed"
        },
        "tags": [],
        "id": "5a3deeee"
      },
      "outputs": [],
      "source": [
        "#q1.hint()\n",
        "#q1.solution()"
      ]
    },
    {
      "cell_type": "markdown",
      "id": "d2d8557a",
      "metadata": {
        "papermill": {
          "duration": 0.011553,
          "end_time": "2023-12-16T18:40:43.994236",
          "exception": false,
          "start_time": "2023-12-16T18:40:43.982683",
          "status": "completed"
        },
        "tags": [],
        "id": "d2d8557a"
      },
      "source": [
        "## 2.\n",
        "\n",
        "Select the first value from the description column of `reviews`, assigning it to variable `first_description`."
      ]
    },
    {
      "cell_type": "code",
      "execution_count": null,
      "id": "0ef030e9",
      "metadata": {
        "execution": {
          "iopub.execute_input": "2023-12-16T18:40:44.022977Z",
          "iopub.status.busy": "2023-12-16T18:40:44.022520Z",
          "iopub.status.idle": "2023-12-16T18:40:44.034259Z",
          "shell.execute_reply": "2023-12-16T18:40:44.033101Z"
        },
        "papermill": {
          "duration": 0.030142,
          "end_time": "2023-12-16T18:40:44.036719",
          "exception": false,
          "start_time": "2023-12-16T18:40:44.006577",
          "status": "completed"
        },
        "tags": [],
        "id": "0ef030e9",
        "outputId": "09a348d9-111e-489f-c047-b7559641c24b"
      },
      "outputs": [
        {
          "data": {
            "application/javascript": [
              "parent.postMessage({\"jupyterEvent\": \"custom.exercise_interaction\", \"data\": {\"outcomeType\": 1, \"valueTowardsCompletion\": 0.1111111111111111, \"interactionType\": 1, \"questionType\": 1, \"questionId\": \"2_FirstDesc\", \"learnToolsVersion\": \"0.3.4\", \"failureMessage\": \"\", \"exceptionClass\": \"\", \"trace\": \"\"}}, \"*\")"
            ],
            "text/plain": [
              "<IPython.core.display.Javascript object>"
            ]
          },
          "metadata": {},
          "output_type": "display_data"
        },
        {
          "data": {
            "text/markdown": [
              "<span style=\"color:#33cc33\">Correct:</span> \n",
              "\n",
              "\n",
              "```python\n",
              "first_description = reviews.description.iloc[0]\n",
              "```\n",
              "Note that while this is the preferred way to obtain the entry in the DataFrame, many other options will return a valid result, such as `reviews.description.loc[0]`, `reviews.description[0]`, and more!  \n"
            ],
            "text/plain": [
              "Correct: \n",
              "\n",
              "\n",
              "```python\n",
              "first_description = reviews.description.iloc[0]\n",
              "```\n",
              "Note that while this is the preferred way to obtain the entry in the DataFrame, many other options will return a valid result, such as `reviews.description.loc[0]`, `reviews.description[0]`, and more!  "
            ]
          },
          "metadata": {},
          "output_type": "display_data"
        },
        {
          "data": {
            "text/plain": [
              "\"Aromas include tropical fruit, broom, brimstone and dried herb. The palate isn't overly expressive, offering unripened apple, citrus and dried sage alongside brisk acidity.\""
            ]
          },
          "execution_count": 5,
          "metadata": {},
          "output_type": "execute_result"
        }
      ],
      "source": [
        "first_description = reviews.description.iloc[0]\n",
        "\n",
        "# Check your answer\n",
        "q2.check()\n",
        "first_description"
      ]
    },
    {
      "cell_type": "code",
      "execution_count": null,
      "id": "9fd99ab7",
      "metadata": {
        "execution": {
          "iopub.execute_input": "2023-12-16T18:40:44.063859Z",
          "iopub.status.busy": "2023-12-16T18:40:44.063217Z",
          "iopub.status.idle": "2023-12-16T18:40:44.067698Z",
          "shell.execute_reply": "2023-12-16T18:40:44.066727Z"
        },
        "papermill": {
          "duration": 0.020821,
          "end_time": "2023-12-16T18:40:44.070036",
          "exception": false,
          "start_time": "2023-12-16T18:40:44.049215",
          "status": "completed"
        },
        "tags": [],
        "id": "9fd99ab7"
      },
      "outputs": [],
      "source": [
        "#q2.hint()\n",
        "#q2.solution()"
      ]
    },
    {
      "cell_type": "markdown",
      "id": "40b1bad1",
      "metadata": {
        "papermill": {
          "duration": 0.012026,
          "end_time": "2023-12-16T18:40:44.094972",
          "exception": false,
          "start_time": "2023-12-16T18:40:44.082946",
          "status": "completed"
        },
        "tags": [],
        "id": "40b1bad1"
      },
      "source": [
        "## 3.\n",
        "\n",
        "Select the first row of data (the first record) from `reviews`, assigning it to the variable `first_row`."
      ]
    },
    {
      "cell_type": "code",
      "execution_count": null,
      "id": "5ca0ae4d",
      "metadata": {
        "execution": {
          "iopub.execute_input": "2023-12-16T18:40:44.121922Z",
          "iopub.status.busy": "2023-12-16T18:40:44.121234Z",
          "iopub.status.idle": "2023-12-16T18:40:44.135623Z",
          "shell.execute_reply": "2023-12-16T18:40:44.134498Z"
        },
        "papermill": {
          "duration": 0.030802,
          "end_time": "2023-12-16T18:40:44.138066",
          "exception": false,
          "start_time": "2023-12-16T18:40:44.107264",
          "status": "completed"
        },
        "tags": [],
        "id": "5ca0ae4d",
        "outputId": "0fcf3007-1bf6-4a9f-d45a-8866133b8633"
      },
      "outputs": [
        {
          "data": {
            "application/javascript": [
              "parent.postMessage({\"jupyterEvent\": \"custom.exercise_interaction\", \"data\": {\"outcomeType\": 1, \"valueTowardsCompletion\": 0.1111111111111111, \"interactionType\": 1, \"questionType\": 1, \"questionId\": \"3_FirstRow\", \"learnToolsVersion\": \"0.3.4\", \"failureMessage\": \"\", \"exceptionClass\": \"\", \"trace\": \"\"}}, \"*\")"
            ],
            "text/plain": [
              "<IPython.core.display.Javascript object>"
            ]
          },
          "metadata": {},
          "output_type": "display_data"
        },
        {
          "data": {
            "text/markdown": [
              "<span style=\"color:#33cc33\">Correct</span>"
            ],
            "text/plain": [
              "Correct"
            ]
          },
          "metadata": {},
          "output_type": "display_data"
        },
        {
          "data": {
            "text/plain": [
              "country                                                    Italy\n",
              "description    Aromas include tropical fruit, broom, brimston...\n",
              "                                     ...                        \n",
              "variety                                              White Blend\n",
              "winery                                                   Nicosia\n",
              "Name: 0, Length: 13, dtype: object"
            ]
          },
          "execution_count": 7,
          "metadata": {},
          "output_type": "execute_result"
        }
      ],
      "source": [
        "first_row = reviews.iloc[0]\n",
        "\n",
        "\n",
        "# Check your answer\n",
        "q3.check()\n",
        "first_row"
      ]
    },
    {
      "cell_type": "code",
      "execution_count": null,
      "id": "2634ea08",
      "metadata": {
        "execution": {
          "iopub.execute_input": "2023-12-16T18:40:44.167131Z",
          "iopub.status.busy": "2023-12-16T18:40:44.165801Z",
          "iopub.status.idle": "2023-12-16T18:40:44.172584Z",
          "shell.execute_reply": "2023-12-16T18:40:44.170803Z"
        },
        "papermill": {
          "duration": 0.024523,
          "end_time": "2023-12-16T18:40:44.175707",
          "exception": false,
          "start_time": "2023-12-16T18:40:44.151184",
          "status": "completed"
        },
        "tags": [],
        "id": "2634ea08"
      },
      "outputs": [],
      "source": [
        "#q3.hint()\n",
        "#q3.solution()"
      ]
    },
    {
      "cell_type": "markdown",
      "id": "876cd864",
      "metadata": {
        "papermill": {
          "duration": 0.012526,
          "end_time": "2023-12-16T18:40:44.201257",
          "exception": false,
          "start_time": "2023-12-16T18:40:44.188731",
          "status": "completed"
        },
        "tags": [],
        "id": "876cd864"
      },
      "source": [
        "## 4.\n",
        "\n",
        "Select the first 10 values from the `description` column in `reviews`, assigning the result to variable `first_descriptions`.\n",
        "\n",
        "Hint: format your output as a pandas Series."
      ]
    },
    {
      "cell_type": "code",
      "execution_count": null,
      "id": "1f13b8bd",
      "metadata": {
        "execution": {
          "iopub.execute_input": "2023-12-16T18:40:44.229976Z",
          "iopub.status.busy": "2023-12-16T18:40:44.228977Z",
          "iopub.status.idle": "2023-12-16T18:40:44.244157Z",
          "shell.execute_reply": "2023-12-16T18:40:44.242979Z"
        },
        "papermill": {
          "duration": 0.032162,
          "end_time": "2023-12-16T18:40:44.246513",
          "exception": false,
          "start_time": "2023-12-16T18:40:44.214351",
          "status": "completed"
        },
        "tags": [],
        "id": "1f13b8bd",
        "outputId": "27aa9771-d634-4bfe-ab35-23aab7aa1d4d"
      },
      "outputs": [
        {
          "data": {
            "application/javascript": [
              "parent.postMessage({\"jupyterEvent\": \"custom.exercise_interaction\", \"data\": {\"outcomeType\": 1, \"valueTowardsCompletion\": 0.1111111111111111, \"interactionType\": 1, \"questionType\": 1, \"questionId\": \"4_FirstDescs\", \"learnToolsVersion\": \"0.3.4\", \"failureMessage\": \"\", \"exceptionClass\": \"\", \"trace\": \"\"}}, \"*\")"
            ],
            "text/plain": [
              "<IPython.core.display.Javascript object>"
            ]
          },
          "metadata": {},
          "output_type": "display_data"
        },
        {
          "data": {
            "text/markdown": [
              "<span style=\"color:#33cc33\">Correct:</span> \n",
              "\n",
              "\n",
              "```python\n",
              "first_descriptions = reviews.description.iloc[:10]\n",
              "```\n",
              "Note that many other options will return a valid result, such as `desc.head(10)` and `reviews.loc[:9, \"description\"]`.    \n"
            ],
            "text/plain": [
              "Correct: \n",
              "\n",
              "\n",
              "```python\n",
              "first_descriptions = reviews.description.iloc[:10]\n",
              "```\n",
              "Note that many other options will return a valid result, such as `desc.head(10)` and `reviews.loc[:9, \"description\"]`.    "
            ]
          },
          "metadata": {},
          "output_type": "display_data"
        },
        {
          "data": {
            "text/plain": [
              "0    Aromas include tropical fruit, broom, brimston...\n",
              "1    This is ripe and fruity, a wine that is smooth...\n",
              "                           ...                        \n",
              "8    Savory dried thyme notes accent sunnier flavor...\n",
              "9    This has great depth of flavor with its fresh ...\n",
              "Name: description, Length: 10, dtype: object"
            ]
          },
          "execution_count": 9,
          "metadata": {},
          "output_type": "execute_result"
        }
      ],
      "source": [
        "first_descriptions = reviews.description.iloc[:10]\n",
        "\n",
        "# Check your answer\n",
        "q4.check()\n",
        "first_descriptions"
      ]
    },
    {
      "cell_type": "code",
      "execution_count": null,
      "id": "877d7989",
      "metadata": {
        "execution": {
          "iopub.execute_input": "2023-12-16T18:40:44.277914Z",
          "iopub.status.busy": "2023-12-16T18:40:44.276868Z",
          "iopub.status.idle": "2023-12-16T18:40:44.282221Z",
          "shell.execute_reply": "2023-12-16T18:40:44.280951Z"
        },
        "papermill": {
          "duration": 0.025406,
          "end_time": "2023-12-16T18:40:44.285318",
          "exception": false,
          "start_time": "2023-12-16T18:40:44.259912",
          "status": "completed"
        },
        "tags": [],
        "id": "877d7989"
      },
      "outputs": [],
      "source": [
        "#q4.hint()\n",
        "#q4.solution()"
      ]
    },
    {
      "cell_type": "markdown",
      "id": "76b42552",
      "metadata": {
        "papermill": {
          "duration": 0.01421,
          "end_time": "2023-12-16T18:40:44.315658",
          "exception": false,
          "start_time": "2023-12-16T18:40:44.301448",
          "status": "completed"
        },
        "tags": [],
        "id": "76b42552"
      },
      "source": [
        "## 5.\n",
        "\n",
        "Select the records with index labels `1`, `2`, `3`, `5`, and `8`, assigning the result to the variable `sample_reviews`.\n",
        "\n",
        "In other words, generate the following DataFrame:\n",
        "\n",
        "![](https://storage.googleapis.com/kaggle-media/learn/images/sHZvI1O.png)"
      ]
    },
    {
      "cell_type": "code",
      "execution_count": null,
      "id": "69660264",
      "metadata": {
        "execution": {
          "iopub.execute_input": "2023-12-16T18:40:44.345432Z",
          "iopub.status.busy": "2023-12-16T18:40:44.345026Z",
          "iopub.status.idle": "2023-12-16T18:40:44.377665Z",
          "shell.execute_reply": "2023-12-16T18:40:44.376314Z"
        },
        "papermill": {
          "duration": 0.050941,
          "end_time": "2023-12-16T18:40:44.380317",
          "exception": false,
          "start_time": "2023-12-16T18:40:44.329376",
          "status": "completed"
        },
        "tags": [],
        "id": "69660264",
        "outputId": "a2e86ea5-695f-46e0-d6a5-48f566de9754"
      },
      "outputs": [
        {
          "data": {
            "application/javascript": [
              "parent.postMessage({\"jupyterEvent\": \"custom.exercise_interaction\", \"data\": {\"outcomeType\": 1, \"valueTowardsCompletion\": 0.1111111111111111, \"interactionType\": 1, \"questionType\": 1, \"questionId\": \"5_SampleReviews\", \"learnToolsVersion\": \"0.3.4\", \"failureMessage\": \"\", \"exceptionClass\": \"\", \"trace\": \"\"}}, \"*\")"
            ],
            "text/plain": [
              "<IPython.core.display.Javascript object>"
            ]
          },
          "metadata": {},
          "output_type": "display_data"
        },
        {
          "data": {
            "text/markdown": [
              "<span style=\"color:#33cc33\">Correct</span>"
            ],
            "text/plain": [
              "Correct"
            ]
          },
          "metadata": {},
          "output_type": "display_data"
        },
        {
          "data": {
            "text/html": [
              "<div>\n",
              "<style scoped>\n",
              "    .dataframe tbody tr th:only-of-type {\n",
              "        vertical-align: middle;\n",
              "    }\n",
              "\n",
              "    .dataframe tbody tr th {\n",
              "        vertical-align: top;\n",
              "    }\n",
              "\n",
              "    .dataframe thead th {\n",
              "        text-align: right;\n",
              "    }\n",
              "</style>\n",
              "<table border=\"1\" class=\"dataframe\">\n",
              "  <thead>\n",
              "    <tr style=\"text-align: right;\">\n",
              "      <th></th>\n",
              "      <th>country</th>\n",
              "      <th>description</th>\n",
              "      <th>designation</th>\n",
              "      <th>points</th>\n",
              "      <th>price</th>\n",
              "      <th>province</th>\n",
              "      <th>region_1</th>\n",
              "      <th>region_2</th>\n",
              "      <th>taster_name</th>\n",
              "      <th>taster_twitter_handle</th>\n",
              "      <th>title</th>\n",
              "      <th>variety</th>\n",
              "      <th>winery</th>\n",
              "    </tr>\n",
              "  </thead>\n",
              "  <tbody>\n",
              "    <tr>\n",
              "      <th>1</th>\n",
              "      <td>Portugal</td>\n",
              "      <td>This is ripe and fruity, a wine that is smooth...</td>\n",
              "      <td>Avidagos</td>\n",
              "      <td>87</td>\n",
              "      <td>15.0</td>\n",
              "      <td>Douro</td>\n",
              "      <td>NaN</td>\n",
              "      <td>NaN</td>\n",
              "      <td>Roger Voss</td>\n",
              "      <td>@vossroger</td>\n",
              "      <td>Quinta dos Avidagos 2011 Avidagos Red (Douro)</td>\n",
              "      <td>Portuguese Red</td>\n",
              "      <td>Quinta dos Avidagos</td>\n",
              "    </tr>\n",
              "    <tr>\n",
              "      <th>2</th>\n",
              "      <td>US</td>\n",
              "      <td>Tart and snappy, the flavors of lime flesh and...</td>\n",
              "      <td>NaN</td>\n",
              "      <td>87</td>\n",
              "      <td>14.0</td>\n",
              "      <td>Oregon</td>\n",
              "      <td>Willamette Valley</td>\n",
              "      <td>Willamette Valley</td>\n",
              "      <td>Paul Gregutt</td>\n",
              "      <td>@paulgwine</td>\n",
              "      <td>Rainstorm 2013 Pinot Gris (Willamette Valley)</td>\n",
              "      <td>Pinot Gris</td>\n",
              "      <td>Rainstorm</td>\n",
              "    </tr>\n",
              "    <tr>\n",
              "      <th>3</th>\n",
              "      <td>US</td>\n",
              "      <td>Pineapple rind, lemon pith and orange blossom ...</td>\n",
              "      <td>Reserve Late Harvest</td>\n",
              "      <td>87</td>\n",
              "      <td>13.0</td>\n",
              "      <td>Michigan</td>\n",
              "      <td>Lake Michigan Shore</td>\n",
              "      <td>NaN</td>\n",
              "      <td>Alexander Peartree</td>\n",
              "      <td>NaN</td>\n",
              "      <td>St. Julian 2013 Reserve Late Harvest Riesling ...</td>\n",
              "      <td>Riesling</td>\n",
              "      <td>St. Julian</td>\n",
              "    </tr>\n",
              "    <tr>\n",
              "      <th>5</th>\n",
              "      <td>Spain</td>\n",
              "      <td>Blackberry and raspberry aromas show a typical...</td>\n",
              "      <td>Ars In Vitro</td>\n",
              "      <td>87</td>\n",
              "      <td>15.0</td>\n",
              "      <td>Northern Spain</td>\n",
              "      <td>Navarra</td>\n",
              "      <td>NaN</td>\n",
              "      <td>Michael Schachner</td>\n",
              "      <td>@wineschach</td>\n",
              "      <td>Tandem 2011 Ars In Vitro Tempranillo-Merlot (N...</td>\n",
              "      <td>Tempranillo-Merlot</td>\n",
              "      <td>Tandem</td>\n",
              "    </tr>\n",
              "    <tr>\n",
              "      <th>8</th>\n",
              "      <td>Germany</td>\n",
              "      <td>Savory dried thyme notes accent sunnier flavor...</td>\n",
              "      <td>Shine</td>\n",
              "      <td>87</td>\n",
              "      <td>12.0</td>\n",
              "      <td>Rheinhessen</td>\n",
              "      <td>NaN</td>\n",
              "      <td>NaN</td>\n",
              "      <td>Anna Lee C. Iijima</td>\n",
              "      <td>NaN</td>\n",
              "      <td>Heinz Eifel 2013 Shine Gewürztraminer (Rheinhe...</td>\n",
              "      <td>Gewürztraminer</td>\n",
              "      <td>Heinz Eifel</td>\n",
              "    </tr>\n",
              "  </tbody>\n",
              "</table>\n",
              "</div>"
            ],
            "text/plain": [
              "    country                                        description  \\\n",
              "1  Portugal  This is ripe and fruity, a wine that is smooth...   \n",
              "2        US  Tart and snappy, the flavors of lime flesh and...   \n",
              "3        US  Pineapple rind, lemon pith and orange blossom ...   \n",
              "5     Spain  Blackberry and raspberry aromas show a typical...   \n",
              "8   Germany  Savory dried thyme notes accent sunnier flavor...   \n",
              "\n",
              "            designation  points  price        province             region_1  \\\n",
              "1              Avidagos      87   15.0           Douro                  NaN   \n",
              "2                   NaN      87   14.0          Oregon    Willamette Valley   \n",
              "3  Reserve Late Harvest      87   13.0        Michigan  Lake Michigan Shore   \n",
              "5          Ars In Vitro      87   15.0  Northern Spain              Navarra   \n",
              "8                 Shine      87   12.0     Rheinhessen                  NaN   \n",
              "\n",
              "            region_2         taster_name taster_twitter_handle  \\\n",
              "1                NaN          Roger Voss            @vossroger   \n",
              "2  Willamette Valley        Paul Gregutt           @paulgwine    \n",
              "3                NaN  Alexander Peartree                   NaN   \n",
              "5                NaN   Michael Schachner           @wineschach   \n",
              "8                NaN  Anna Lee C. Iijima                   NaN   \n",
              "\n",
              "                                               title             variety  \\\n",
              "1      Quinta dos Avidagos 2011 Avidagos Red (Douro)      Portuguese Red   \n",
              "2      Rainstorm 2013 Pinot Gris (Willamette Valley)          Pinot Gris   \n",
              "3  St. Julian 2013 Reserve Late Harvest Riesling ...            Riesling   \n",
              "5  Tandem 2011 Ars In Vitro Tempranillo-Merlot (N...  Tempranillo-Merlot   \n",
              "8  Heinz Eifel 2013 Shine Gewürztraminer (Rheinhe...      Gewürztraminer   \n",
              "\n",
              "                winery  \n",
              "1  Quinta dos Avidagos  \n",
              "2            Rainstorm  \n",
              "3           St. Julian  \n",
              "5               Tandem  \n",
              "8          Heinz Eifel  "
            ]
          },
          "execution_count": 11,
          "metadata": {},
          "output_type": "execute_result"
        }
      ],
      "source": [
        "indices = [1, 2, 3, 5, 8]\n",
        "sample_reviews = reviews.loc[indices]\n",
        "\n",
        "\n",
        "# Check your answer\n",
        "q5.check()\n",
        "sample_reviews"
      ]
    },
    {
      "cell_type": "code",
      "execution_count": null,
      "id": "882e424d",
      "metadata": {
        "execution": {
          "iopub.execute_input": "2023-12-16T18:40:44.413276Z",
          "iopub.status.busy": "2023-12-16T18:40:44.412839Z",
          "iopub.status.idle": "2023-12-16T18:40:44.418097Z",
          "shell.execute_reply": "2023-12-16T18:40:44.416559Z"
        },
        "papermill": {
          "duration": 0.024531,
          "end_time": "2023-12-16T18:40:44.420669",
          "exception": false,
          "start_time": "2023-12-16T18:40:44.396138",
          "status": "completed"
        },
        "tags": [],
        "id": "882e424d"
      },
      "outputs": [],
      "source": [
        "#q5.hint()\n",
        "#q5.solution()"
      ]
    },
    {
      "cell_type": "markdown",
      "id": "ae5ffc2a",
      "metadata": {
        "papermill": {
          "duration": 0.013752,
          "end_time": "2023-12-16T18:40:44.448865",
          "exception": false,
          "start_time": "2023-12-16T18:40:44.435113",
          "status": "completed"
        },
        "tags": [],
        "id": "ae5ffc2a"
      },
      "source": [
        "## 6.\n",
        "\n",
        "Create a variable `df` containing the `country`, `province`, `region_1`, and `region_2` columns of the records with the index labels `0`, `1`, `10`, and `100`. In other words, generate the following DataFrame:\n",
        "\n",
        "![](https://storage.googleapis.com/kaggle-media/learn/images/FUCGiKP.png)"
      ]
    },
    {
      "cell_type": "code",
      "execution_count": null,
      "id": "a67f40ff",
      "metadata": {
        "execution": {
          "iopub.execute_input": "2023-12-16T18:40:44.548726Z",
          "iopub.status.busy": "2023-12-16T18:40:44.548328Z",
          "iopub.status.idle": "2023-12-16T18:40:44.575623Z",
          "shell.execute_reply": "2023-12-16T18:40:44.574267Z"
        },
        "papermill": {
          "duration": 0.046195,
          "end_time": "2023-12-16T18:40:44.578411",
          "exception": false,
          "start_time": "2023-12-16T18:40:44.532216",
          "status": "completed"
        },
        "tags": [],
        "id": "a67f40ff",
        "outputId": "0e9f4f05-f3e9-4de7-aab5-40e8da8de601"
      },
      "outputs": [
        {
          "data": {
            "application/javascript": [
              "parent.postMessage({\"jupyterEvent\": \"custom.exercise_interaction\", \"data\": {\"outcomeType\": 1, \"valueTowardsCompletion\": 0.1111111111111111, \"interactionType\": 1, \"questionType\": 1, \"questionId\": \"6_RowColSelect\", \"learnToolsVersion\": \"0.3.4\", \"failureMessage\": \"\", \"exceptionClass\": \"\", \"trace\": \"\"}}, \"*\")"
            ],
            "text/plain": [
              "<IPython.core.display.Javascript object>"
            ]
          },
          "metadata": {},
          "output_type": "display_data"
        },
        {
          "data": {
            "text/markdown": [
              "<span style=\"color:#33cc33\">Correct</span>"
            ],
            "text/plain": [
              "Correct"
            ]
          },
          "metadata": {},
          "output_type": "display_data"
        },
        {
          "data": {
            "text/html": [
              "<div>\n",
              "<style scoped>\n",
              "    .dataframe tbody tr th:only-of-type {\n",
              "        vertical-align: middle;\n",
              "    }\n",
              "\n",
              "    .dataframe tbody tr th {\n",
              "        vertical-align: top;\n",
              "    }\n",
              "\n",
              "    .dataframe thead th {\n",
              "        text-align: right;\n",
              "    }\n",
              "</style>\n",
              "<table border=\"1\" class=\"dataframe\">\n",
              "  <thead>\n",
              "    <tr style=\"text-align: right;\">\n",
              "      <th></th>\n",
              "      <th>country</th>\n",
              "      <th>province</th>\n",
              "      <th>region_1</th>\n",
              "      <th>region_2</th>\n",
              "    </tr>\n",
              "  </thead>\n",
              "  <tbody>\n",
              "    <tr>\n",
              "      <th>0</th>\n",
              "      <td>Italy</td>\n",
              "      <td>Sicily &amp; Sardinia</td>\n",
              "      <td>Etna</td>\n",
              "      <td>NaN</td>\n",
              "    </tr>\n",
              "    <tr>\n",
              "      <th>1</th>\n",
              "      <td>Portugal</td>\n",
              "      <td>Douro</td>\n",
              "      <td>NaN</td>\n",
              "      <td>NaN</td>\n",
              "    </tr>\n",
              "    <tr>\n",
              "      <th>10</th>\n",
              "      <td>US</td>\n",
              "      <td>California</td>\n",
              "      <td>Napa Valley</td>\n",
              "      <td>Napa</td>\n",
              "    </tr>\n",
              "    <tr>\n",
              "      <th>100</th>\n",
              "      <td>US</td>\n",
              "      <td>New York</td>\n",
              "      <td>Finger Lakes</td>\n",
              "      <td>Finger Lakes</td>\n",
              "    </tr>\n",
              "  </tbody>\n",
              "</table>\n",
              "</div>"
            ],
            "text/plain": [
              "      country           province      region_1      region_2\n",
              "0       Italy  Sicily & Sardinia          Etna           NaN\n",
              "1    Portugal              Douro           NaN           NaN\n",
              "10         US         California   Napa Valley          Napa\n",
              "100        US           New York  Finger Lakes  Finger Lakes"
            ]
          },
          "execution_count": 13,
          "metadata": {},
          "output_type": "execute_result"
        }
      ],
      "source": [
        "cols = ['country', 'province', 'region_1', 'region_2']\n",
        "indices = [0, 1, 10, 100]\n",
        "df = reviews.loc[indices, cols]\n",
        "\n",
        "# Check your answer\n",
        "q6.check()\n",
        "df"
      ]
    },
    {
      "cell_type": "code",
      "execution_count": null,
      "id": "bea1300c",
      "metadata": {
        "execution": {
          "iopub.execute_input": "2023-12-16T18:40:44.612232Z",
          "iopub.status.busy": "2023-12-16T18:40:44.611801Z",
          "iopub.status.idle": "2023-12-16T18:40:44.615974Z",
          "shell.execute_reply": "2023-12-16T18:40:44.614993Z"
        },
        "papermill": {
          "duration": 0.024113,
          "end_time": "2023-12-16T18:40:44.619031",
          "exception": false,
          "start_time": "2023-12-16T18:40:44.594918",
          "status": "completed"
        },
        "tags": [],
        "id": "bea1300c"
      },
      "outputs": [],
      "source": [
        "#q6.hint()\n",
        "#q6.solution()"
      ]
    },
    {
      "cell_type": "markdown",
      "id": "e5837c1f",
      "metadata": {
        "papermill": {
          "duration": 0.014986,
          "end_time": "2023-12-16T18:40:44.649696",
          "exception": false,
          "start_time": "2023-12-16T18:40:44.634710",
          "status": "completed"
        },
        "tags": [],
        "id": "e5837c1f"
      },
      "source": [
        "## 7.\n",
        "\n",
        "Create a variable `df` containing the `country` and `variety` columns of the first 100 records.\n",
        "\n",
        "Hint: you may use `loc` or `iloc`. When working on the answer this question and the several of the ones that follow, keep the following \"gotcha\" described in the tutorial:\n",
        "\n",
        "> `iloc` uses the Python stdlib indexing scheme, where the first element of the range is included and the last one excluded.\n",
        "`loc`, meanwhile, indexes inclusively.\n",
        "\n",
        "> This is particularly confusing when the DataFrame index is a simple numerical list, e.g. `0,...,1000`. In this case `df.iloc[0:1000]` will return 1000 entries, while `df.loc[0:1000]` return 1001 of them! To get 1000 elements using `loc`, you will need to go one lower and ask for `df.iloc[0:999]`."
      ]
    },
    {
      "cell_type": "code",
      "execution_count": null,
      "id": "f40d00ce",
      "metadata": {
        "execution": {
          "iopub.execute_input": "2023-12-16T18:40:44.683280Z",
          "iopub.status.busy": "2023-12-16T18:40:44.682849Z",
          "iopub.status.idle": "2023-12-16T18:40:44.702440Z",
          "shell.execute_reply": "2023-12-16T18:40:44.701595Z"
        },
        "papermill": {
          "duration": 0.040262,
          "end_time": "2023-12-16T18:40:44.705387",
          "exception": false,
          "start_time": "2023-12-16T18:40:44.665125",
          "status": "completed"
        },
        "tags": [],
        "id": "f40d00ce",
        "outputId": "c0aae8c8-aa6a-44d7-eff5-45e058e4d474"
      },
      "outputs": [
        {
          "data": {
            "application/javascript": [
              "parent.postMessage({\"jupyterEvent\": \"custom.exercise_interaction\", \"data\": {\"outcomeType\": 1, \"valueTowardsCompletion\": 0.1111111111111111, \"interactionType\": 1, \"questionType\": 1, \"questionId\": \"7_RowColSelect2\", \"learnToolsVersion\": \"0.3.4\", \"failureMessage\": \"\", \"exceptionClass\": \"\", \"trace\": \"\"}}, \"*\")"
            ],
            "text/plain": [
              "<IPython.core.display.Javascript object>"
            ]
          },
          "metadata": {},
          "output_type": "display_data"
        },
        {
          "data": {
            "text/markdown": [
              "<span style=\"color:#33cc33\">Correct:</span> \n",
              "\n",
              "\n",
              "```python\n",
              "cols = ['country', 'variety']\n",
              "df = reviews.loc[:99, cols]\n",
              "```\n",
              "or \n",
              "```python\n",
              "cols_idx = [0, 11]\n",
              "df = reviews.iloc[:100, cols_idx]\n",
              "```\n"
            ],
            "text/plain": [
              "Correct: \n",
              "\n",
              "\n",
              "```python\n",
              "cols = ['country', 'variety']\n",
              "df = reviews.loc[:99, cols]\n",
              "```\n",
              "or \n",
              "```python\n",
              "cols_idx = [0, 11]\n",
              "df = reviews.iloc[:100, cols_idx]\n",
              "```"
            ]
          },
          "metadata": {},
          "output_type": "display_data"
        },
        {
          "data": {
            "text/html": [
              "<div>\n",
              "<style scoped>\n",
              "    .dataframe tbody tr th:only-of-type {\n",
              "        vertical-align: middle;\n",
              "    }\n",
              "\n",
              "    .dataframe tbody tr th {\n",
              "        vertical-align: top;\n",
              "    }\n",
              "\n",
              "    .dataframe thead th {\n",
              "        text-align: right;\n",
              "    }\n",
              "</style>\n",
              "<table border=\"1\" class=\"dataframe\">\n",
              "  <thead>\n",
              "    <tr style=\"text-align: right;\">\n",
              "      <th></th>\n",
              "      <th>country</th>\n",
              "      <th>variety</th>\n",
              "    </tr>\n",
              "  </thead>\n",
              "  <tbody>\n",
              "    <tr>\n",
              "      <th>0</th>\n",
              "      <td>Italy</td>\n",
              "      <td>White Blend</td>\n",
              "    </tr>\n",
              "    <tr>\n",
              "      <th>1</th>\n",
              "      <td>Portugal</td>\n",
              "      <td>Portuguese Red</td>\n",
              "    </tr>\n",
              "    <tr>\n",
              "      <th>...</th>\n",
              "      <td>...</td>\n",
              "      <td>...</td>\n",
              "    </tr>\n",
              "    <tr>\n",
              "      <th>98</th>\n",
              "      <td>Italy</td>\n",
              "      <td>Sangiovese</td>\n",
              "    </tr>\n",
              "    <tr>\n",
              "      <th>99</th>\n",
              "      <td>US</td>\n",
              "      <td>Bordeaux-style Red Blend</td>\n",
              "    </tr>\n",
              "  </tbody>\n",
              "</table>\n",
              "<p>100 rows × 2 columns</p>\n",
              "</div>"
            ],
            "text/plain": [
              "     country                   variety\n",
              "0      Italy               White Blend\n",
              "1   Portugal            Portuguese Red\n",
              "..       ...                       ...\n",
              "98     Italy                Sangiovese\n",
              "99        US  Bordeaux-style Red Blend\n",
              "\n",
              "[100 rows x 2 columns]"
            ]
          },
          "execution_count": 15,
          "metadata": {},
          "output_type": "execute_result"
        }
      ],
      "source": [
        "cols = ['country', 'variety']\n",
        "df = reviews.loc[:99, cols]\n",
        "\n",
        "# Check your answer\n",
        "q7.check()\n",
        "df"
      ]
    },
    {
      "cell_type": "code",
      "execution_count": null,
      "id": "7611386e",
      "metadata": {
        "execution": {
          "iopub.execute_input": "2023-12-16T18:40:44.739260Z",
          "iopub.status.busy": "2023-12-16T18:40:44.738585Z",
          "iopub.status.idle": "2023-12-16T18:40:44.743143Z",
          "shell.execute_reply": "2023-12-16T18:40:44.741711Z"
        },
        "papermill": {
          "duration": 0.025072,
          "end_time": "2023-12-16T18:40:44.745992",
          "exception": false,
          "start_time": "2023-12-16T18:40:44.720920",
          "status": "completed"
        },
        "tags": [],
        "id": "7611386e"
      },
      "outputs": [],
      "source": [
        "#q7.hint()\n",
        "#q7.solution()"
      ]
    },
    {
      "cell_type": "markdown",
      "id": "3ebb8e59",
      "metadata": {
        "papermill": {
          "duration": 0.016183,
          "end_time": "2023-12-16T18:40:44.777875",
          "exception": false,
          "start_time": "2023-12-16T18:40:44.761692",
          "status": "completed"
        },
        "tags": [],
        "id": "3ebb8e59"
      },
      "source": [
        "## 8.\n",
        "\n",
        "Create a DataFrame `italian_wines` containing reviews of wines made in `Italy`. Hint: `reviews.country` equals what?"
      ]
    },
    {
      "cell_type": "code",
      "execution_count": null,
      "id": "da2a0e1f",
      "metadata": {
        "execution": {
          "iopub.execute_input": "2023-12-16T18:40:44.811793Z",
          "iopub.status.busy": "2023-12-16T18:40:44.811380Z",
          "iopub.status.idle": "2023-12-16T18:40:44.851984Z",
          "shell.execute_reply": "2023-12-16T18:40:44.851010Z"
        },
        "papermill": {
          "duration": 0.060387,
          "end_time": "2023-12-16T18:40:44.854157",
          "exception": false,
          "start_time": "2023-12-16T18:40:44.793770",
          "status": "completed"
        },
        "tags": [],
        "id": "da2a0e1f",
        "outputId": "9af9fc9a-13b7-40f5-c52f-e27322395f9f"
      },
      "outputs": [
        {
          "data": {
            "application/javascript": [
              "parent.postMessage({\"jupyterEvent\": \"custom.exercise_interaction\", \"data\": {\"outcomeType\": 1, \"valueTowardsCompletion\": 0.1111111111111111, \"interactionType\": 1, \"questionType\": 1, \"questionId\": \"8_ItalianWines\", \"learnToolsVersion\": \"0.3.4\", \"failureMessage\": \"\", \"exceptionClass\": \"\", \"trace\": \"\"}}, \"*\")"
            ],
            "text/plain": [
              "<IPython.core.display.Javascript object>"
            ]
          },
          "metadata": {},
          "output_type": "display_data"
        },
        {
          "data": {
            "text/markdown": [
              "<span style=\"color:#33cc33\">Correct</span>"
            ],
            "text/plain": [
              "Correct"
            ]
          },
          "metadata": {},
          "output_type": "display_data"
        }
      ],
      "source": [
        "italian_wines = reviews[reviews.country == 'Italy']\n",
        "\n",
        "# Check your answer\n",
        "q8.check()"
      ]
    },
    {
      "cell_type": "code",
      "execution_count": null,
      "id": "0b70f446",
      "metadata": {
        "execution": {
          "iopub.execute_input": "2023-12-16T18:40:44.889956Z",
          "iopub.status.busy": "2023-12-16T18:40:44.889537Z",
          "iopub.status.idle": "2023-12-16T18:40:44.894570Z",
          "shell.execute_reply": "2023-12-16T18:40:44.892846Z"
        },
        "papermill": {
          "duration": 0.025478,
          "end_time": "2023-12-16T18:40:44.897255",
          "exception": false,
          "start_time": "2023-12-16T18:40:44.871777",
          "status": "completed"
        },
        "tags": [],
        "id": "0b70f446"
      },
      "outputs": [],
      "source": [
        "#q8.hint()\n",
        "#q8.solution()"
      ]
    },
    {
      "cell_type": "markdown",
      "id": "dc528be3",
      "metadata": {
        "papermill": {
          "duration": 0.016081,
          "end_time": "2023-12-16T18:40:44.931268",
          "exception": false,
          "start_time": "2023-12-16T18:40:44.915187",
          "status": "completed"
        },
        "tags": [],
        "id": "dc528be3"
      },
      "source": [
        "## 9.\n",
        "\n",
        "Create a DataFrame `top_oceania_wines` containing all reviews with at least 95 points (out of 100) for wines from Australia or New Zealand."
      ]
    },
    {
      "cell_type": "code",
      "execution_count": null,
      "id": "c14356dd",
      "metadata": {
        "execution": {
          "iopub.execute_input": "2023-12-16T18:40:44.966528Z",
          "iopub.status.busy": "2023-12-16T18:40:44.965251Z",
          "iopub.status.idle": "2023-12-16T18:40:45.014344Z",
          "shell.execute_reply": "2023-12-16T18:40:45.011968Z"
        },
        "papermill": {
          "duration": 0.070019,
          "end_time": "2023-12-16T18:40:45.017463",
          "exception": false,
          "start_time": "2023-12-16T18:40:44.947444",
          "status": "completed"
        },
        "tags": [],
        "id": "c14356dd",
        "outputId": "0c33d28a-ac49-4059-bcb8-34b7135fe97f"
      },
      "outputs": [
        {
          "data": {
            "application/javascript": [
              "parent.postMessage({\"jupyterEvent\": \"custom.exercise_interaction\", \"data\": {\"outcomeType\": 1, \"valueTowardsCompletion\": 0.1111111111111111, \"interactionType\": 1, \"questionType\": 1, \"questionId\": \"9_TopOceanicWines\", \"learnToolsVersion\": \"0.3.4\", \"failureMessage\": \"\", \"exceptionClass\": \"\", \"trace\": \"\"}}, \"*\")"
            ],
            "text/plain": [
              "<IPython.core.display.Javascript object>"
            ]
          },
          "metadata": {},
          "output_type": "display_data"
        },
        {
          "data": {
            "text/markdown": [
              "<span style=\"color:#33cc33\">Correct</span>"
            ],
            "text/plain": [
              "Correct"
            ]
          },
          "metadata": {},
          "output_type": "display_data"
        },
        {
          "data": {
            "text/html": [
              "<div>\n",
              "<style scoped>\n",
              "    .dataframe tbody tr th:only-of-type {\n",
              "        vertical-align: middle;\n",
              "    }\n",
              "\n",
              "    .dataframe tbody tr th {\n",
              "        vertical-align: top;\n",
              "    }\n",
              "\n",
              "    .dataframe thead th {\n",
              "        text-align: right;\n",
              "    }\n",
              "</style>\n",
              "<table border=\"1\" class=\"dataframe\">\n",
              "  <thead>\n",
              "    <tr style=\"text-align: right;\">\n",
              "      <th></th>\n",
              "      <th>country</th>\n",
              "      <th>description</th>\n",
              "      <th>designation</th>\n",
              "      <th>points</th>\n",
              "      <th>price</th>\n",
              "      <th>province</th>\n",
              "      <th>region_1</th>\n",
              "      <th>region_2</th>\n",
              "      <th>taster_name</th>\n",
              "      <th>taster_twitter_handle</th>\n",
              "      <th>title</th>\n",
              "      <th>variety</th>\n",
              "      <th>winery</th>\n",
              "    </tr>\n",
              "  </thead>\n",
              "  <tbody>\n",
              "    <tr>\n",
              "      <th>345</th>\n",
              "      <td>Australia</td>\n",
              "      <td>This wine contains some material over 100 year...</td>\n",
              "      <td>Rare</td>\n",
              "      <td>100</td>\n",
              "      <td>350.0</td>\n",
              "      <td>Victoria</td>\n",
              "      <td>Rutherglen</td>\n",
              "      <td>NaN</td>\n",
              "      <td>Joe Czerwinski</td>\n",
              "      <td>@JoeCz</td>\n",
              "      <td>Chambers Rosewood Vineyards NV Rare Muscat (Ru...</td>\n",
              "      <td>Muscat</td>\n",
              "      <td>Chambers Rosewood Vineyards</td>\n",
              "    </tr>\n",
              "    <tr>\n",
              "      <th>346</th>\n",
              "      <td>Australia</td>\n",
              "      <td>This deep brown wine smells like a damp, mossy...</td>\n",
              "      <td>Rare</td>\n",
              "      <td>98</td>\n",
              "      <td>350.0</td>\n",
              "      <td>Victoria</td>\n",
              "      <td>Rutherglen</td>\n",
              "      <td>NaN</td>\n",
              "      <td>Joe Czerwinski</td>\n",
              "      <td>@JoeCz</td>\n",
              "      <td>Chambers Rosewood Vineyards NV Rare Muscadelle...</td>\n",
              "      <td>Muscadelle</td>\n",
              "      <td>Chambers Rosewood Vineyards</td>\n",
              "    </tr>\n",
              "    <tr>\n",
              "      <th>...</th>\n",
              "      <td>...</td>\n",
              "      <td>...</td>\n",
              "      <td>...</td>\n",
              "      <td>...</td>\n",
              "      <td>...</td>\n",
              "      <td>...</td>\n",
              "      <td>...</td>\n",
              "      <td>...</td>\n",
              "      <td>...</td>\n",
              "      <td>...</td>\n",
              "      <td>...</td>\n",
              "      <td>...</td>\n",
              "      <td>...</td>\n",
              "    </tr>\n",
              "    <tr>\n",
              "      <th>122507</th>\n",
              "      <td>New Zealand</td>\n",
              "      <td>This blend of Cabernet Sauvignon (62.5%), Merl...</td>\n",
              "      <td>SQM Gimblett Gravels Cabernets/Merlot</td>\n",
              "      <td>95</td>\n",
              "      <td>79.0</td>\n",
              "      <td>Hawke's Bay</td>\n",
              "      <td>NaN</td>\n",
              "      <td>NaN</td>\n",
              "      <td>Joe Czerwinski</td>\n",
              "      <td>@JoeCz</td>\n",
              "      <td>Squawking Magpie 2014 SQM Gimblett Gravels Cab...</td>\n",
              "      <td>Bordeaux-style Red Blend</td>\n",
              "      <td>Squawking Magpie</td>\n",
              "    </tr>\n",
              "    <tr>\n",
              "      <th>122939</th>\n",
              "      <td>Australia</td>\n",
              "      <td>Full-bodied and plush yet vibrant and imbued w...</td>\n",
              "      <td>The Factor</td>\n",
              "      <td>98</td>\n",
              "      <td>125.0</td>\n",
              "      <td>South Australia</td>\n",
              "      <td>Barossa Valley</td>\n",
              "      <td>NaN</td>\n",
              "      <td>Joe Czerwinski</td>\n",
              "      <td>@JoeCz</td>\n",
              "      <td>Torbreck 2013 The Factor Shiraz (Barossa Valley)</td>\n",
              "      <td>Shiraz</td>\n",
              "      <td>Torbreck</td>\n",
              "    </tr>\n",
              "  </tbody>\n",
              "</table>\n",
              "<p>49 rows × 13 columns</p>\n",
              "</div>"
            ],
            "text/plain": [
              "            country                                        description  \\\n",
              "345       Australia  This wine contains some material over 100 year...   \n",
              "346       Australia  This deep brown wine smells like a damp, mossy...   \n",
              "...             ...                                                ...   \n",
              "122507  New Zealand  This blend of Cabernet Sauvignon (62.5%), Merl...   \n",
              "122939    Australia  Full-bodied and plush yet vibrant and imbued w...   \n",
              "\n",
              "                                  designation  points  price         province  \\\n",
              "345                                      Rare     100  350.0         Victoria   \n",
              "346                                      Rare      98  350.0         Victoria   \n",
              "...                                       ...     ...    ...              ...   \n",
              "122507  SQM Gimblett Gravels Cabernets/Merlot      95   79.0      Hawke's Bay   \n",
              "122939                             The Factor      98  125.0  South Australia   \n",
              "\n",
              "              region_1 region_2     taster_name taster_twitter_handle  \\\n",
              "345         Rutherglen      NaN  Joe Czerwinski                @JoeCz   \n",
              "346         Rutherglen      NaN  Joe Czerwinski                @JoeCz   \n",
              "...                ...      ...             ...                   ...   \n",
              "122507             NaN      NaN  Joe Czerwinski                @JoeCz   \n",
              "122939  Barossa Valley      NaN  Joe Czerwinski                @JoeCz   \n",
              "\n",
              "                                                    title  \\\n",
              "345     Chambers Rosewood Vineyards NV Rare Muscat (Ru...   \n",
              "346     Chambers Rosewood Vineyards NV Rare Muscadelle...   \n",
              "...                                                   ...   \n",
              "122507  Squawking Magpie 2014 SQM Gimblett Gravels Cab...   \n",
              "122939   Torbreck 2013 The Factor Shiraz (Barossa Valley)   \n",
              "\n",
              "                         variety                       winery  \n",
              "345                       Muscat  Chambers Rosewood Vineyards  \n",
              "346                   Muscadelle  Chambers Rosewood Vineyards  \n",
              "...                          ...                          ...  \n",
              "122507  Bordeaux-style Red Blend             Squawking Magpie  \n",
              "122939                    Shiraz                     Torbreck  \n",
              "\n",
              "[49 rows x 13 columns]"
            ]
          },
          "execution_count": 19,
          "metadata": {},
          "output_type": "execute_result"
        }
      ],
      "source": [
        "top_oceania_wines = reviews.loc[\n",
        "    (reviews.country.isin(['Australia', 'New Zealand']))\n",
        "    & (reviews.points >= 95)\n",
        "]\n",
        "\n",
        "# Check your answer\n",
        "q9.check()\n",
        "top_oceania_wines"
      ]
    },
    {
      "cell_type": "code",
      "execution_count": null,
      "id": "aef51007",
      "metadata": {
        "execution": {
          "iopub.execute_input": "2023-12-16T18:40:45.055490Z",
          "iopub.status.busy": "2023-12-16T18:40:45.054940Z",
          "iopub.status.idle": "2023-12-16T18:40:45.060443Z",
          "shell.execute_reply": "2023-12-16T18:40:45.059154Z"
        },
        "papermill": {
          "duration": 0.027435,
          "end_time": "2023-12-16T18:40:45.063010",
          "exception": false,
          "start_time": "2023-12-16T18:40:45.035575",
          "status": "completed"
        },
        "tags": [],
        "id": "aef51007"
      },
      "outputs": [],
      "source": [
        "#q9.hint()\n",
        "#q9.solution()"
      ]
    },
    {
      "cell_type": "markdown",
      "id": "73d3cf01",
      "metadata": {
        "papermill": {
          "duration": 0.01847,
          "end_time": "2023-12-16T18:40:45.099347",
          "exception": false,
          "start_time": "2023-12-16T18:40:45.080877",
          "status": "completed"
        },
        "tags": [],
        "id": "73d3cf01"
      },
      "source": [
        "# Keep going\n",
        "\n",
        "Move on to learn about **[summary functions and maps](https://www.kaggle.com/residentmario/summary-functions-and-maps)**."
      ]
    },
    {
      "cell_type": "markdown",
      "id": "8e51c13e",
      "metadata": {
        "papermill": {
          "duration": 0.01828,
          "end_time": "2023-12-16T18:40:45.138649",
          "exception": false,
          "start_time": "2023-12-16T18:40:45.120369",
          "status": "completed"
        },
        "tags": [],
        "id": "8e51c13e"
      },
      "source": [
        "---\n",
        "\n",
        "\n",
        "\n",
        "\n",
        "*Have questions or comments? Visit the [course discussion forum](https://www.kaggle.com/learn/pandas/discussion) to chat with other learners.*"
      ]
    }
  ],
  "metadata": {
    "kaggle": {
      "accelerator": "none",
      "dataSources": [
        {
          "datasetId": 655,
          "sourceId": 1252,
          "sourceType": "datasetVersion"
        },
        {
          "datasetId": 2321,
          "sourceId": 3919,
          "sourceType": "datasetVersion"
        },
        {
          "datasetId": 2894,
          "sourceId": 4877,
          "sourceType": "datasetVersion"
        },
        {
          "datasetId": 3491,
          "sourceId": 5624,
          "sourceType": "datasetVersion"
        },
        {
          "datasetId": 1442,
          "sourceId": 8172,
          "sourceType": "datasetVersion"
        },
        {
          "datasetId": 9366,
          "sourceId": 13206,
          "sourceType": "datasetVersion"
        },
        {
          "datasetId": 179555,
          "sourceId": 403916,
          "sourceType": "datasetVersion"
        },
        {
          "datasetId": 4549,
          "sourceId": 466349,
          "sourceType": "datasetVersion"
        },
        {
          "datasetId": 2478,
          "sourceId": 1151655,
          "sourceType": "datasetVersion"
        },
        {
          "datasetId": 10128,
          "sourceId": 5438389,
          "sourceType": "datasetVersion"
        }
      ],
      "isGpuEnabled": false,
      "isInternetEnabled": false,
      "language": "python",
      "sourceType": "notebook"
    },
    "kernelspec": {
      "display_name": "Python 3",
      "language": "python",
      "name": "python3"
    },
    "language_info": {
      "codemirror_mode": {
        "name": "ipython",
        "version": 3
      },
      "file_extension": ".py",
      "mimetype": "text/x-python",
      "name": "python",
      "nbconvert_exporter": "python",
      "pygments_lexer": "ipython3",
      "version": "3.10.12"
    },
    "papermill": {
      "default_parameters": {},
      "duration": 9.757071,
      "end_time": "2023-12-16T18:40:45.878642",
      "environment_variables": {},
      "exception": null,
      "input_path": "__notebook__.ipynb",
      "output_path": "__notebook__.ipynb",
      "parameters": {},
      "start_time": "2023-12-16T18:40:36.121571",
      "version": "2.4.0"
    },
    "colab": {
      "provenance": []
    }
  },
  "nbformat": 4,
  "nbformat_minor": 5
}