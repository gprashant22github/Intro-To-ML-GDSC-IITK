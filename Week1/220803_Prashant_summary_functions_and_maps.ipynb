{
  "cells": [
    {
      "cell_type": "markdown",
      "id": "0826b4a5",
      "metadata": {
        "papermill": {
          "duration": 0.008111,
          "end_time": "2023-12-16T18:56:51.828436",
          "exception": false,
          "start_time": "2023-12-16T18:56:51.820325",
          "status": "completed"
        },
        "tags": [],
        "id": "0826b4a5"
      },
      "source": [
        "**This notebook is an exercise in the [Pandas](https://www.kaggle.com/learn/pandas) course.  You can reference the tutorial at [this link](https://www.kaggle.com/residentmario/summary-functions-and-maps).**\n",
        "\n",
        "---\n"
      ]
    },
    {
      "cell_type": "markdown",
      "id": "c05adf9e",
      "metadata": {
        "papermill": {
          "duration": 0.006478,
          "end_time": "2023-12-16T18:56:51.842708",
          "exception": false,
          "start_time": "2023-12-16T18:56:51.836230",
          "status": "completed"
        },
        "tags": [],
        "id": "c05adf9e"
      },
      "source": [
        "# Introduction\n",
        "\n",
        "Now you are ready to get a deeper understanding of your data.\n",
        "\n",
        "Run the following cell to load your data and some utility functions (including code to check your answers)."
      ]
    },
    {
      "cell_type": "code",
      "execution_count": null,
      "id": "7272ed64",
      "metadata": {
        "execution": {
          "iopub.execute_input": "2023-12-16T18:56:51.856005Z",
          "iopub.status.busy": "2023-12-16T18:56:51.855660Z",
          "iopub.status.idle": "2023-12-16T18:56:57.714062Z",
          "shell.execute_reply": "2023-12-16T18:56:57.712783Z"
        },
        "papermill": {
          "duration": 5.868429,
          "end_time": "2023-12-16T18:56:57.717166",
          "exception": false,
          "start_time": "2023-12-16T18:56:51.848737",
          "status": "completed"
        },
        "tags": [],
        "id": "7272ed64",
        "outputId": "deb62d7f-de0c-4817-9bed-09bb35e62d21"
      },
      "outputs": [
        {
          "name": "stdout",
          "output_type": "stream",
          "text": [
            "Setup complete.\n"
          ]
        },
        {
          "data": {
            "text/html": [
              "<div>\n",
              "<style scoped>\n",
              "    .dataframe tbody tr th:only-of-type {\n",
              "        vertical-align: middle;\n",
              "    }\n",
              "\n",
              "    .dataframe tbody tr th {\n",
              "        vertical-align: top;\n",
              "    }\n",
              "\n",
              "    .dataframe thead th {\n",
              "        text-align: right;\n",
              "    }\n",
              "</style>\n",
              "<table border=\"1\" class=\"dataframe\">\n",
              "  <thead>\n",
              "    <tr style=\"text-align: right;\">\n",
              "      <th></th>\n",
              "      <th>country</th>\n",
              "      <th>description</th>\n",
              "      <th>designation</th>\n",
              "      <th>points</th>\n",
              "      <th>price</th>\n",
              "      <th>province</th>\n",
              "      <th>region_1</th>\n",
              "      <th>region_2</th>\n",
              "      <th>taster_name</th>\n",
              "      <th>taster_twitter_handle</th>\n",
              "      <th>title</th>\n",
              "      <th>variety</th>\n",
              "      <th>winery</th>\n",
              "    </tr>\n",
              "  </thead>\n",
              "  <tbody>\n",
              "    <tr>\n",
              "      <th>0</th>\n",
              "      <td>Italy</td>\n",
              "      <td>Aromas include tropical fruit, broom, brimston...</td>\n",
              "      <td>Vulkà Bianco</td>\n",
              "      <td>87</td>\n",
              "      <td>NaN</td>\n",
              "      <td>Sicily &amp; Sardinia</td>\n",
              "      <td>Etna</td>\n",
              "      <td>NaN</td>\n",
              "      <td>Kerin O’Keefe</td>\n",
              "      <td>@kerinokeefe</td>\n",
              "      <td>Nicosia 2013 Vulkà Bianco  (Etna)</td>\n",
              "      <td>White Blend</td>\n",
              "      <td>Nicosia</td>\n",
              "    </tr>\n",
              "    <tr>\n",
              "      <th>1</th>\n",
              "      <td>Portugal</td>\n",
              "      <td>This is ripe and fruity, a wine that is smooth...</td>\n",
              "      <td>Avidagos</td>\n",
              "      <td>87</td>\n",
              "      <td>15.0</td>\n",
              "      <td>Douro</td>\n",
              "      <td>NaN</td>\n",
              "      <td>NaN</td>\n",
              "      <td>Roger Voss</td>\n",
              "      <td>@vossroger</td>\n",
              "      <td>Quinta dos Avidagos 2011 Avidagos Red (Douro)</td>\n",
              "      <td>Portuguese Red</td>\n",
              "      <td>Quinta dos Avidagos</td>\n",
              "    </tr>\n",
              "    <tr>\n",
              "      <th>2</th>\n",
              "      <td>US</td>\n",
              "      <td>Tart and snappy, the flavors of lime flesh and...</td>\n",
              "      <td>NaN</td>\n",
              "      <td>87</td>\n",
              "      <td>14.0</td>\n",
              "      <td>Oregon</td>\n",
              "      <td>Willamette Valley</td>\n",
              "      <td>Willamette Valley</td>\n",
              "      <td>Paul Gregutt</td>\n",
              "      <td>@paulgwine</td>\n",
              "      <td>Rainstorm 2013 Pinot Gris (Willamette Valley)</td>\n",
              "      <td>Pinot Gris</td>\n",
              "      <td>Rainstorm</td>\n",
              "    </tr>\n",
              "    <tr>\n",
              "      <th>3</th>\n",
              "      <td>US</td>\n",
              "      <td>Pineapple rind, lemon pith and orange blossom ...</td>\n",
              "      <td>Reserve Late Harvest</td>\n",
              "      <td>87</td>\n",
              "      <td>13.0</td>\n",
              "      <td>Michigan</td>\n",
              "      <td>Lake Michigan Shore</td>\n",
              "      <td>NaN</td>\n",
              "      <td>Alexander Peartree</td>\n",
              "      <td>NaN</td>\n",
              "      <td>St. Julian 2013 Reserve Late Harvest Riesling ...</td>\n",
              "      <td>Riesling</td>\n",
              "      <td>St. Julian</td>\n",
              "    </tr>\n",
              "    <tr>\n",
              "      <th>4</th>\n",
              "      <td>US</td>\n",
              "      <td>Much like the regular bottling from 2012, this...</td>\n",
              "      <td>Vintner's Reserve Wild Child Block</td>\n",
              "      <td>87</td>\n",
              "      <td>65.0</td>\n",
              "      <td>Oregon</td>\n",
              "      <td>Willamette Valley</td>\n",
              "      <td>Willamette Valley</td>\n",
              "      <td>Paul Gregutt</td>\n",
              "      <td>@paulgwine</td>\n",
              "      <td>Sweet Cheeks 2012 Vintner's Reserve Wild Child...</td>\n",
              "      <td>Pinot Noir</td>\n",
              "      <td>Sweet Cheeks</td>\n",
              "    </tr>\n",
              "  </tbody>\n",
              "</table>\n",
              "</div>"
            ],
            "text/plain": [
              "    country                                        description  \\\n",
              "0     Italy  Aromas include tropical fruit, broom, brimston...   \n",
              "1  Portugal  This is ripe and fruity, a wine that is smooth...   \n",
              "2        US  Tart and snappy, the flavors of lime flesh and...   \n",
              "3        US  Pineapple rind, lemon pith and orange blossom ...   \n",
              "4        US  Much like the regular bottling from 2012, this...   \n",
              "\n",
              "                          designation  points  price           province  \\\n",
              "0                        Vulkà Bianco      87    NaN  Sicily & Sardinia   \n",
              "1                            Avidagos      87   15.0              Douro   \n",
              "2                                 NaN      87   14.0             Oregon   \n",
              "3                Reserve Late Harvest      87   13.0           Michigan   \n",
              "4  Vintner's Reserve Wild Child Block      87   65.0             Oregon   \n",
              "\n",
              "              region_1           region_2         taster_name  \\\n",
              "0                 Etna                NaN       Kerin O’Keefe   \n",
              "1                  NaN                NaN          Roger Voss   \n",
              "2    Willamette Valley  Willamette Valley        Paul Gregutt   \n",
              "3  Lake Michigan Shore                NaN  Alexander Peartree   \n",
              "4    Willamette Valley  Willamette Valley        Paul Gregutt   \n",
              "\n",
              "  taster_twitter_handle                                              title  \\\n",
              "0          @kerinokeefe                  Nicosia 2013 Vulkà Bianco  (Etna)   \n",
              "1            @vossroger      Quinta dos Avidagos 2011 Avidagos Red (Douro)   \n",
              "2           @paulgwine       Rainstorm 2013 Pinot Gris (Willamette Valley)   \n",
              "3                   NaN  St. Julian 2013 Reserve Late Harvest Riesling ...   \n",
              "4           @paulgwine   Sweet Cheeks 2012 Vintner's Reserve Wild Child...   \n",
              "\n",
              "          variety               winery  \n",
              "0     White Blend              Nicosia  \n",
              "1  Portuguese Red  Quinta dos Avidagos  \n",
              "2      Pinot Gris            Rainstorm  \n",
              "3        Riesling           St. Julian  \n",
              "4      Pinot Noir         Sweet Cheeks  "
            ]
          },
          "execution_count": 1,
          "metadata": {},
          "output_type": "execute_result"
        }
      ],
      "source": [
        "import pandas as pd\n",
        "pd.set_option(\"display.max_rows\", 5)\n",
        "reviews = pd.read_csv(\"../input/wine-reviews/winemag-data-130k-v2.csv\", index_col=0)\n",
        "\n",
        "from learntools.core import binder; binder.bind(globals())\n",
        "from learntools.pandas.summary_functions_and_maps import *\n",
        "print(\"Setup complete.\")\n",
        "\n",
        "reviews.head()"
      ]
    },
    {
      "cell_type": "markdown",
      "id": "356afdd5",
      "metadata": {
        "papermill": {
          "duration": 0.00576,
          "end_time": "2023-12-16T18:56:57.729479",
          "exception": false,
          "start_time": "2023-12-16T18:56:57.723719",
          "status": "completed"
        },
        "tags": [],
        "id": "356afdd5"
      },
      "source": [
        "# Exercises"
      ]
    },
    {
      "cell_type": "markdown",
      "id": "581a00e6",
      "metadata": {
        "papermill": {
          "duration": 0.005772,
          "end_time": "2023-12-16T18:56:57.741073",
          "exception": false,
          "start_time": "2023-12-16T18:56:57.735301",
          "status": "completed"
        },
        "tags": [],
        "id": "581a00e6"
      },
      "source": [
        "## 1.\n",
        "\n",
        "What is the median of the `points` column in the `reviews` DataFrame?"
      ]
    },
    {
      "cell_type": "code",
      "execution_count": null,
      "id": "227a1eb3",
      "metadata": {
        "execution": {
          "iopub.execute_input": "2023-12-16T18:56:57.755717Z",
          "iopub.status.busy": "2023-12-16T18:56:57.755281Z",
          "iopub.status.idle": "2023-12-16T18:56:57.768861Z",
          "shell.execute_reply": "2023-12-16T18:56:57.767524Z"
        },
        "papermill": {
          "duration": 0.024323,
          "end_time": "2023-12-16T18:56:57.771690",
          "exception": false,
          "start_time": "2023-12-16T18:56:57.747367",
          "status": "completed"
        },
        "tags": [],
        "id": "227a1eb3",
        "outputId": "989dcb97-e8f7-4ea5-9928-4cbe3ebab54c"
      },
      "outputs": [
        {
          "data": {
            "application/javascript": [
              "parent.postMessage({\"jupyterEvent\": \"custom.exercise_interaction\", \"data\": {\"outcomeType\": 1, \"valueTowardsCompletion\": 0.14285714285714285, \"interactionType\": 1, \"questionType\": 1, \"questionId\": \"1_MedianPoints\", \"learnToolsVersion\": \"0.3.4\", \"failureMessage\": \"\", \"exceptionClass\": \"\", \"trace\": \"\"}}, \"*\")"
            ],
            "text/plain": [
              "<IPython.core.display.Javascript object>"
            ]
          },
          "metadata": {},
          "output_type": "display_data"
        },
        {
          "data": {
            "text/markdown": [
              "<span style=\"color:#33cc33\">Correct</span>"
            ],
            "text/plain": [
              "Correct"
            ]
          },
          "metadata": {},
          "output_type": "display_data"
        }
      ],
      "source": [
        "median_points = reviews.points.median()\n",
        "\n",
        "# Check your answer\n",
        "q1.check()"
      ]
    },
    {
      "cell_type": "code",
      "execution_count": null,
      "id": "7f7660f8",
      "metadata": {
        "execution": {
          "iopub.execute_input": "2023-12-16T18:56:57.786603Z",
          "iopub.status.busy": "2023-12-16T18:56:57.786174Z",
          "iopub.status.idle": "2023-12-16T18:56:57.789908Z",
          "shell.execute_reply": "2023-12-16T18:56:57.789208Z"
        },
        "papermill": {
          "duration": 0.014095,
          "end_time": "2023-12-16T18:56:57.792398",
          "exception": false,
          "start_time": "2023-12-16T18:56:57.778303",
          "status": "completed"
        },
        "tags": [],
        "id": "7f7660f8"
      },
      "outputs": [],
      "source": [
        "#q1.hint()\n",
        "#q1.solution()"
      ]
    },
    {
      "cell_type": "markdown",
      "id": "0f4dbee2",
      "metadata": {
        "papermill": {
          "duration": 0.005997,
          "end_time": "2023-12-16T18:56:57.804987",
          "exception": false,
          "start_time": "2023-12-16T18:56:57.798990",
          "status": "completed"
        },
        "tags": [],
        "id": "0f4dbee2"
      },
      "source": [
        "## 2.\n",
        "What countries are represented in the dataset? (Your answer should not include any duplicates.)"
      ]
    },
    {
      "cell_type": "code",
      "execution_count": null,
      "id": "c68cb1ab",
      "metadata": {
        "execution": {
          "iopub.execute_input": "2023-12-16T18:56:57.820860Z",
          "iopub.status.busy": "2023-12-16T18:56:57.820461Z",
          "iopub.status.idle": "2023-12-16T18:56:57.833007Z",
          "shell.execute_reply": "2023-12-16T18:56:57.831701Z"
        },
        "papermill": {
          "duration": 0.023594,
          "end_time": "2023-12-16T18:56:57.835740",
          "exception": false,
          "start_time": "2023-12-16T18:56:57.812146",
          "status": "completed"
        },
        "tags": [],
        "id": "c68cb1ab",
        "outputId": "6decf39f-c6ca-4ed5-ecb1-5282dd1f3e5c"
      },
      "outputs": [
        {
          "data": {
            "application/javascript": [
              "parent.postMessage({\"jupyterEvent\": \"custom.exercise_interaction\", \"data\": {\"outcomeType\": 1, \"valueTowardsCompletion\": 0.14285714285714285, \"interactionType\": 1, \"questionType\": 2, \"questionId\": \"2_UniqueCountries\", \"learnToolsVersion\": \"0.3.4\", \"failureMessage\": \"\", \"exceptionClass\": \"\", \"trace\": \"\"}}, \"*\")"
            ],
            "text/plain": [
              "<IPython.core.display.Javascript object>"
            ]
          },
          "metadata": {},
          "output_type": "display_data"
        },
        {
          "data": {
            "text/markdown": [
              "<span style=\"color:#33cc33\">Correct</span>"
            ],
            "text/plain": [
              "Correct"
            ]
          },
          "metadata": {},
          "output_type": "display_data"
        }
      ],
      "source": [
        "countries = reviews.country.unique()\n",
        "\n",
        "# Check your answer\n",
        "q2.check()"
      ]
    },
    {
      "cell_type": "code",
      "execution_count": null,
      "id": "c4691a75",
      "metadata": {
        "execution": {
          "iopub.execute_input": "2023-12-16T18:56:57.850514Z",
          "iopub.status.busy": "2023-12-16T18:56:57.850132Z",
          "iopub.status.idle": "2023-12-16T18:56:57.855916Z",
          "shell.execute_reply": "2023-12-16T18:56:57.854407Z"
        },
        "papermill": {
          "duration": 0.016507,
          "end_time": "2023-12-16T18:56:57.858967",
          "exception": false,
          "start_time": "2023-12-16T18:56:57.842460",
          "status": "completed"
        },
        "tags": [],
        "id": "c4691a75"
      },
      "outputs": [],
      "source": [
        "#q2.hint()\n",
        "#q2.solution()"
      ]
    },
    {
      "cell_type": "markdown",
      "id": "0ca1d1f0",
      "metadata": {
        "papermill": {
          "duration": 0.00655,
          "end_time": "2023-12-16T18:56:57.872545",
          "exception": false,
          "start_time": "2023-12-16T18:56:57.865995",
          "status": "completed"
        },
        "tags": [],
        "id": "0ca1d1f0"
      },
      "source": [
        "## 3.\n",
        "How often does each country appear in the dataset? Create a Series `reviews_per_country` mapping countries to the count of reviews of wines from that country."
      ]
    },
    {
      "cell_type": "code",
      "execution_count": null,
      "id": "14bb143e",
      "metadata": {
        "execution": {
          "iopub.execute_input": "2023-12-16T18:56:57.888503Z",
          "iopub.status.busy": "2023-12-16T18:56:57.888147Z",
          "iopub.status.idle": "2023-12-16T18:56:57.903516Z",
          "shell.execute_reply": "2023-12-16T18:56:57.902169Z"
        },
        "papermill": {
          "duration": 0.026216,
          "end_time": "2023-12-16T18:56:57.905946",
          "exception": false,
          "start_time": "2023-12-16T18:56:57.879730",
          "status": "completed"
        },
        "tags": [],
        "id": "14bb143e",
        "outputId": "228a07d0-fcc5-471a-922a-ed810f54a82a"
      },
      "outputs": [
        {
          "data": {
            "application/javascript": [
              "parent.postMessage({\"jupyterEvent\": \"custom.exercise_interaction\", \"data\": {\"outcomeType\": 1, \"valueTowardsCompletion\": 0.14285714285714285, \"interactionType\": 1, \"questionType\": 1, \"questionId\": \"3_ReviewsPerCountry\", \"learnToolsVersion\": \"0.3.4\", \"failureMessage\": \"\", \"exceptionClass\": \"\", \"trace\": \"\"}}, \"*\")"
            ],
            "text/plain": [
              "<IPython.core.display.Javascript object>"
            ]
          },
          "metadata": {},
          "output_type": "display_data"
        },
        {
          "data": {
            "text/markdown": [
              "<span style=\"color:#33cc33\">Correct</span>"
            ],
            "text/plain": [
              "Correct"
            ]
          },
          "metadata": {},
          "output_type": "display_data"
        }
      ],
      "source": [
        "reviews_per_country = reviews.country.value_counts()\n",
        "\n",
        "# Check your answer\n",
        "q3.check()"
      ]
    },
    {
      "cell_type": "code",
      "execution_count": null,
      "id": "b61c2727",
      "metadata": {
        "execution": {
          "iopub.execute_input": "2023-12-16T18:56:57.921736Z",
          "iopub.status.busy": "2023-12-16T18:56:57.921272Z",
          "iopub.status.idle": "2023-12-16T18:56:57.927693Z",
          "shell.execute_reply": "2023-12-16T18:56:57.925445Z"
        },
        "papermill": {
          "duration": 0.017364,
          "end_time": "2023-12-16T18:56:57.930307",
          "exception": false,
          "start_time": "2023-12-16T18:56:57.912943",
          "status": "completed"
        },
        "tags": [],
        "id": "b61c2727"
      },
      "outputs": [],
      "source": [
        "#q3.hint()\n",
        "#q3.solution()"
      ]
    },
    {
      "cell_type": "markdown",
      "id": "585cb11c",
      "metadata": {
        "papermill": {
          "duration": 0.006999,
          "end_time": "2023-12-16T18:56:57.944926",
          "exception": false,
          "start_time": "2023-12-16T18:56:57.937927",
          "status": "completed"
        },
        "tags": [],
        "id": "585cb11c"
      },
      "source": [
        "## 4.\n",
        "Create variable `centered_price` containing a version of the `price` column with the mean price subtracted.\n",
        "\n",
        "(Note: this 'centering' transformation is a common preprocessing step before applying various machine learning algorithms.)"
      ]
    },
    {
      "cell_type": "code",
      "execution_count": null,
      "id": "4f3d9ec5",
      "metadata": {
        "execution": {
          "iopub.execute_input": "2023-12-16T18:56:57.960424Z",
          "iopub.status.busy": "2023-12-16T18:56:57.959959Z",
          "iopub.status.idle": "2023-12-16T18:56:57.971430Z",
          "shell.execute_reply": "2023-12-16T18:56:57.970311Z"
        },
        "papermill": {
          "duration": 0.021629,
          "end_time": "2023-12-16T18:56:57.973408",
          "exception": false,
          "start_time": "2023-12-16T18:56:57.951779",
          "status": "completed"
        },
        "tags": [],
        "id": "4f3d9ec5",
        "outputId": "140be058-e29e-4bf4-a51d-4fef1e4b3357"
      },
      "outputs": [
        {
          "data": {
            "application/javascript": [
              "parent.postMessage({\"jupyterEvent\": \"custom.exercise_interaction\", \"data\": {\"outcomeType\": 1, \"valueTowardsCompletion\": 0.14285714285714285, \"interactionType\": 1, \"questionType\": 1, \"questionId\": \"4_CenteredPrice\", \"learnToolsVersion\": \"0.3.4\", \"failureMessage\": \"\", \"exceptionClass\": \"\", \"trace\": \"\"}}, \"*\")"
            ],
            "text/plain": [
              "<IPython.core.display.Javascript object>"
            ]
          },
          "metadata": {},
          "output_type": "display_data"
        },
        {
          "data": {
            "text/markdown": [
              "<span style=\"color:#33cc33\">Correct</span>"
            ],
            "text/plain": [
              "Correct"
            ]
          },
          "metadata": {},
          "output_type": "display_data"
        }
      ],
      "source": [
        "centered_price = reviews.price - reviews.price.mean()\n",
        "\n",
        "# Check your answer\n",
        "q4.check()"
      ]
    },
    {
      "cell_type": "code",
      "execution_count": null,
      "id": "7b99ee25",
      "metadata": {
        "execution": {
          "iopub.execute_input": "2023-12-16T18:56:57.990601Z",
          "iopub.status.busy": "2023-12-16T18:56:57.990140Z",
          "iopub.status.idle": "2023-12-16T18:56:57.995325Z",
          "shell.execute_reply": "2023-12-16T18:56:57.994093Z"
        },
        "papermill": {
          "duration": 0.017011,
          "end_time": "2023-12-16T18:56:57.997440",
          "exception": false,
          "start_time": "2023-12-16T18:56:57.980429",
          "status": "completed"
        },
        "tags": [],
        "id": "7b99ee25"
      },
      "outputs": [],
      "source": [
        "#q4.hint()\n",
        "#q4.solution()"
      ]
    },
    {
      "cell_type": "markdown",
      "id": "f00ad47e",
      "metadata": {
        "papermill": {
          "duration": 0.007016,
          "end_time": "2023-12-16T18:56:58.012145",
          "exception": false,
          "start_time": "2023-12-16T18:56:58.005129",
          "status": "completed"
        },
        "tags": [],
        "id": "f00ad47e"
      },
      "source": [
        "## 5.\n",
        "I'm an economical wine buyer. Which wine is the \"best bargain\"? Create a variable `bargain_wine` with the title of the wine with the highest points-to-price ratio in the dataset."
      ]
    },
    {
      "cell_type": "code",
      "execution_count": null,
      "id": "e4e871d4",
      "metadata": {
        "execution": {
          "iopub.execute_input": "2023-12-16T18:56:58.028530Z",
          "iopub.status.busy": "2023-12-16T18:56:58.028073Z",
          "iopub.status.idle": "2023-12-16T18:56:58.044973Z",
          "shell.execute_reply": "2023-12-16T18:56:58.043261Z"
        },
        "papermill": {
          "duration": 0.02763,
          "end_time": "2023-12-16T18:56:58.046997",
          "exception": false,
          "start_time": "2023-12-16T18:56:58.019367",
          "status": "completed"
        },
        "tags": [],
        "id": "e4e871d4",
        "outputId": "37c7e4c4-1879-4464-e3f0-4cd207fe298f"
      },
      "outputs": [
        {
          "data": {
            "application/javascript": [
              "parent.postMessage({\"jupyterEvent\": \"custom.exercise_interaction\", \"data\": {\"outcomeType\": 1, \"valueTowardsCompletion\": 0.14285714285714285, \"interactionType\": 1, \"questionType\": 2, \"questionId\": \"5_BargainWine\", \"learnToolsVersion\": \"0.3.4\", \"failureMessage\": \"\", \"exceptionClass\": \"\", \"trace\": \"\"}}, \"*\")"
            ],
            "text/plain": [
              "<IPython.core.display.Javascript object>"
            ]
          },
          "metadata": {},
          "output_type": "display_data"
        },
        {
          "data": {
            "text/markdown": [
              "<span style=\"color:#33cc33\">Correct</span>"
            ],
            "text/plain": [
              "Correct"
            ]
          },
          "metadata": {},
          "output_type": "display_data"
        }
      ],
      "source": [
        "bargain_idx = (reviews.points / reviews.price).idxmax()\n",
        "bargain_wine = reviews.loc[bargain_idx, 'title']\n",
        "\n",
        "# Check your answer\n",
        "q5.check()"
      ]
    },
    {
      "cell_type": "code",
      "execution_count": null,
      "id": "2d6c91e0",
      "metadata": {
        "execution": {
          "iopub.execute_input": "2023-12-16T18:56:58.063082Z",
          "iopub.status.busy": "2023-12-16T18:56:58.062731Z",
          "iopub.status.idle": "2023-12-16T18:56:58.067849Z",
          "shell.execute_reply": "2023-12-16T18:56:58.066470Z"
        },
        "papermill": {
          "duration": 0.016505,
          "end_time": "2023-12-16T18:56:58.070723",
          "exception": false,
          "start_time": "2023-12-16T18:56:58.054218",
          "status": "completed"
        },
        "tags": [],
        "id": "2d6c91e0"
      },
      "outputs": [],
      "source": [
        "#q5.hint()\n",
        "#q5.solution()"
      ]
    },
    {
      "cell_type": "markdown",
      "id": "61e0d460",
      "metadata": {
        "papermill": {
          "duration": 0.007136,
          "end_time": "2023-12-16T18:56:58.086227",
          "exception": false,
          "start_time": "2023-12-16T18:56:58.079091",
          "status": "completed"
        },
        "tags": [],
        "id": "61e0d460"
      },
      "source": [
        "## 6.\n",
        "There are only so many words you can use when describing a bottle of wine. Is a wine more likely to be \"tropical\" or \"fruity\"? Create a Series `descriptor_counts` counting how many times each of these two words appears in the `description` column in the dataset. (For simplicity, let's ignore the capitalized versions of these words.)"
      ]
    },
    {
      "cell_type": "code",
      "execution_count": null,
      "id": "f98e3580",
      "metadata": {
        "execution": {
          "iopub.execute_input": "2023-12-16T18:56:58.104447Z",
          "iopub.status.busy": "2023-12-16T18:56:58.103992Z",
          "iopub.status.idle": "2023-12-16T18:56:58.213424Z",
          "shell.execute_reply": "2023-12-16T18:56:58.211719Z"
        },
        "papermill": {
          "duration": 0.121078,
          "end_time": "2023-12-16T18:56:58.215616",
          "exception": false,
          "start_time": "2023-12-16T18:56:58.094538",
          "status": "completed"
        },
        "tags": [],
        "id": "f98e3580",
        "outputId": "7d378ca6-fc02-4664-fc0f-aa6722eb5daf"
      },
      "outputs": [
        {
          "data": {
            "application/javascript": [
              "parent.postMessage({\"jupyterEvent\": \"custom.exercise_interaction\", \"data\": {\"outcomeType\": 1, \"valueTowardsCompletion\": 0.14285714285714285, \"interactionType\": 1, \"questionType\": 1, \"questionId\": \"6_DescriptorCounts\", \"learnToolsVersion\": \"0.3.4\", \"failureMessage\": \"\", \"exceptionClass\": \"\", \"trace\": \"\"}}, \"*\")"
            ],
            "text/plain": [
              "<IPython.core.display.Javascript object>"
            ]
          },
          "metadata": {},
          "output_type": "display_data"
        },
        {
          "data": {
            "text/markdown": [
              "<span style=\"color:#33cc33\">Correct</span>"
            ],
            "text/plain": [
              "Correct"
            ]
          },
          "metadata": {},
          "output_type": "display_data"
        }
      ],
      "source": [
        "n_trop = reviews.description.map(lambda desc: \"tropical\" in desc).sum()\n",
        "n_fruity = reviews.description.map(lambda desc: \"fruity\" in desc).sum()\n",
        "descriptor_counts = pd.Series([n_trop, n_fruity], index=['tropical', 'fruity'])\n",
        "# Check your answer\n",
        "q6.check()"
      ]
    },
    {
      "cell_type": "code",
      "execution_count": null,
      "id": "2026ce2c",
      "metadata": {
        "execution": {
          "iopub.execute_input": "2023-12-16T18:56:58.232417Z",
          "iopub.status.busy": "2023-12-16T18:56:58.231977Z",
          "iopub.status.idle": "2023-12-16T18:56:58.238022Z",
          "shell.execute_reply": "2023-12-16T18:56:58.236442Z"
        },
        "papermill": {
          "duration": 0.018035,
          "end_time": "2023-12-16T18:56:58.241049",
          "exception": false,
          "start_time": "2023-12-16T18:56:58.223014",
          "status": "completed"
        },
        "tags": [],
        "id": "2026ce2c"
      },
      "outputs": [],
      "source": [
        "#q6.hint()\n",
        "#q6.solution()"
      ]
    },
    {
      "cell_type": "markdown",
      "id": "1a4ddf78",
      "metadata": {
        "papermill": {
          "duration": 0.007625,
          "end_time": "2023-12-16T18:56:58.257177",
          "exception": false,
          "start_time": "2023-12-16T18:56:58.249552",
          "status": "completed"
        },
        "tags": [],
        "id": "1a4ddf78"
      },
      "source": [
        "## 7.\n",
        "We'd like to host these wine reviews on our website, but a rating system ranging from 80 to 100 points is too hard to understand - we'd like to translate them into simple star ratings. A score of 95 or higher counts as 3 stars, a score of at least 85 but less than 95 is 2 stars. Any other score is 1 star.\n",
        "\n",
        "Also, the Canadian Vintners Association bought a lot of ads on the site, so any wines from Canada should automatically get 3 stars, regardless of points.\n",
        "\n",
        "Create a series `star_ratings` with the number of stars corresponding to each review in the dataset."
      ]
    },
    {
      "cell_type": "code",
      "execution_count": null,
      "id": "8c19cb9d",
      "metadata": {
        "execution": {
          "iopub.execute_input": "2023-12-16T18:56:58.274494Z",
          "iopub.status.busy": "2023-12-16T18:56:58.274134Z",
          "iopub.status.idle": "2023-12-16T18:57:01.142927Z",
          "shell.execute_reply": "2023-12-16T18:57:01.140982Z"
        },
        "papermill": {
          "duration": 2.881153,
          "end_time": "2023-12-16T18:57:01.145906",
          "exception": false,
          "start_time": "2023-12-16T18:56:58.264753",
          "status": "completed"
        },
        "tags": [],
        "id": "8c19cb9d",
        "outputId": "33e345e3-2447-41cb-8a70-e5d14a14815b"
      },
      "outputs": [
        {
          "data": {
            "application/javascript": [
              "parent.postMessage({\"jupyterEvent\": \"custom.exercise_interaction\", \"data\": {\"outcomeType\": 1, \"valueTowardsCompletion\": 0.14285714285714285, \"interactionType\": 1, \"questionType\": 1, \"questionId\": \"7_StarRatings\", \"learnToolsVersion\": \"0.3.4\", \"failureMessage\": \"\", \"exceptionClass\": \"\", \"trace\": \"\"}}, \"*\")"
            ],
            "text/plain": [
              "<IPython.core.display.Javascript object>"
            ]
          },
          "metadata": {},
          "output_type": "display_data"
        },
        {
          "data": {
            "text/markdown": [
              "<span style=\"color:#33cc33\">Correct</span>"
            ],
            "text/plain": [
              "Correct"
            ]
          },
          "metadata": {},
          "output_type": "display_data"
        }
      ],
      "source": [
        "def stars(row):\n",
        "    if row.country == 'Canada':\n",
        "        return 3\n",
        "    elif row.points >= 95:\n",
        "        return 3\n",
        "    elif row.points >= 85:\n",
        "        return 2\n",
        "    else:\n",
        "        return 1\n",
        "\n",
        "star_ratings = reviews.apply(stars, axis='columns')\n",
        "\n",
        "# Check your answer\n",
        "q7.check()"
      ]
    },
    {
      "cell_type": "code",
      "execution_count": null,
      "id": "b6b36881",
      "metadata": {
        "execution": {
          "iopub.execute_input": "2023-12-16T18:57:01.164119Z",
          "iopub.status.busy": "2023-12-16T18:57:01.163681Z",
          "iopub.status.idle": "2023-12-16T18:57:01.169742Z",
          "shell.execute_reply": "2023-12-16T18:57:01.168241Z"
        },
        "papermill": {
          "duration": 0.018114,
          "end_time": "2023-12-16T18:57:01.172109",
          "exception": false,
          "start_time": "2023-12-16T18:57:01.153995",
          "status": "completed"
        },
        "tags": [],
        "id": "b6b36881"
      },
      "outputs": [],
      "source": [
        "#q7.hint()\n",
        "#q7.solution()"
      ]
    },
    {
      "cell_type": "markdown",
      "id": "3aeb35e2",
      "metadata": {
        "papermill": {
          "duration": 0.007491,
          "end_time": "2023-12-16T18:57:01.187508",
          "exception": false,
          "start_time": "2023-12-16T18:57:01.180017",
          "status": "completed"
        },
        "tags": [],
        "id": "3aeb35e2"
      },
      "source": [
        "# Keep going\n",
        "Continue to **[grouping and sorting](https://www.kaggle.com/residentmario/grouping-and-sorting)**."
      ]
    },
    {
      "cell_type": "markdown",
      "id": "e315a5d4",
      "metadata": {
        "papermill": {
          "duration": 0.007552,
          "end_time": "2023-12-16T18:57:01.202694",
          "exception": false,
          "start_time": "2023-12-16T18:57:01.195142",
          "status": "completed"
        },
        "tags": [],
        "id": "e315a5d4"
      },
      "source": [
        "---\n",
        "\n",
        "\n",
        "\n",
        "\n",
        "*Have questions or comments? Visit the [course discussion forum](https://www.kaggle.com/learn/pandas/discussion) to chat with other learners.*"
      ]
    }
  ],
  "metadata": {
    "kaggle": {
      "accelerator": "none",
      "dataSources": [
        {
          "datasetId": 655,
          "sourceId": 1252,
          "sourceType": "datasetVersion"
        },
        {
          "datasetId": 2321,
          "sourceId": 3919,
          "sourceType": "datasetVersion"
        },
        {
          "datasetId": 2894,
          "sourceId": 4877,
          "sourceType": "datasetVersion"
        },
        {
          "datasetId": 3491,
          "sourceId": 5624,
          "sourceType": "datasetVersion"
        },
        {
          "datasetId": 1442,
          "sourceId": 8172,
          "sourceType": "datasetVersion"
        },
        {
          "datasetId": 9366,
          "sourceId": 13206,
          "sourceType": "datasetVersion"
        },
        {
          "datasetId": 179555,
          "sourceId": 403916,
          "sourceType": "datasetVersion"
        },
        {
          "datasetId": 4549,
          "sourceId": 466349,
          "sourceType": "datasetVersion"
        },
        {
          "datasetId": 2478,
          "sourceId": 1151655,
          "sourceType": "datasetVersion"
        },
        {
          "datasetId": 10128,
          "sourceId": 5438389,
          "sourceType": "datasetVersion"
        }
      ],
      "isGpuEnabled": false,
      "isInternetEnabled": false,
      "language": "python",
      "sourceType": "notebook"
    },
    "kernelspec": {
      "display_name": "Python 3",
      "language": "python",
      "name": "python3"
    },
    "language_info": {
      "codemirror_mode": {
        "name": "ipython",
        "version": 3
      },
      "file_extension": ".py",
      "mimetype": "text/x-python",
      "name": "python",
      "nbconvert_exporter": "python",
      "pygments_lexer": "ipython3",
      "version": "3.10.12"
    },
    "papermill": {
      "default_parameters": {},
      "duration": 13.025507,
      "end_time": "2023-12-16T18:57:01.934080",
      "environment_variables": {},
      "exception": null,
      "input_path": "__notebook__.ipynb",
      "output_path": "__notebook__.ipynb",
      "parameters": {},
      "start_time": "2023-12-16T18:56:48.908573",
      "version": "2.4.0"
    },
    "colab": {
      "provenance": []
    }
  },
  "nbformat": 4,
  "nbformat_minor": 5
}