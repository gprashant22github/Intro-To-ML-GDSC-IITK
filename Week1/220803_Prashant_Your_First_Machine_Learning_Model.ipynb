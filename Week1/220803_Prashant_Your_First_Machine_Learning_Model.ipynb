{
  "cells": [
    {
      "cell_type": "markdown",
      "id": "164fd56a",
      "metadata": {
        "papermill": {
          "duration": 0.007512,
          "end_time": "2023-12-16T15:04:07.194011",
          "exception": false,
          "start_time": "2023-12-16T15:04:07.186499",
          "status": "completed"
        },
        "tags": [],
        "id": "164fd56a"
      },
      "source": [
        "**This notebook is an exercise in the [Introduction to Machine Learning](https://www.kaggle.com/learn/intro-to-machine-learning) course.  You can reference the tutorial at [this link](https://www.kaggle.com/dansbecker/your-first-machine-learning-model).**\n",
        "\n",
        "---\n"
      ]
    },
    {
      "cell_type": "markdown",
      "id": "64a7077c",
      "metadata": {
        "papermill": {
          "duration": 0.006552,
          "end_time": "2023-12-16T15:04:07.207622",
          "exception": false,
          "start_time": "2023-12-16T15:04:07.201070",
          "status": "completed"
        },
        "tags": [],
        "id": "64a7077c"
      },
      "source": [
        "## Recap\n",
        "So far, you have loaded your data and reviewed it with the following code. Run this cell to set up your coding environment where the previous step left off."
      ]
    },
    {
      "cell_type": "code",
      "execution_count": null,
      "id": "fce1c39d",
      "metadata": {
        "execution": {
          "iopub.execute_input": "2023-12-16T15:04:07.223803Z",
          "iopub.status.busy": "2023-12-16T15:04:07.223128Z",
          "iopub.status.idle": "2023-12-16T15:04:09.281578Z",
          "shell.execute_reply": "2023-12-16T15:04:09.280307Z"
        },
        "papermill": {
          "duration": 2.069853,
          "end_time": "2023-12-16T15:04:09.284374",
          "exception": false,
          "start_time": "2023-12-16T15:04:07.214521",
          "status": "completed"
        },
        "tags": [],
        "id": "fce1c39d",
        "outputId": "68051899-d66a-473e-892c-be962d50c052"
      },
      "outputs": [
        {
          "name": "stdout",
          "output_type": "stream",
          "text": [
            "Setup Complete\n"
          ]
        }
      ],
      "source": [
        "# Code you have previously used to load data\n",
        "import pandas as pd\n",
        "\n",
        "# Path of the file to read\n",
        "iowa_file_path = '../input/home-data-for-ml-course/train.csv'\n",
        "\n",
        "home_data = pd.read_csv(iowa_file_path)\n",
        "\n",
        "# Set up code checking\n",
        "from learntools.core import binder\n",
        "binder.bind(globals())\n",
        "from learntools.machine_learning.ex3 import *\n",
        "\n",
        "print(\"Setup Complete\")"
      ]
    },
    {
      "cell_type": "markdown",
      "id": "5e1abfcb",
      "metadata": {
        "papermill": {
          "duration": 0.006787,
          "end_time": "2023-12-16T15:04:09.298402",
          "exception": false,
          "start_time": "2023-12-16T15:04:09.291615",
          "status": "completed"
        },
        "tags": [],
        "id": "5e1abfcb"
      },
      "source": [
        "# Exercises\n",
        "\n",
        "## Step 1: Specify Prediction Target\n",
        "Select the target variable, which corresponds to the sales price. Save this to a new variable called `y`. You'll need to print a list of the columns to find the name of the column you need.\n"
      ]
    },
    {
      "cell_type": "code",
      "execution_count": null,
      "id": "caac1879",
      "metadata": {
        "execution": {
          "iopub.execute_input": "2023-12-16T15:04:09.315583Z",
          "iopub.status.busy": "2023-12-16T15:04:09.315168Z",
          "iopub.status.idle": "2023-12-16T15:04:09.355527Z",
          "shell.execute_reply": "2023-12-16T15:04:09.354369Z"
        },
        "papermill": {
          "duration": 0.052484,
          "end_time": "2023-12-16T15:04:09.358191",
          "exception": false,
          "start_time": "2023-12-16T15:04:09.305707",
          "status": "completed"
        },
        "tags": [],
        "id": "caac1879",
        "outputId": "4f729818-ded6-46b6-e646-4d42a0393e0a"
      },
      "outputs": [
        {
          "data": {
            "text/plain": [
              "Index(['Id', 'MSSubClass', 'MSZoning', 'LotFrontage', 'LotArea', 'Street',\n",
              "       'Alley', 'LotShape', 'LandContour', 'Utilities', 'LotConfig',\n",
              "       'LandSlope', 'Neighborhood', 'Condition1', 'Condition2', 'BldgType',\n",
              "       'HouseStyle', 'OverallQual', 'OverallCond', 'YearBuilt', 'YearRemodAdd',\n",
              "       'RoofStyle', 'RoofMatl', 'Exterior1st', 'Exterior2nd', 'MasVnrType',\n",
              "       'MasVnrArea', 'ExterQual', 'ExterCond', 'Foundation', 'BsmtQual',\n",
              "       'BsmtCond', 'BsmtExposure', 'BsmtFinType1', 'BsmtFinSF1',\n",
              "       'BsmtFinType2', 'BsmtFinSF2', 'BsmtUnfSF', 'TotalBsmtSF', 'Heating',\n",
              "       'HeatingQC', 'CentralAir', 'Electrical', '1stFlrSF', '2ndFlrSF',\n",
              "       'LowQualFinSF', 'GrLivArea', 'BsmtFullBath', 'BsmtHalfBath', 'FullBath',\n",
              "       'HalfBath', 'BedroomAbvGr', 'KitchenAbvGr', 'KitchenQual',\n",
              "       'TotRmsAbvGrd', 'Functional', 'Fireplaces', 'FireplaceQu', 'GarageType',\n",
              "       'GarageYrBlt', 'GarageFinish', 'GarageCars', 'GarageArea', 'GarageQual',\n",
              "       'GarageCond', 'PavedDrive', 'WoodDeckSF', 'OpenPorchSF',\n",
              "       'EnclosedPorch', '3SsnPorch', 'ScreenPorch', 'PoolArea', 'PoolQC',\n",
              "       'Fence', 'MiscFeature', 'MiscVal', 'MoSold', 'YrSold', 'SaleType',\n",
              "       'SaleCondition', 'SalePrice'],\n",
              "      dtype='object')"
            ]
          },
          "execution_count": 2,
          "metadata": {},
          "output_type": "execute_result"
        }
      ],
      "source": [
        "# print the list of columns in the dataset to find the name of the prediction target\n",
        "import pandas as pd\n",
        "\n",
        "iowa_file_path = '../input/home-data-for-ml-course/train.csv'\n",
        "\n",
        "home_data = pd.read_csv(iowa_file_path)\n",
        "\n",
        "home_data.columns"
      ]
    },
    {
      "cell_type": "code",
      "execution_count": null,
      "id": "39fba7c6",
      "metadata": {
        "execution": {
          "iopub.execute_input": "2023-12-16T15:04:09.374717Z",
          "iopub.status.busy": "2023-12-16T15:04:09.374253Z",
          "iopub.status.idle": "2023-12-16T15:04:09.389458Z",
          "shell.execute_reply": "2023-12-16T15:04:09.388252Z"
        },
        "papermill": {
          "duration": 0.026431,
          "end_time": "2023-12-16T15:04:09.391956",
          "exception": false,
          "start_time": "2023-12-16T15:04:09.365525",
          "status": "completed"
        },
        "tags": [],
        "id": "39fba7c6",
        "outputId": "4a4be141-cbda-4a9d-ce0e-a2c778576f8a"
      },
      "outputs": [
        {
          "data": {
            "application/javascript": [
              "parent.postMessage({\"jupyterEvent\": \"custom.exercise_interaction\", \"data\": {\"outcomeType\": 1, \"valueTowardsCompletion\": 0.25, \"interactionType\": 1, \"questionType\": 2, \"questionId\": \"1_SetTarget\", \"learnToolsVersion\": \"0.3.4\", \"failureMessage\": \"\", \"exceptionClass\": \"\", \"trace\": \"\"}}, \"*\")"
            ],
            "text/plain": [
              "<IPython.core.display.Javascript object>"
            ]
          },
          "metadata": {},
          "output_type": "display_data"
        },
        {
          "data": {
            "text/markdown": [
              "<span style=\"color:#33cc33\">Correct</span>"
            ],
            "text/plain": [
              "Correct"
            ]
          },
          "metadata": {},
          "output_type": "display_data"
        }
      ],
      "source": [
        "y = home_data.SalePrice\n",
        "\n",
        "# Check your answer\n",
        "step_1.check()"
      ]
    },
    {
      "cell_type": "code",
      "execution_count": null,
      "id": "b90c5360",
      "metadata": {
        "execution": {
          "iopub.execute_input": "2023-12-16T15:04:09.409613Z",
          "iopub.status.busy": "2023-12-16T15:04:09.408719Z",
          "iopub.status.idle": "2023-12-16T15:04:09.413604Z",
          "shell.execute_reply": "2023-12-16T15:04:09.412377Z"
        },
        "papermill": {
          "duration": 0.016408,
          "end_time": "2023-12-16T15:04:09.415902",
          "exception": false,
          "start_time": "2023-12-16T15:04:09.399494",
          "status": "completed"
        },
        "tags": [],
        "id": "b90c5360"
      },
      "outputs": [],
      "source": [
        "# The lines below will show you a hint or the solution.\n",
        "#step_1.hint()\n",
        "#step_1.solution()"
      ]
    },
    {
      "cell_type": "markdown",
      "id": "5b1699c9",
      "metadata": {
        "papermill": {
          "duration": 0.007298,
          "end_time": "2023-12-16T15:04:09.430762",
          "exception": false,
          "start_time": "2023-12-16T15:04:09.423464",
          "status": "completed"
        },
        "tags": [],
        "id": "5b1699c9"
      },
      "source": [
        "## Step 2: Create X\n",
        "Now you will create a DataFrame called `X` holding the predictive features.\n",
        "\n",
        "Since you want only some columns from the original data, you'll first create a list with the names of the columns you want in `X`.\n",
        "\n",
        "You'll use just the following columns in the list (you can copy and paste the whole list to save some typing, though you'll still need to add quotes):\n",
        "  * LotArea\n",
        "  * YearBuilt\n",
        "  * 1stFlrSF\n",
        "  * 2ndFlrSF\n",
        "  * FullBath\n",
        "  * BedroomAbvGr\n",
        "  * TotRmsAbvGrd\n",
        "\n",
        "After you've created that list of features, use it to create the DataFrame that you'll use to fit the model."
      ]
    },
    {
      "cell_type": "code",
      "execution_count": null,
      "id": "6957cc21",
      "metadata": {
        "execution": {
          "iopub.execute_input": "2023-12-16T15:04:09.447599Z",
          "iopub.status.busy": "2023-12-16T15:04:09.447191Z",
          "iopub.status.idle": "2023-12-16T15:04:09.483596Z",
          "shell.execute_reply": "2023-12-16T15:04:09.482451Z"
        },
        "papermill": {
          "duration": 0.047739,
          "end_time": "2023-12-16T15:04:09.486059",
          "exception": false,
          "start_time": "2023-12-16T15:04:09.438320",
          "status": "completed"
        },
        "tags": [],
        "id": "6957cc21",
        "outputId": "446e3e56-7d46-4695-dab9-3c9a2078a9a5"
      },
      "outputs": [
        {
          "data": {
            "application/javascript": [
              "parent.postMessage({\"jupyterEvent\": \"custom.exercise_interaction\", \"data\": {\"outcomeType\": 1, \"valueTowardsCompletion\": 0.25, \"interactionType\": 1, \"questionType\": 2, \"questionId\": \"2_SelectPredictionData\", \"learnToolsVersion\": \"0.3.4\", \"failureMessage\": \"\", \"exceptionClass\": \"\", \"trace\": \"\"}}, \"*\")"
            ],
            "text/plain": [
              "<IPython.core.display.Javascript object>"
            ]
          },
          "metadata": {},
          "output_type": "display_data"
        },
        {
          "data": {
            "text/markdown": [
              "<span style=\"color:#33cc33\">Correct</span>"
            ],
            "text/plain": [
              "Correct"
            ]
          },
          "metadata": {},
          "output_type": "display_data"
        }
      ],
      "source": [
        "# Create the list of features below\n",
        "feature_names = ['LotArea','YearBuilt','1stFlrSF','2ndFlrSF','FullBath','BedroomAbvGr','TotRmsAbvGrd']\n",
        "\n",
        "# Select data corresponding to features in feature_names\n",
        "X = home_data[feature_names]\n",
        "X.describe()\n",
        "\n",
        "# Check your answer\n",
        "step_2.check()"
      ]
    },
    {
      "cell_type": "code",
      "execution_count": null,
      "id": "23be04d9",
      "metadata": {
        "execution": {
          "iopub.execute_input": "2023-12-16T15:04:09.504466Z",
          "iopub.status.busy": "2023-12-16T15:04:09.503584Z",
          "iopub.status.idle": "2023-12-16T15:04:09.508682Z",
          "shell.execute_reply": "2023-12-16T15:04:09.507675Z"
        },
        "papermill": {
          "duration": 0.017211,
          "end_time": "2023-12-16T15:04:09.511203",
          "exception": false,
          "start_time": "2023-12-16T15:04:09.493992",
          "status": "completed"
        },
        "tags": [],
        "id": "23be04d9"
      },
      "outputs": [],
      "source": [
        "#step_2.hint()\n",
        "#step_2.solution()"
      ]
    },
    {
      "cell_type": "markdown",
      "id": "08c4bf8d",
      "metadata": {
        "papermill": {
          "duration": 0.007727,
          "end_time": "2023-12-16T15:04:09.527378",
          "exception": false,
          "start_time": "2023-12-16T15:04:09.519651",
          "status": "completed"
        },
        "tags": [],
        "id": "08c4bf8d"
      },
      "source": [
        "## Review Data\n",
        "Before building a model, take a quick look at **X** to verify it looks sensible"
      ]
    },
    {
      "cell_type": "code",
      "execution_count": null,
      "id": "b31dedee",
      "metadata": {
        "execution": {
          "iopub.execute_input": "2023-12-16T15:04:09.545302Z",
          "iopub.status.busy": "2023-12-16T15:04:09.544901Z",
          "iopub.status.idle": "2023-12-16T15:04:09.578021Z",
          "shell.execute_reply": "2023-12-16T15:04:09.576720Z"
        },
        "papermill": {
          "duration": 0.04568,
          "end_time": "2023-12-16T15:04:09.580950",
          "exception": false,
          "start_time": "2023-12-16T15:04:09.535270",
          "status": "completed"
        },
        "tags": [],
        "id": "b31dedee",
        "outputId": "e1c8e1a5-8d68-4ede-88bc-0fc9751d6a18"
      },
      "outputs": [
        {
          "data": {
            "text/html": [
              "<div>\n",
              "<style scoped>\n",
              "    .dataframe tbody tr th:only-of-type {\n",
              "        vertical-align: middle;\n",
              "    }\n",
              "\n",
              "    .dataframe tbody tr th {\n",
              "        vertical-align: top;\n",
              "    }\n",
              "\n",
              "    .dataframe thead th {\n",
              "        text-align: right;\n",
              "    }\n",
              "</style>\n",
              "<table border=\"1\" class=\"dataframe\">\n",
              "  <thead>\n",
              "    <tr style=\"text-align: right;\">\n",
              "      <th></th>\n",
              "      <th>LotArea</th>\n",
              "      <th>YearBuilt</th>\n",
              "      <th>1stFlrSF</th>\n",
              "      <th>2ndFlrSF</th>\n",
              "      <th>FullBath</th>\n",
              "      <th>BedroomAbvGr</th>\n",
              "      <th>TotRmsAbvGrd</th>\n",
              "    </tr>\n",
              "  </thead>\n",
              "  <tbody>\n",
              "    <tr>\n",
              "      <th>0</th>\n",
              "      <td>8450</td>\n",
              "      <td>2003</td>\n",
              "      <td>856</td>\n",
              "      <td>854</td>\n",
              "      <td>2</td>\n",
              "      <td>3</td>\n",
              "      <td>8</td>\n",
              "    </tr>\n",
              "    <tr>\n",
              "      <th>1</th>\n",
              "      <td>9600</td>\n",
              "      <td>1976</td>\n",
              "      <td>1262</td>\n",
              "      <td>0</td>\n",
              "      <td>2</td>\n",
              "      <td>3</td>\n",
              "      <td>6</td>\n",
              "    </tr>\n",
              "    <tr>\n",
              "      <th>2</th>\n",
              "      <td>11250</td>\n",
              "      <td>2001</td>\n",
              "      <td>920</td>\n",
              "      <td>866</td>\n",
              "      <td>2</td>\n",
              "      <td>3</td>\n",
              "      <td>6</td>\n",
              "    </tr>\n",
              "    <tr>\n",
              "      <th>3</th>\n",
              "      <td>9550</td>\n",
              "      <td>1915</td>\n",
              "      <td>961</td>\n",
              "      <td>756</td>\n",
              "      <td>1</td>\n",
              "      <td>3</td>\n",
              "      <td>7</td>\n",
              "    </tr>\n",
              "    <tr>\n",
              "      <th>4</th>\n",
              "      <td>14260</td>\n",
              "      <td>2000</td>\n",
              "      <td>1145</td>\n",
              "      <td>1053</td>\n",
              "      <td>2</td>\n",
              "      <td>4</td>\n",
              "      <td>9</td>\n",
              "    </tr>\n",
              "  </tbody>\n",
              "</table>\n",
              "</div>"
            ],
            "text/plain": [
              "   LotArea  YearBuilt  1stFlrSF  2ndFlrSF  FullBath  BedroomAbvGr  \\\n",
              "0     8450       2003       856       854         2             3   \n",
              "1     9600       1976      1262         0         2             3   \n",
              "2    11250       2001       920       866         2             3   \n",
              "3     9550       1915       961       756         1             3   \n",
              "4    14260       2000      1145      1053         2             4   \n",
              "\n",
              "   TotRmsAbvGrd  \n",
              "0             8  \n",
              "1             6  \n",
              "2             6  \n",
              "3             7  \n",
              "4             9  "
            ]
          },
          "execution_count": 7,
          "metadata": {},
          "output_type": "execute_result"
        }
      ],
      "source": [
        "# Review data\n",
        "# print description or statistics from X\n",
        "#print(_)\n",
        "X.describe()\n",
        "\n",
        "# print the top few lines\n",
        "#print(_)\n",
        "X.head()"
      ]
    },
    {
      "cell_type": "markdown",
      "id": "d0facc2b",
      "metadata": {
        "papermill": {
          "duration": 0.007919,
          "end_time": "2023-12-16T15:04:09.597305",
          "exception": false,
          "start_time": "2023-12-16T15:04:09.589386",
          "status": "completed"
        },
        "tags": [],
        "id": "d0facc2b"
      },
      "source": [
        "## Step 3: Specify and Fit Model\n",
        "Create a `DecisionTreeRegressor` and save it iowa_model. Ensure you've done the relevant import from sklearn to run this command.\n",
        "\n",
        "Then fit the model you just created using the data in `X` and `y` that you saved above."
      ]
    },
    {
      "cell_type": "code",
      "execution_count": null,
      "id": "aee4f546",
      "metadata": {
        "execution": {
          "iopub.execute_input": "2023-12-16T15:04:09.616298Z",
          "iopub.status.busy": "2023-12-16T15:04:09.615889Z",
          "iopub.status.idle": "2023-12-16T15:04:09.636270Z",
          "shell.execute_reply": "2023-12-16T15:04:09.635372Z"
        },
        "papermill": {
          "duration": 0.032878,
          "end_time": "2023-12-16T15:04:09.638460",
          "exception": false,
          "start_time": "2023-12-16T15:04:09.605582",
          "status": "completed"
        },
        "tags": [],
        "id": "aee4f546",
        "outputId": "efb038be-2e3f-496b-8476-f92c3c639b5e"
      },
      "outputs": [
        {
          "data": {
            "application/javascript": [
              "parent.postMessage({\"jupyterEvent\": \"custom.exercise_interaction\", \"data\": {\"outcomeType\": 1, \"valueTowardsCompletion\": 0.25, \"interactionType\": 1, \"questionType\": 2, \"questionId\": \"3_CreateModel\", \"learnToolsVersion\": \"0.3.4\", \"failureMessage\": \"\", \"exceptionClass\": \"\", \"trace\": \"\"}}, \"*\")"
            ],
            "text/plain": [
              "<IPython.core.display.Javascript object>"
            ]
          },
          "metadata": {},
          "output_type": "display_data"
        },
        {
          "data": {
            "text/markdown": [
              "<span style=\"color:#33cc33\">Correct</span>"
            ],
            "text/plain": [
              "Correct"
            ]
          },
          "metadata": {},
          "output_type": "display_data"
        }
      ],
      "source": [
        "# from _ import _\n",
        "from sklearn.tree import DecisionTreeRegressor\n",
        "#specify the model.\n",
        "#For model reproducibility, set a numeric value for random_state when specifying the model\n",
        "iowa_model = DecisionTreeRegressor(random_state=1)\n",
        "\n",
        "# Fit the model\n",
        "iowa_model.fit(X,y)\n",
        "\n",
        "# Check your answer\n",
        "step_3.check()"
      ]
    },
    {
      "cell_type": "code",
      "execution_count": null,
      "id": "f093cdc9",
      "metadata": {
        "collapsed": true,
        "execution": {
          "iopub.execute_input": "2023-12-16T15:04:09.657882Z",
          "iopub.status.busy": "2023-12-16T15:04:09.657389Z",
          "iopub.status.idle": "2023-12-16T15:04:09.662484Z",
          "shell.execute_reply": "2023-12-16T15:04:09.661204Z"
        },
        "jupyter": {
          "outputs_hidden": true
        },
        "papermill": {
          "duration": 0.017849,
          "end_time": "2023-12-16T15:04:09.665103",
          "exception": false,
          "start_time": "2023-12-16T15:04:09.647254",
          "status": "completed"
        },
        "tags": [],
        "id": "f093cdc9"
      },
      "outputs": [],
      "source": [
        "# step_3.hint()\n",
        "# step_3.solution()"
      ]
    },
    {
      "cell_type": "markdown",
      "id": "40dbd55a",
      "metadata": {
        "papermill": {
          "duration": 0.008348,
          "end_time": "2023-12-16T15:04:09.682227",
          "exception": false,
          "start_time": "2023-12-16T15:04:09.673879",
          "status": "completed"
        },
        "tags": [],
        "id": "40dbd55a"
      },
      "source": [
        "## Step 4: Make Predictions\n",
        "Make predictions with the model's `predict` command using `X` as the data. Save the results to a variable called `predictions`."
      ]
    },
    {
      "cell_type": "code",
      "execution_count": null,
      "id": "f9380a34",
      "metadata": {
        "execution": {
          "iopub.execute_input": "2023-12-16T15:04:09.702120Z",
          "iopub.status.busy": "2023-12-16T15:04:09.701618Z",
          "iopub.status.idle": "2023-12-16T15:04:09.717823Z",
          "shell.execute_reply": "2023-12-16T15:04:09.716648Z"
        },
        "papermill": {
          "duration": 0.028986,
          "end_time": "2023-12-16T15:04:09.720336",
          "exception": false,
          "start_time": "2023-12-16T15:04:09.691350",
          "status": "completed"
        },
        "tags": [],
        "id": "f9380a34",
        "outputId": "6a8b5e0f-a143-4174-bc45-19af5c09b5b8"
      },
      "outputs": [
        {
          "name": "stdout",
          "output_type": "stream",
          "text": [
            "[208500. 181500. 223500. ... 266500. 142125. 147500.]\n"
          ]
        },
        {
          "data": {
            "application/javascript": [
              "parent.postMessage({\"jupyterEvent\": \"custom.exercise_interaction\", \"data\": {\"outcomeType\": 1, \"valueTowardsCompletion\": 0.25, \"interactionType\": 1, \"questionType\": 2, \"questionId\": \"4_MakePredictions\", \"learnToolsVersion\": \"0.3.4\", \"failureMessage\": \"\", \"exceptionClass\": \"\", \"trace\": \"\"}}, \"*\")"
            ],
            "text/plain": [
              "<IPython.core.display.Javascript object>"
            ]
          },
          "metadata": {},
          "output_type": "display_data"
        },
        {
          "data": {
            "text/markdown": [
              "<span style=\"color:#33cc33\">Correct</span>"
            ],
            "text/plain": [
              "Correct"
            ]
          },
          "metadata": {},
          "output_type": "display_data"
        }
      ],
      "source": [
        "predictions = iowa_model.predict(X)\n",
        "print(predictions)\n",
        "\n",
        "# Check your answer\n",
        "step_4.check()"
      ]
    },
    {
      "cell_type": "code",
      "execution_count": null,
      "id": "daede693",
      "metadata": {
        "collapsed": true,
        "execution": {
          "iopub.execute_input": "2023-12-16T15:04:09.741526Z",
          "iopub.status.busy": "2023-12-16T15:04:09.740417Z",
          "iopub.status.idle": "2023-12-16T15:04:09.745902Z",
          "shell.execute_reply": "2023-12-16T15:04:09.744739Z"
        },
        "jupyter": {
          "outputs_hidden": true
        },
        "papermill": {
          "duration": 0.018841,
          "end_time": "2023-12-16T15:04:09.748351",
          "exception": false,
          "start_time": "2023-12-16T15:04:09.729510",
          "status": "completed"
        },
        "tags": [],
        "id": "daede693"
      },
      "outputs": [],
      "source": [
        "# step_4.hint()\n",
        "# step_4.solution()"
      ]
    },
    {
      "cell_type": "markdown",
      "id": "be246130",
      "metadata": {
        "papermill": {
          "duration": 0.009018,
          "end_time": "2023-12-16T15:04:09.766759",
          "exception": false,
          "start_time": "2023-12-16T15:04:09.757741",
          "status": "completed"
        },
        "tags": [],
        "id": "be246130"
      },
      "source": [
        "## Think About Your Results\n",
        "\n",
        "Use the `head` method to compare the top few predictions to the actual home values (in `y`) for those same homes. Anything surprising?\n"
      ]
    },
    {
      "cell_type": "code",
      "execution_count": null,
      "id": "ac529c79",
      "metadata": {
        "execution": {
          "iopub.execute_input": "2023-12-16T15:04:09.787284Z",
          "iopub.status.busy": "2023-12-16T15:04:09.786483Z",
          "iopub.status.idle": "2023-12-16T15:04:09.795885Z",
          "shell.execute_reply": "2023-12-16T15:04:09.794345Z"
        },
        "papermill": {
          "duration": 0.02249,
          "end_time": "2023-12-16T15:04:09.798433",
          "exception": false,
          "start_time": "2023-12-16T15:04:09.775943",
          "status": "completed"
        },
        "tags": [],
        "id": "ac529c79",
        "outputId": "660c9c59-2b8a-4929-fc58-911901494f8b"
      },
      "outputs": [
        {
          "name": "stdout",
          "output_type": "stream",
          "text": [
            "[208500. 181500. 223500. 140000. 250000.]\n"
          ]
        }
      ],
      "source": [
        "# You can write code in this cell\n",
        "predictions = iowa_model.predict(X.head())\n",
        "print(predictions)"
      ]
    },
    {
      "cell_type": "markdown",
      "id": "00870bef",
      "metadata": {
        "papermill": {
          "duration": 0.00892,
          "end_time": "2023-12-16T15:04:09.816757",
          "exception": false,
          "start_time": "2023-12-16T15:04:09.807837",
          "status": "completed"
        },
        "tags": [],
        "id": "00870bef"
      },
      "source": [
        "It's natural to ask how accurate the model's predictions will be and how you can improve that. That will be you're next step.\n",
        "\n",
        "# Keep Going\n",
        "\n",
        "You are ready for **[Model Validation](https://www.kaggle.com/dansbecker/model-validation).**\n"
      ]
    },
    {
      "cell_type": "markdown",
      "id": "57bbad3d",
      "metadata": {
        "papermill": {
          "duration": 0.008829,
          "end_time": "2023-12-16T15:04:09.834992",
          "exception": false,
          "start_time": "2023-12-16T15:04:09.826163",
          "status": "completed"
        },
        "tags": [],
        "id": "57bbad3d"
      },
      "source": [
        "---\n",
        "\n",
        "\n",
        "\n",
        "\n",
        "*Have questions or comments? Visit the [course discussion forum](https://www.kaggle.com/learn/intro-to-machine-learning/discussion) to chat with other learners.*"
      ]
    }
  ],
  "metadata": {
    "kaggle": {
      "accelerator": "none",
      "dataSources": [
        {
          "databundleVersionId": 111096,
          "sourceId": 10211,
          "sourceType": "competition"
        },
        {
          "datasetId": 11167,
          "sourceId": 15520,
          "sourceType": "datasetVersion"
        },
        {
          "datasetId": 2709,
          "sourceId": 38454,
          "sourceType": "datasetVersion"
        }
      ],
      "isGpuEnabled": false,
      "isInternetEnabled": false,
      "language": "python",
      "sourceType": "notebook"
    },
    "kernelspec": {
      "display_name": "Python 3",
      "language": "python",
      "name": "python3"
    },
    "language_info": {
      "codemirror_mode": {
        "name": "ipython",
        "version": 3
      },
      "file_extension": ".py",
      "mimetype": "text/x-python",
      "name": "python",
      "nbconvert_exporter": "python",
      "pygments_lexer": "ipython3",
      "version": "3.10.12"
    },
    "papermill": {
      "default_parameters": {},
      "duration": 6.859385,
      "end_time": "2023-12-16T15:04:10.466682",
      "environment_variables": {},
      "exception": null,
      "input_path": "__notebook__.ipynb",
      "output_path": "__notebook__.ipynb",
      "parameters": {},
      "start_time": "2023-12-16T15:04:03.607297",
      "version": "2.4.0"
    },
    "colab": {
      "provenance": []
    }
  },
  "nbformat": 4,
  "nbformat_minor": 5
}