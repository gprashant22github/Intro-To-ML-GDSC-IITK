{
  "cells": [
    {
      "cell_type": "markdown",
      "id": "20ef6abe",
      "metadata": {
        "papermill": {
          "duration": 0.005845,
          "end_time": "2023-12-16T18:19:43.119235",
          "exception": false,
          "start_time": "2023-12-16T18:19:43.113390",
          "status": "completed"
        },
        "tags": [],
        "id": "20ef6abe"
      },
      "source": [
        "**This notebook is an exercise in the [Pandas](https://www.kaggle.com/learn/pandas) course.  You can reference the tutorial at [this link](https://www.kaggle.com/residentmario/creating-reading-and-writing).**\n",
        "\n",
        "---\n"
      ]
    },
    {
      "cell_type": "markdown",
      "id": "dfd96019",
      "metadata": {
        "papermill": {
          "duration": 0.004995,
          "end_time": "2023-12-16T18:19:43.129703",
          "exception": false,
          "start_time": "2023-12-16T18:19:43.124708",
          "status": "completed"
        },
        "tags": [],
        "id": "dfd96019"
      },
      "source": [
        "# Introduction\n",
        "\n",
        "The first step in most data analytics projects is reading the data file. In this exercise, you'll create Series and DataFrame objects, both by hand and by reading data files.\n",
        "\n",
        "Run the code cell below to load libraries you will need (including code to check your answers)."
      ]
    },
    {
      "cell_type": "code",
      "execution_count": null,
      "id": "afd0dfb2",
      "metadata": {
        "execution": {
          "iopub.execute_input": "2023-12-16T18:19:43.143308Z",
          "iopub.status.busy": "2023-12-16T18:19:43.142535Z",
          "iopub.status.idle": "2023-12-16T18:19:45.107031Z",
          "shell.execute_reply": "2023-12-16T18:19:45.105849Z"
        },
        "papermill": {
          "duration": 1.974117,
          "end_time": "2023-12-16T18:19:45.109593",
          "exception": false,
          "start_time": "2023-12-16T18:19:43.135476",
          "status": "completed"
        },
        "tags": [],
        "id": "afd0dfb2",
        "outputId": "145f6bce-1023-4141-ca90-48d76912dbac"
      },
      "outputs": [
        {
          "name": "stdout",
          "output_type": "stream",
          "text": [
            "Setup complete.\n"
          ]
        }
      ],
      "source": [
        "import pandas as pd\n",
        "pd.set_option('display.max_rows', 5)\n",
        "from learntools.core import binder; binder.bind(globals())\n",
        "from learntools.pandas.creating_reading_and_writing import *\n",
        "print(\"Setup complete.\")"
      ]
    },
    {
      "cell_type": "markdown",
      "id": "34a5a349",
      "metadata": {
        "papermill": {
          "duration": 0.005264,
          "end_time": "2023-12-16T18:19:45.120632",
          "exception": false,
          "start_time": "2023-12-16T18:19:45.115368",
          "status": "completed"
        },
        "tags": [],
        "id": "34a5a349"
      },
      "source": [
        "# Exercises"
      ]
    },
    {
      "cell_type": "markdown",
      "id": "1f2ad0bf",
      "metadata": {
        "papermill": {
          "duration": 0.005172,
          "end_time": "2023-12-16T18:19:45.131253",
          "exception": false,
          "start_time": "2023-12-16T18:19:45.126081",
          "status": "completed"
        },
        "tags": [],
        "id": "1f2ad0bf"
      },
      "source": [
        "## 1.\n",
        "\n",
        "In the cell below, create a DataFrame `fruits` that looks like this:\n",
        "\n",
        "![](https://storage.googleapis.com/kaggle-media/learn/images/Ax3pp2A.png)"
      ]
    },
    {
      "cell_type": "code",
      "execution_count": null,
      "id": "6d5cc0f2",
      "metadata": {
        "execution": {
          "iopub.execute_input": "2023-12-16T18:19:45.144022Z",
          "iopub.status.busy": "2023-12-16T18:19:45.143415Z",
          "iopub.status.idle": "2023-12-16T18:19:45.162797Z",
          "shell.execute_reply": "2023-12-16T18:19:45.161688Z"
        },
        "papermill": {
          "duration": 0.028388,
          "end_time": "2023-12-16T18:19:45.164976",
          "exception": false,
          "start_time": "2023-12-16T18:19:45.136588",
          "status": "completed"
        },
        "tags": [],
        "id": "6d5cc0f2",
        "outputId": "0e6ff212-884d-4a5f-cabb-5bf47016348b"
      },
      "outputs": [
        {
          "data": {
            "application/javascript": [
              "parent.postMessage({\"jupyterEvent\": \"custom.exercise_interaction\", \"data\": {\"outcomeType\": 1, \"valueTowardsCompletion\": 0.16666666666666666, \"interactionType\": 1, \"questionType\": 1, \"questionId\": \"1_FruitDfCreation\", \"learnToolsVersion\": \"0.3.4\", \"failureMessage\": \"\", \"exceptionClass\": \"\", \"trace\": \"\"}}, \"*\")"
            ],
            "text/plain": [
              "<IPython.core.display.Javascript object>"
            ]
          },
          "metadata": {},
          "output_type": "display_data"
        },
        {
          "data": {
            "text/markdown": [
              "<span style=\"color:#33cc33\">Correct</span>"
            ],
            "text/plain": [
              "Correct"
            ]
          },
          "metadata": {},
          "output_type": "display_data"
        },
        {
          "data": {
            "text/html": [
              "<div>\n",
              "<style scoped>\n",
              "    .dataframe tbody tr th:only-of-type {\n",
              "        vertical-align: middle;\n",
              "    }\n",
              "\n",
              "    .dataframe tbody tr th {\n",
              "        vertical-align: top;\n",
              "    }\n",
              "\n",
              "    .dataframe thead th {\n",
              "        text-align: right;\n",
              "    }\n",
              "</style>\n",
              "<table border=\"1\" class=\"dataframe\">\n",
              "  <thead>\n",
              "    <tr style=\"text-align: right;\">\n",
              "      <th></th>\n",
              "      <th>Apples</th>\n",
              "      <th>Bananas</th>\n",
              "    </tr>\n",
              "  </thead>\n",
              "  <tbody>\n",
              "    <tr>\n",
              "      <th>0</th>\n",
              "      <td>30</td>\n",
              "      <td>21</td>\n",
              "    </tr>\n",
              "  </tbody>\n",
              "</table>\n",
              "</div>"
            ],
            "text/plain": [
              "   Apples  Bananas\n",
              "0      30       21"
            ]
          },
          "execution_count": 2,
          "metadata": {},
          "output_type": "execute_result"
        }
      ],
      "source": [
        "# Your code goes here. Create a dataframe matching the above diagram and assign it to the variable fruits.\n",
        "fruits = pd.DataFrame([[30, 21]], columns=['Apples', 'Bananas'])\n",
        "\n",
        "# Check your answer\n",
        "q1.check()\n",
        "fruits"
      ]
    },
    {
      "cell_type": "code",
      "execution_count": null,
      "id": "86ad99fb",
      "metadata": {
        "execution": {
          "iopub.execute_input": "2023-12-16T18:19:45.178941Z",
          "iopub.status.busy": "2023-12-16T18:19:45.178296Z",
          "iopub.status.idle": "2023-12-16T18:19:45.182290Z",
          "shell.execute_reply": "2023-12-16T18:19:45.181589Z"
        },
        "papermill": {
          "duration": 0.013334,
          "end_time": "2023-12-16T18:19:45.184274",
          "exception": false,
          "start_time": "2023-12-16T18:19:45.170940",
          "status": "completed"
        },
        "tags": [],
        "id": "86ad99fb"
      },
      "outputs": [],
      "source": [
        "#q1.hint()\n",
        "#q1.solution()"
      ]
    },
    {
      "cell_type": "markdown",
      "id": "254aa50c",
      "metadata": {
        "papermill": {
          "duration": 0.005685,
          "end_time": "2023-12-16T18:19:45.195756",
          "exception": false,
          "start_time": "2023-12-16T18:19:45.190071",
          "status": "completed"
        },
        "tags": [],
        "id": "254aa50c"
      },
      "source": [
        "## 2.\n",
        "\n",
        "Create a dataframe `fruit_sales` that matches the diagram below:\n",
        "\n",
        "![](https://storage.googleapis.com/kaggle-media/learn/images/CHPn7ZF.png)"
      ]
    },
    {
      "cell_type": "code",
      "execution_count": null,
      "id": "797fbb64",
      "metadata": {
        "execution": {
          "iopub.execute_input": "2023-12-16T18:19:45.209556Z",
          "iopub.status.busy": "2023-12-16T18:19:45.208902Z",
          "iopub.status.idle": "2023-12-16T18:19:45.223561Z",
          "shell.execute_reply": "2023-12-16T18:19:45.222482Z"
        },
        "papermill": {
          "duration": 0.0241,
          "end_time": "2023-12-16T18:19:45.225738",
          "exception": false,
          "start_time": "2023-12-16T18:19:45.201638",
          "status": "completed"
        },
        "tags": [],
        "id": "797fbb64",
        "outputId": "452766e1-1574-413a-db04-20cef1241c5a"
      },
      "outputs": [
        {
          "data": {
            "application/javascript": [
              "parent.postMessage({\"jupyterEvent\": \"custom.exercise_interaction\", \"data\": {\"outcomeType\": 1, \"valueTowardsCompletion\": 0.16666666666666666, \"interactionType\": 1, \"questionType\": 1, \"questionId\": \"2_FruitSalesDfCreation\", \"learnToolsVersion\": \"0.3.4\", \"failureMessage\": \"\", \"exceptionClass\": \"\", \"trace\": \"\"}}, \"*\")"
            ],
            "text/plain": [
              "<IPython.core.display.Javascript object>"
            ]
          },
          "metadata": {},
          "output_type": "display_data"
        },
        {
          "data": {
            "text/markdown": [
              "<span style=\"color:#33cc33\">Correct</span>"
            ],
            "text/plain": [
              "Correct"
            ]
          },
          "metadata": {},
          "output_type": "display_data"
        },
        {
          "data": {
            "text/html": [
              "<div>\n",
              "<style scoped>\n",
              "    .dataframe tbody tr th:only-of-type {\n",
              "        vertical-align: middle;\n",
              "    }\n",
              "\n",
              "    .dataframe tbody tr th {\n",
              "        vertical-align: top;\n",
              "    }\n",
              "\n",
              "    .dataframe thead th {\n",
              "        text-align: right;\n",
              "    }\n",
              "</style>\n",
              "<table border=\"1\" class=\"dataframe\">\n",
              "  <thead>\n",
              "    <tr style=\"text-align: right;\">\n",
              "      <th></th>\n",
              "      <th>Apples</th>\n",
              "      <th>Bananas</th>\n",
              "    </tr>\n",
              "  </thead>\n",
              "  <tbody>\n",
              "    <tr>\n",
              "      <th>2017 Sales</th>\n",
              "      <td>35</td>\n",
              "      <td>21</td>\n",
              "    </tr>\n",
              "    <tr>\n",
              "      <th>2018 Sales</th>\n",
              "      <td>41</td>\n",
              "      <td>34</td>\n",
              "    </tr>\n",
              "  </tbody>\n",
              "</table>\n",
              "</div>"
            ],
            "text/plain": [
              "            Apples  Bananas\n",
              "2017 Sales      35       21\n",
              "2018 Sales      41       34"
            ]
          },
          "execution_count": 4,
          "metadata": {},
          "output_type": "execute_result"
        }
      ],
      "source": [
        "# Your code goes here. Create a dataframe matching the above diagram and assign it to the variable fruit_sales.\n",
        "fruit_sales = pd.DataFrame([[35, 21], [41, 34]], columns=['Apples', 'Bananas'],\n",
        "                index=['2017 Sales', '2018 Sales'])\n",
        "\n",
        "# Check your answer\n",
        "q2.check()\n",
        "fruit_sales"
      ]
    },
    {
      "cell_type": "code",
      "execution_count": null,
      "id": "3eccdb02",
      "metadata": {
        "execution": {
          "iopub.execute_input": "2023-12-16T18:19:45.240269Z",
          "iopub.status.busy": "2023-12-16T18:19:45.239446Z",
          "iopub.status.idle": "2023-12-16T18:19:45.243841Z",
          "shell.execute_reply": "2023-12-16T18:19:45.242730Z"
        },
        "papermill": {
          "duration": 0.014001,
          "end_time": "2023-12-16T18:19:45.246062",
          "exception": false,
          "start_time": "2023-12-16T18:19:45.232061",
          "status": "completed"
        },
        "tags": [],
        "id": "3eccdb02"
      },
      "outputs": [],
      "source": [
        "#q2.hint()\n",
        "#q2.solution()"
      ]
    },
    {
      "cell_type": "markdown",
      "id": "4a010ebf",
      "metadata": {
        "papermill": {
          "duration": 0.005866,
          "end_time": "2023-12-16T18:19:45.258052",
          "exception": false,
          "start_time": "2023-12-16T18:19:45.252186",
          "status": "completed"
        },
        "tags": [],
        "id": "4a010ebf"
      },
      "source": [
        "## 3.\n",
        "\n",
        "Create a variable `ingredients` with a Series that looks like:\n",
        "\n",
        "```\n",
        "Flour     4 cups\n",
        "Milk       1 cup\n",
        "Eggs     2 large\n",
        "Spam       1 can\n",
        "Name: Dinner, dtype: object\n",
        "```"
      ]
    },
    {
      "cell_type": "code",
      "execution_count": null,
      "id": "97f6089b",
      "metadata": {
        "execution": {
          "iopub.execute_input": "2023-12-16T18:19:45.271899Z",
          "iopub.status.busy": "2023-12-16T18:19:45.271533Z",
          "iopub.status.idle": "2023-12-16T18:19:45.285078Z",
          "shell.execute_reply": "2023-12-16T18:19:45.284030Z"
        },
        "papermill": {
          "duration": 0.023047,
          "end_time": "2023-12-16T18:19:45.287290",
          "exception": false,
          "start_time": "2023-12-16T18:19:45.264243",
          "status": "completed"
        },
        "tags": [],
        "id": "97f6089b",
        "outputId": "b387a8de-96ef-45cc-bf52-aa83453bce44"
      },
      "outputs": [
        {
          "data": {
            "application/javascript": [
              "parent.postMessage({\"jupyterEvent\": \"custom.exercise_interaction\", \"data\": {\"outcomeType\": 1, \"valueTowardsCompletion\": 0.16666666666666666, \"interactionType\": 1, \"questionType\": 2, \"questionId\": \"3_RecipeSeriesCreation\", \"learnToolsVersion\": \"0.3.4\", \"failureMessage\": \"\", \"exceptionClass\": \"\", \"trace\": \"\"}}, \"*\")"
            ],
            "text/plain": [
              "<IPython.core.display.Javascript object>"
            ]
          },
          "metadata": {},
          "output_type": "display_data"
        },
        {
          "data": {
            "text/markdown": [
              "<span style=\"color:#33cc33\">Correct</span>"
            ],
            "text/plain": [
              "Correct"
            ]
          },
          "metadata": {},
          "output_type": "display_data"
        },
        {
          "data": {
            "text/plain": [
              "Flour     4 cups\n",
              "Milk       1 cup\n",
              "Eggs     2 large\n",
              "Spam       1 can\n",
              "Name: Dinner, dtype: object"
            ]
          },
          "execution_count": 6,
          "metadata": {},
          "output_type": "execute_result"
        }
      ],
      "source": [
        "ingredients = pd.Series(index = [\"Flour\", \"Milk\", \"Eggs\", \"Spam\"],\n",
        "                       data = [\"4 cups\", \"1 cup\", \"2 large\", \"1 can\"],\n",
        "                        name= 'Dinner')\n",
        "# Check your answer\n",
        "q3.check()\n",
        "ingredients"
      ]
    },
    {
      "cell_type": "code",
      "execution_count": null,
      "id": "32f85f5f",
      "metadata": {
        "execution": {
          "iopub.execute_input": "2023-12-16T18:19:45.302963Z",
          "iopub.status.busy": "2023-12-16T18:19:45.302033Z",
          "iopub.status.idle": "2023-12-16T18:19:45.306817Z",
          "shell.execute_reply": "2023-12-16T18:19:45.305800Z"
        },
        "papermill": {
          "duration": 0.015309,
          "end_time": "2023-12-16T18:19:45.309265",
          "exception": false,
          "start_time": "2023-12-16T18:19:45.293956",
          "status": "completed"
        },
        "tags": [],
        "id": "32f85f5f"
      },
      "outputs": [],
      "source": [
        "#q3.hint()\n",
        "#q3.solution()"
      ]
    },
    {
      "cell_type": "markdown",
      "id": "6c429813",
      "metadata": {
        "papermill": {
          "duration": 0.006696,
          "end_time": "2023-12-16T18:19:45.322878",
          "exception": false,
          "start_time": "2023-12-16T18:19:45.316182",
          "status": "completed"
        },
        "tags": [],
        "id": "6c429813"
      },
      "source": [
        "## 4.\n",
        "\n",
        "Read the following csv dataset of wine reviews into a DataFrame called `reviews`:\n",
        "\n",
        "![](https://storage.googleapis.com/kaggle-media/learn/images/74RCZtU.png)\n",
        "\n",
        "The filepath to the csv file is `../input/wine-reviews/winemag-data_first150k.csv`. The first few lines look like:\n",
        "\n",
        "```\n",
        ",country,description,designation,points,price,province,region_1,region_2,variety,winery\n",
        "0,US,\"This tremendous 100% varietal wine[...]\",Martha's Vineyard,96,235.0,California,Napa Valley,Napa,Cabernet Sauvignon,Heitz\n",
        "1,Spain,\"Ripe aromas of fig, blackberry and[...]\",Carodorum Selección Especial Reserva,96,110.0,Northern Spain,Toro,,Tinta de Toro,Bodega Carmen Rodríguez\n",
        "```"
      ]
    },
    {
      "cell_type": "code",
      "execution_count": null,
      "id": "7a7e8490",
      "metadata": {
        "execution": {
          "iopub.execute_input": "2023-12-16T18:19:45.337444Z",
          "iopub.status.busy": "2023-12-16T18:19:45.337032Z",
          "iopub.status.idle": "2023-12-16T18:19:46.342738Z",
          "shell.execute_reply": "2023-12-16T18:19:46.341684Z"
        },
        "papermill": {
          "duration": 1.016341,
          "end_time": "2023-12-16T18:19:46.345642",
          "exception": false,
          "start_time": "2023-12-16T18:19:45.329301",
          "status": "completed"
        },
        "tags": [],
        "id": "7a7e8490",
        "outputId": "a14450cc-44f5-436b-bea7-12c1fe73301f"
      },
      "outputs": [
        {
          "data": {
            "application/javascript": [
              "parent.postMessage({\"jupyterEvent\": \"custom.exercise_interaction\", \"data\": {\"outcomeType\": 1, \"valueTowardsCompletion\": 0.16666666666666666, \"interactionType\": 1, \"questionType\": 1, \"questionId\": \"4_ReadWineCsv\", \"learnToolsVersion\": \"0.3.4\", \"failureMessage\": \"\", \"exceptionClass\": \"\", \"trace\": \"\"}}, \"*\")"
            ],
            "text/plain": [
              "<IPython.core.display.Javascript object>"
            ]
          },
          "metadata": {},
          "output_type": "display_data"
        },
        {
          "data": {
            "text/markdown": [
              "<span style=\"color:#33cc33\">Correct</span>"
            ],
            "text/plain": [
              "Correct"
            ]
          },
          "metadata": {},
          "output_type": "display_data"
        },
        {
          "data": {
            "text/html": [
              "<div>\n",
              "<style scoped>\n",
              "    .dataframe tbody tr th:only-of-type {\n",
              "        vertical-align: middle;\n",
              "    }\n",
              "\n",
              "    .dataframe tbody tr th {\n",
              "        vertical-align: top;\n",
              "    }\n",
              "\n",
              "    .dataframe thead th {\n",
              "        text-align: right;\n",
              "    }\n",
              "</style>\n",
              "<table border=\"1\" class=\"dataframe\">\n",
              "  <thead>\n",
              "    <tr style=\"text-align: right;\">\n",
              "      <th></th>\n",
              "      <th>country</th>\n",
              "      <th>description</th>\n",
              "      <th>designation</th>\n",
              "      <th>points</th>\n",
              "      <th>price</th>\n",
              "      <th>province</th>\n",
              "      <th>region_1</th>\n",
              "      <th>region_2</th>\n",
              "      <th>variety</th>\n",
              "      <th>winery</th>\n",
              "    </tr>\n",
              "  </thead>\n",
              "  <tbody>\n",
              "    <tr>\n",
              "      <th>0</th>\n",
              "      <td>US</td>\n",
              "      <td>This tremendous 100% varietal wine hails from ...</td>\n",
              "      <td>Martha's Vineyard</td>\n",
              "      <td>96</td>\n",
              "      <td>235.0</td>\n",
              "      <td>California</td>\n",
              "      <td>Napa Valley</td>\n",
              "      <td>Napa</td>\n",
              "      <td>Cabernet Sauvignon</td>\n",
              "      <td>Heitz</td>\n",
              "    </tr>\n",
              "    <tr>\n",
              "      <th>1</th>\n",
              "      <td>Spain</td>\n",
              "      <td>Ripe aromas of fig, blackberry and cassis are ...</td>\n",
              "      <td>Carodorum Selección Especial Reserva</td>\n",
              "      <td>96</td>\n",
              "      <td>110.0</td>\n",
              "      <td>Northern Spain</td>\n",
              "      <td>Toro</td>\n",
              "      <td>NaN</td>\n",
              "      <td>Tinta de Toro</td>\n",
              "      <td>Bodega Carmen Rodríguez</td>\n",
              "    </tr>\n",
              "    <tr>\n",
              "      <th>...</th>\n",
              "      <td>...</td>\n",
              "      <td>...</td>\n",
              "      <td>...</td>\n",
              "      <td>...</td>\n",
              "      <td>...</td>\n",
              "      <td>...</td>\n",
              "      <td>...</td>\n",
              "      <td>...</td>\n",
              "      <td>...</td>\n",
              "      <td>...</td>\n",
              "    </tr>\n",
              "    <tr>\n",
              "      <th>150928</th>\n",
              "      <td>France</td>\n",
              "      <td>A perfect salmon shade, with scents of peaches...</td>\n",
              "      <td>Grand Brut Rosé</td>\n",
              "      <td>90</td>\n",
              "      <td>52.0</td>\n",
              "      <td>Champagne</td>\n",
              "      <td>Champagne</td>\n",
              "      <td>NaN</td>\n",
              "      <td>Champagne Blend</td>\n",
              "      <td>Gosset</td>\n",
              "    </tr>\n",
              "    <tr>\n",
              "      <th>150929</th>\n",
              "      <td>Italy</td>\n",
              "      <td>More Pinot Grigios should taste like this. A r...</td>\n",
              "      <td>NaN</td>\n",
              "      <td>90</td>\n",
              "      <td>15.0</td>\n",
              "      <td>Northeastern Italy</td>\n",
              "      <td>Alto Adige</td>\n",
              "      <td>NaN</td>\n",
              "      <td>Pinot Grigio</td>\n",
              "      <td>Alois Lageder</td>\n",
              "    </tr>\n",
              "  </tbody>\n",
              "</table>\n",
              "<p>150930 rows × 10 columns</p>\n",
              "</div>"
            ],
            "text/plain": [
              "       country                                        description  \\\n",
              "0           US  This tremendous 100% varietal wine hails from ...   \n",
              "1        Spain  Ripe aromas of fig, blackberry and cassis are ...   \n",
              "...        ...                                                ...   \n",
              "150928  France  A perfect salmon shade, with scents of peaches...   \n",
              "150929   Italy  More Pinot Grigios should taste like this. A r...   \n",
              "\n",
              "                                 designation  points  price  \\\n",
              "0                          Martha's Vineyard      96  235.0   \n",
              "1       Carodorum Selección Especial Reserva      96  110.0   \n",
              "...                                      ...     ...    ...   \n",
              "150928                       Grand Brut Rosé      90   52.0   \n",
              "150929                                   NaN      90   15.0   \n",
              "\n",
              "                  province     region_1 region_2             variety  \\\n",
              "0               California  Napa Valley     Napa  Cabernet Sauvignon   \n",
              "1           Northern Spain         Toro      NaN       Tinta de Toro   \n",
              "...                    ...          ...      ...                 ...   \n",
              "150928           Champagne    Champagne      NaN     Champagne Blend   \n",
              "150929  Northeastern Italy   Alto Adige      NaN        Pinot Grigio   \n",
              "\n",
              "                         winery  \n",
              "0                         Heitz  \n",
              "1       Bodega Carmen Rodríguez  \n",
              "...                         ...  \n",
              "150928                   Gosset  \n",
              "150929            Alois Lageder  \n",
              "\n",
              "[150930 rows x 10 columns]"
            ]
          },
          "execution_count": 8,
          "metadata": {},
          "output_type": "execute_result"
        }
      ],
      "source": [
        "reviews = pd.read_csv(\"../input/wine-reviews/winemag-data_first150k.csv\", index_col=0)\n",
        "\n",
        "# Check your answer\n",
        "q4.check()\n",
        "reviews"
      ]
    },
    {
      "cell_type": "code",
      "execution_count": null,
      "id": "e38bdb09",
      "metadata": {
        "execution": {
          "iopub.execute_input": "2023-12-16T18:19:46.362418Z",
          "iopub.status.busy": "2023-12-16T18:19:46.361461Z",
          "iopub.status.idle": "2023-12-16T18:19:46.365551Z",
          "shell.execute_reply": "2023-12-16T18:19:46.364696Z"
        },
        "papermill": {
          "duration": 0.014948,
          "end_time": "2023-12-16T18:19:46.367709",
          "exception": false,
          "start_time": "2023-12-16T18:19:46.352761",
          "status": "completed"
        },
        "tags": [],
        "id": "e38bdb09"
      },
      "outputs": [],
      "source": [
        "#q4.hint()\n",
        "#q4.solution()"
      ]
    },
    {
      "cell_type": "markdown",
      "id": "a6174b91",
      "metadata": {
        "papermill": {
          "duration": 0.007029,
          "end_time": "2023-12-16T18:19:46.381902",
          "exception": false,
          "start_time": "2023-12-16T18:19:46.374873",
          "status": "completed"
        },
        "tags": [],
        "id": "a6174b91"
      },
      "source": [
        "## 5.\n",
        "\n",
        "Run the cell below to create and display a DataFrame called `animals`:"
      ]
    },
    {
      "cell_type": "code",
      "execution_count": null,
      "id": "9600b387",
      "metadata": {
        "execution": {
          "iopub.execute_input": "2023-12-16T18:19:46.398126Z",
          "iopub.status.busy": "2023-12-16T18:19:46.397730Z",
          "iopub.status.idle": "2023-12-16T18:19:46.408389Z",
          "shell.execute_reply": "2023-12-16T18:19:46.407249Z"
        },
        "papermill": {
          "duration": 0.020883,
          "end_time": "2023-12-16T18:19:46.410446",
          "exception": false,
          "start_time": "2023-12-16T18:19:46.389563",
          "status": "completed"
        },
        "tags": [],
        "id": "9600b387",
        "outputId": "6b2a3ada-c4c3-43ec-cc05-dbd9af59b7e4"
      },
      "outputs": [
        {
          "data": {
            "text/html": [
              "<div>\n",
              "<style scoped>\n",
              "    .dataframe tbody tr th:only-of-type {\n",
              "        vertical-align: middle;\n",
              "    }\n",
              "\n",
              "    .dataframe tbody tr th {\n",
              "        vertical-align: top;\n",
              "    }\n",
              "\n",
              "    .dataframe thead th {\n",
              "        text-align: right;\n",
              "    }\n",
              "</style>\n",
              "<table border=\"1\" class=\"dataframe\">\n",
              "  <thead>\n",
              "    <tr style=\"text-align: right;\">\n",
              "      <th></th>\n",
              "      <th>Cows</th>\n",
              "      <th>Goats</th>\n",
              "    </tr>\n",
              "  </thead>\n",
              "  <tbody>\n",
              "    <tr>\n",
              "      <th>Year 1</th>\n",
              "      <td>12</td>\n",
              "      <td>22</td>\n",
              "    </tr>\n",
              "    <tr>\n",
              "      <th>Year 2</th>\n",
              "      <td>20</td>\n",
              "      <td>19</td>\n",
              "    </tr>\n",
              "  </tbody>\n",
              "</table>\n",
              "</div>"
            ],
            "text/plain": [
              "        Cows  Goats\n",
              "Year 1    12     22\n",
              "Year 2    20     19"
            ]
          },
          "execution_count": 10,
          "metadata": {},
          "output_type": "execute_result"
        }
      ],
      "source": [
        "animals = pd.DataFrame({'Cows': [12, 20], 'Goats': [22, 19]}, index=['Year 1', 'Year 2'])\n",
        "animals"
      ]
    },
    {
      "cell_type": "markdown",
      "id": "fbcf0089",
      "metadata": {
        "papermill": {
          "duration": 0.006889,
          "end_time": "2023-12-16T18:19:46.424664",
          "exception": false,
          "start_time": "2023-12-16T18:19:46.417775",
          "status": "completed"
        },
        "tags": [],
        "id": "fbcf0089"
      },
      "source": [
        "In the cell below, write code to save this DataFrame to disk as a csv file with the name `cows_and_goats.csv`."
      ]
    },
    {
      "cell_type": "code",
      "execution_count": null,
      "id": "8ac15c8d",
      "metadata": {
        "execution": {
          "iopub.execute_input": "2023-12-16T18:19:46.440944Z",
          "iopub.status.busy": "2023-12-16T18:19:46.440231Z",
          "iopub.status.idle": "2023-12-16T18:19:46.454443Z",
          "shell.execute_reply": "2023-12-16T18:19:46.453352Z"
        },
        "papermill": {
          "duration": 0.024971,
          "end_time": "2023-12-16T18:19:46.456891",
          "exception": false,
          "start_time": "2023-12-16T18:19:46.431920",
          "status": "completed"
        },
        "tags": [],
        "id": "8ac15c8d",
        "outputId": "da7c2920-793b-4551-d836-c52c485d52a6"
      },
      "outputs": [
        {
          "data": {
            "application/javascript": [
              "parent.postMessage({\"jupyterEvent\": \"custom.exercise_interaction\", \"data\": {\"outcomeType\": 1, \"valueTowardsCompletion\": 0.16666666666666666, \"interactionType\": 1, \"questionType\": 2, \"questionId\": \"5_SaveAnimalsCsv\", \"learnToolsVersion\": \"0.3.4\", \"failureMessage\": \"\", \"exceptionClass\": \"\", \"trace\": \"\"}}, \"*\")"
            ],
            "text/plain": [
              "<IPython.core.display.Javascript object>"
            ]
          },
          "metadata": {},
          "output_type": "display_data"
        },
        {
          "data": {
            "text/markdown": [
              "<span style=\"color:#33cc33\">Correct</span>"
            ],
            "text/plain": [
              "Correct"
            ]
          },
          "metadata": {},
          "output_type": "display_data"
        }
      ],
      "source": [
        "# Your code goes here\n",
        "animals.to_csv(\"cows_and_goats.csv\")\n",
        "# Check your answer\n",
        "q5.check()"
      ]
    },
    {
      "cell_type": "code",
      "execution_count": null,
      "id": "f2cf2407",
      "metadata": {
        "execution": {
          "iopub.execute_input": "2023-12-16T18:19:46.474417Z",
          "iopub.status.busy": "2023-12-16T18:19:46.473608Z",
          "iopub.status.idle": "2023-12-16T18:19:46.478106Z",
          "shell.execute_reply": "2023-12-16T18:19:46.477379Z"
        },
        "papermill": {
          "duration": 0.015806,
          "end_time": "2023-12-16T18:19:46.480302",
          "exception": false,
          "start_time": "2023-12-16T18:19:46.464496",
          "status": "completed"
        },
        "tags": [],
        "id": "f2cf2407"
      },
      "outputs": [],
      "source": [
        "#q5.hint()\n",
        "#q5.solution()"
      ]
    },
    {
      "cell_type": "markdown",
      "id": "5121324e",
      "metadata": {
        "papermill": {
          "duration": 0.007308,
          "end_time": "2023-12-16T18:19:46.495434",
          "exception": false,
          "start_time": "2023-12-16T18:19:46.488126",
          "status": "completed"
        },
        "tags": [],
        "id": "5121324e"
      },
      "source": [
        "# Keep going\n",
        "\n",
        "Move on to learn about **[indexing, selecting and assigning](https://www.kaggle.com/residentmario/indexing-selecting-assigning)**."
      ]
    },
    {
      "cell_type": "markdown",
      "id": "a121b8f9",
      "metadata": {
        "papermill": {
          "duration": 0.00717,
          "end_time": "2023-12-16T18:19:46.510136",
          "exception": false,
          "start_time": "2023-12-16T18:19:46.502966",
          "status": "completed"
        },
        "tags": [],
        "id": "a121b8f9"
      },
      "source": [
        "---\n",
        "\n",
        "\n",
        "\n",
        "\n",
        "*Have questions or comments? Visit the [course discussion forum](https://www.kaggle.com/learn/pandas/discussion) to chat with other learners.*"
      ]
    }
  ],
  "metadata": {
    "kaggle": {
      "accelerator": "none",
      "dataSources": [
        {
          "datasetId": 655,
          "sourceId": 1252,
          "sourceType": "datasetVersion"
        },
        {
          "datasetId": 2321,
          "sourceId": 3919,
          "sourceType": "datasetVersion"
        },
        {
          "datasetId": 2894,
          "sourceId": 4877,
          "sourceType": "datasetVersion"
        },
        {
          "datasetId": 3491,
          "sourceId": 5624,
          "sourceType": "datasetVersion"
        },
        {
          "datasetId": 1442,
          "sourceId": 8172,
          "sourceType": "datasetVersion"
        },
        {
          "datasetId": 9366,
          "sourceId": 13206,
          "sourceType": "datasetVersion"
        },
        {
          "datasetId": 179555,
          "sourceId": 403916,
          "sourceType": "datasetVersion"
        },
        {
          "datasetId": 4549,
          "sourceId": 466349,
          "sourceType": "datasetVersion"
        },
        {
          "datasetId": 2478,
          "sourceId": 1151655,
          "sourceType": "datasetVersion"
        },
        {
          "datasetId": 10128,
          "sourceId": 5438389,
          "sourceType": "datasetVersion"
        }
      ],
      "isGpuEnabled": false,
      "isInternetEnabled": false,
      "language": "python",
      "sourceType": "notebook"
    },
    "kernelspec": {
      "display_name": "Python 3",
      "language": "python",
      "name": "python3"
    },
    "language_info": {
      "codemirror_mode": {
        "name": "ipython",
        "version": 3
      },
      "file_extension": ".py",
      "mimetype": "text/x-python",
      "name": "python",
      "nbconvert_exporter": "python",
      "pygments_lexer": "ipython3",
      "version": "3.10.12"
    },
    "papermill": {
      "default_parameters": {},
      "duration": 7.014759,
      "end_time": "2023-12-16T18:19:47.038147",
      "environment_variables": {},
      "exception": null,
      "input_path": "__notebook__.ipynb",
      "output_path": "__notebook__.ipynb",
      "parameters": {},
      "start_time": "2023-12-16T18:19:40.023388",
      "version": "2.4.0"
    },
    "colab": {
      "provenance": []
    }
  },
  "nbformat": 4,
  "nbformat_minor": 5
}