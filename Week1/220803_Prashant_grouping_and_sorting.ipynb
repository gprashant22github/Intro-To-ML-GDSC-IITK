{
  "cells": [
    {
      "cell_type": "markdown",
      "id": "65fe5cf6",
      "metadata": {
        "papermill": {
          "duration": 0.009312,
          "end_time": "2023-12-16T19:02:44.819395",
          "exception": false,
          "start_time": "2023-12-16T19:02:44.810083",
          "status": "completed"
        },
        "tags": [],
        "id": "65fe5cf6"
      },
      "source": [
        "**This notebook is an exercise in the [Pandas](https://www.kaggle.com/learn/pandas) course.  You can reference the tutorial at [this link](https://www.kaggle.com/residentmario/grouping-and-sorting).**\n",
        "\n",
        "---\n"
      ]
    },
    {
      "cell_type": "markdown",
      "id": "058fa6d7",
      "metadata": {
        "papermill": {
          "duration": 0.008311,
          "end_time": "2023-12-16T19:02:44.838235",
          "exception": false,
          "start_time": "2023-12-16T19:02:44.829924",
          "status": "completed"
        },
        "tags": [],
        "id": "058fa6d7"
      },
      "source": [
        "# Introduction\n",
        "\n",
        "In these exercises we'll apply groupwise analysis to our dataset.\n",
        "\n",
        "Run the code cell below to load the data before running the exercises."
      ]
    },
    {
      "cell_type": "code",
      "execution_count": null,
      "id": "367e27d5",
      "metadata": {
        "execution": {
          "iopub.execute_input": "2023-12-16T19:02:44.858250Z",
          "iopub.status.busy": "2023-12-16T19:02:44.857719Z",
          "iopub.status.idle": "2023-12-16T19:02:49.273893Z",
          "shell.execute_reply": "2023-12-16T19:02:49.272674Z"
        },
        "papermill": {
          "duration": 4.429894,
          "end_time": "2023-12-16T19:02:49.276760",
          "exception": false,
          "start_time": "2023-12-16T19:02:44.846866",
          "status": "completed"
        },
        "tags": [],
        "id": "367e27d5",
        "outputId": "4a7fde15-7e32-41c8-f282-acbf90cdb874"
      },
      "outputs": [
        {
          "name": "stdout",
          "output_type": "stream",
          "text": [
            "Setup complete.\n"
          ]
        }
      ],
      "source": [
        "import pandas as pd\n",
        "\n",
        "reviews = pd.read_csv(\"../input/wine-reviews/winemag-data-130k-v2.csv\", index_col=0)\n",
        "#pd.set_option(\"display.max_rows\", 5)\n",
        "\n",
        "from learntools.core import binder; binder.bind(globals())\n",
        "from learntools.pandas.grouping_and_sorting import *\n",
        "print(\"Setup complete.\")"
      ]
    },
    {
      "cell_type": "markdown",
      "id": "8bb92033",
      "metadata": {
        "papermill": {
          "duration": 0.008572,
          "end_time": "2023-12-16T19:02:49.294629",
          "exception": false,
          "start_time": "2023-12-16T19:02:49.286057",
          "status": "completed"
        },
        "tags": [],
        "id": "8bb92033"
      },
      "source": [
        "# Exercises"
      ]
    },
    {
      "cell_type": "markdown",
      "id": "fbc88d6c",
      "metadata": {
        "papermill": {
          "duration": 0.008615,
          "end_time": "2023-12-16T19:02:49.312487",
          "exception": false,
          "start_time": "2023-12-16T19:02:49.303872",
          "status": "completed"
        },
        "tags": [],
        "id": "fbc88d6c"
      },
      "source": [
        "## 1.\n",
        "Who are the most common wine reviewers in the dataset? Create a `Series` whose index is the `taster_twitter_handle` category from the dataset, and whose values count how many reviews each person wrote."
      ]
    },
    {
      "cell_type": "code",
      "execution_count": null,
      "id": "6c61e1e5",
      "metadata": {
        "execution": {
          "iopub.execute_input": "2023-12-16T19:02:49.332406Z",
          "iopub.status.busy": "2023-12-16T19:02:49.331983Z",
          "iopub.status.idle": "2023-12-16T19:02:49.366996Z",
          "shell.execute_reply": "2023-12-16T19:02:49.366145Z"
        },
        "papermill": {
          "duration": 0.048505,
          "end_time": "2023-12-16T19:02:49.369980",
          "exception": false,
          "start_time": "2023-12-16T19:02:49.321475",
          "status": "completed"
        },
        "tags": [],
        "id": "6c61e1e5",
        "outputId": "14394006-61f9-4834-dc65-dc45096ef817"
      },
      "outputs": [
        {
          "data": {
            "application/javascript": [
              "parent.postMessage({\"jupyterEvent\": \"custom.exercise_interaction\", \"data\": {\"outcomeType\": 1, \"valueTowardsCompletion\": 0.16666666666666666, \"interactionType\": 1, \"questionType\": 1, \"questionId\": \"1_ReviewsWritten\", \"learnToolsVersion\": \"0.3.4\", \"failureMessage\": \"\", \"exceptionClass\": \"\", \"trace\": \"\"}}, \"*\")"
            ],
            "text/plain": [
              "<IPython.core.display.Javascript object>"
            ]
          },
          "metadata": {},
          "output_type": "display_data"
        },
        {
          "data": {
            "text/markdown": [
              "<span style=\"color:#33cc33\">Correct:</span> \n",
              "\n",
              "\n",
              "```python\n",
              "reviews_written = reviews.groupby('taster_twitter_handle').size()\n",
              "```\n",
              "or\n",
              "```python\n",
              "reviews_written = reviews.groupby('taster_twitter_handle').taster_twitter_handle.count()\n",
              "```\n"
            ],
            "text/plain": [
              "Correct: \n",
              "\n",
              "\n",
              "```python\n",
              "reviews_written = reviews.groupby('taster_twitter_handle').size()\n",
              "```\n",
              "or\n",
              "```python\n",
              "reviews_written = reviews.groupby('taster_twitter_handle').taster_twitter_handle.count()\n",
              "```"
            ]
          },
          "metadata": {},
          "output_type": "display_data"
        }
      ],
      "source": [
        "# Your code here\n",
        "reviews_written = reviews.groupby('taster_twitter_handle').size()\n",
        "\n",
        "# Check your answer\n",
        "q1.check()"
      ]
    },
    {
      "cell_type": "code",
      "execution_count": null,
      "id": "39e82a8f",
      "metadata": {
        "execution": {
          "iopub.execute_input": "2023-12-16T19:02:49.391110Z",
          "iopub.status.busy": "2023-12-16T19:02:49.390108Z",
          "iopub.status.idle": "2023-12-16T19:02:49.395149Z",
          "shell.execute_reply": "2023-12-16T19:02:49.393825Z"
        },
        "papermill": {
          "duration": 0.018439,
          "end_time": "2023-12-16T19:02:49.397586",
          "exception": false,
          "start_time": "2023-12-16T19:02:49.379147",
          "status": "completed"
        },
        "tags": [],
        "id": "39e82a8f"
      },
      "outputs": [],
      "source": [
        "#q1.hint()\n",
        "#q1.solution()"
      ]
    },
    {
      "cell_type": "markdown",
      "id": "61a7e832",
      "metadata": {
        "papermill": {
          "duration": 0.008878,
          "end_time": "2023-12-16T19:02:49.415613",
          "exception": false,
          "start_time": "2023-12-16T19:02:49.406735",
          "status": "completed"
        },
        "tags": [],
        "id": "61a7e832"
      },
      "source": [
        "## 2.\n",
        "What is the best wine I can buy for a given amount of money? Create a `Series` whose index is wine prices and whose values is the maximum number of points a wine costing that much was given in a review. Sort the values by price, ascending (so that `4.0` dollars is at the top and `3300.0` dollars is at the bottom)."
      ]
    },
    {
      "cell_type": "code",
      "execution_count": null,
      "id": "e0c43ae3",
      "metadata": {
        "execution": {
          "iopub.execute_input": "2023-12-16T19:02:49.435987Z",
          "iopub.status.busy": "2023-12-16T19:02:49.435522Z",
          "iopub.status.idle": "2023-12-16T19:02:49.451630Z",
          "shell.execute_reply": "2023-12-16T19:02:49.450333Z"
        },
        "papermill": {
          "duration": 0.029678,
          "end_time": "2023-12-16T19:02:49.454414",
          "exception": false,
          "start_time": "2023-12-16T19:02:49.424736",
          "status": "completed"
        },
        "tags": [],
        "id": "e0c43ae3",
        "outputId": "4561205f-ac7d-41a9-dd2d-eadef66f52bc"
      },
      "outputs": [
        {
          "data": {
            "application/javascript": [
              "parent.postMessage({\"jupyterEvent\": \"custom.exercise_interaction\", \"data\": {\"outcomeType\": 1, \"valueTowardsCompletion\": 0.16666666666666666, \"interactionType\": 1, \"questionType\": 1, \"questionId\": \"2_BestRatingPerPrice\", \"learnToolsVersion\": \"0.3.4\", \"failureMessage\": \"\", \"exceptionClass\": \"\", \"trace\": \"\"}}, \"*\")"
            ],
            "text/plain": [
              "<IPython.core.display.Javascript object>"
            ]
          },
          "metadata": {},
          "output_type": "display_data"
        },
        {
          "data": {
            "text/markdown": [
              "<span style=\"color:#33cc33\">Correct</span>"
            ],
            "text/plain": [
              "Correct"
            ]
          },
          "metadata": {},
          "output_type": "display_data"
        }
      ],
      "source": [
        "best_rating_per_price = reviews.groupby('price')['points'].max().sort_index()\n",
        "\n",
        "# Check your answer\n",
        "q2.check()"
      ]
    },
    {
      "cell_type": "code",
      "execution_count": null,
      "id": "e3d33864",
      "metadata": {
        "execution": {
          "iopub.execute_input": "2023-12-16T19:02:49.475719Z",
          "iopub.status.busy": "2023-12-16T19:02:49.475280Z",
          "iopub.status.idle": "2023-12-16T19:02:49.481077Z",
          "shell.execute_reply": "2023-12-16T19:02:49.479770Z"
        },
        "papermill": {
          "duration": 0.020119,
          "end_time": "2023-12-16T19:02:49.484106",
          "exception": false,
          "start_time": "2023-12-16T19:02:49.463987",
          "status": "completed"
        },
        "tags": [],
        "id": "e3d33864"
      },
      "outputs": [],
      "source": [
        "#q2.hint()\n",
        "#q2.solution()"
      ]
    },
    {
      "cell_type": "markdown",
      "id": "ae7df761",
      "metadata": {
        "papermill": {
          "duration": 0.009161,
          "end_time": "2023-12-16T19:02:49.503243",
          "exception": false,
          "start_time": "2023-12-16T19:02:49.494082",
          "status": "completed"
        },
        "tags": [],
        "id": "ae7df761"
      },
      "source": [
        "## 3.\n",
        "What are the minimum and maximum prices for each `variety` of wine? Create a `DataFrame` whose index is the `variety` category from the dataset and whose values are the `min` and `max` values thereof."
      ]
    },
    {
      "cell_type": "code",
      "execution_count": null,
      "id": "e65788bd",
      "metadata": {
        "execution": {
          "iopub.execute_input": "2023-12-16T19:02:49.524800Z",
          "iopub.status.busy": "2023-12-16T19:02:49.524354Z",
          "iopub.status.idle": "2023-12-16T19:02:49.567330Z",
          "shell.execute_reply": "2023-12-16T19:02:49.565984Z"
        },
        "papermill": {
          "duration": 0.057035,
          "end_time": "2023-12-16T19:02:49.570381",
          "exception": false,
          "start_time": "2023-12-16T19:02:49.513346",
          "status": "completed"
        },
        "tags": [],
        "id": "e65788bd",
        "outputId": "44fcd734-3c26-485f-9c02-74af4a36cc47"
      },
      "outputs": [
        {
          "data": {
            "application/javascript": [
              "parent.postMessage({\"jupyterEvent\": \"custom.exercise_interaction\", \"data\": {\"outcomeType\": 1, \"valueTowardsCompletion\": 0.16666666666666666, \"interactionType\": 1, \"questionType\": 1, \"questionId\": \"3_PriceExtremes\", \"learnToolsVersion\": \"0.3.4\", \"failureMessage\": \"\", \"exceptionClass\": \"\", \"trace\": \"\"}}, \"*\")"
            ],
            "text/plain": [
              "<IPython.core.display.Javascript object>"
            ]
          },
          "metadata": {},
          "output_type": "display_data"
        },
        {
          "data": {
            "text/markdown": [
              "<span style=\"color:#33cc33\">Correct</span>"
            ],
            "text/plain": [
              "Correct"
            ]
          },
          "metadata": {},
          "output_type": "display_data"
        }
      ],
      "source": [
        "price_extremes = reviews.groupby('variety').price.agg([min, max])\n",
        "\n",
        "# Check your answer\n",
        "q3.check()"
      ]
    },
    {
      "cell_type": "code",
      "execution_count": null,
      "id": "b0f292da",
      "metadata": {
        "execution": {
          "iopub.execute_input": "2023-12-16T19:02:49.592212Z",
          "iopub.status.busy": "2023-12-16T19:02:49.591772Z",
          "iopub.status.idle": "2023-12-16T19:02:49.597358Z",
          "shell.execute_reply": "2023-12-16T19:02:49.596112Z"
        },
        "papermill": {
          "duration": 0.019618,
          "end_time": "2023-12-16T19:02:49.599911",
          "exception": false,
          "start_time": "2023-12-16T19:02:49.580293",
          "status": "completed"
        },
        "tags": [],
        "id": "b0f292da"
      },
      "outputs": [],
      "source": [
        "#q3.hint()\n",
        "#q3.solution()"
      ]
    },
    {
      "cell_type": "markdown",
      "id": "ba93215a",
      "metadata": {
        "papermill": {
          "duration": 0.009498,
          "end_time": "2023-12-16T19:02:49.619483",
          "exception": false,
          "start_time": "2023-12-16T19:02:49.609985",
          "status": "completed"
        },
        "tags": [],
        "id": "ba93215a"
      },
      "source": [
        "## 4.\n",
        "What are the most expensive wine varieties? Create a variable `sorted_varieties` containing a copy of the dataframe from the previous question where varieties are sorted in descending order based on minimum price, then on maximum price (to break ties)."
      ]
    },
    {
      "cell_type": "code",
      "execution_count": null,
      "id": "11e37a5d",
      "metadata": {
        "execution": {
          "iopub.execute_input": "2023-12-16T19:02:49.641552Z",
          "iopub.status.busy": "2023-12-16T19:02:49.641147Z",
          "iopub.status.idle": "2023-12-16T19:02:49.654739Z",
          "shell.execute_reply": "2023-12-16T19:02:49.653485Z"
        },
        "papermill": {
          "duration": 0.028584,
          "end_time": "2023-12-16T19:02:49.657880",
          "exception": false,
          "start_time": "2023-12-16T19:02:49.629296",
          "status": "completed"
        },
        "tags": [],
        "id": "11e37a5d",
        "outputId": "e4be7c91-77c3-4a6b-f71e-e6412ef0efc7"
      },
      "outputs": [
        {
          "data": {
            "application/javascript": [
              "parent.postMessage({\"jupyterEvent\": \"custom.exercise_interaction\", \"data\": {\"outcomeType\": 1, \"valueTowardsCompletion\": 0.16666666666666666, \"interactionType\": 1, \"questionType\": 1, \"questionId\": \"4_SortedVarieties\", \"learnToolsVersion\": \"0.3.4\", \"failureMessage\": \"\", \"exceptionClass\": \"\", \"trace\": \"\"}}, \"*\")"
            ],
            "text/plain": [
              "<IPython.core.display.Javascript object>"
            ]
          },
          "metadata": {},
          "output_type": "display_data"
        },
        {
          "data": {
            "text/markdown": [
              "<span style=\"color:#33cc33\">Correct</span>"
            ],
            "text/plain": [
              "Correct"
            ]
          },
          "metadata": {},
          "output_type": "display_data"
        }
      ],
      "source": [
        "sorted_varieties = price_extremes.sort_values(by=['min', 'max'], ascending=False)\n",
        "\n",
        "# Check your answer\n",
        "q4.check()"
      ]
    },
    {
      "cell_type": "code",
      "execution_count": null,
      "id": "3d732a8c",
      "metadata": {
        "execution": {
          "iopub.execute_input": "2023-12-16T19:02:49.679674Z",
          "iopub.status.busy": "2023-12-16T19:02:49.679289Z",
          "iopub.status.idle": "2023-12-16T19:02:49.684073Z",
          "shell.execute_reply": "2023-12-16T19:02:49.682868Z"
        },
        "papermill": {
          "duration": 0.018403,
          "end_time": "2023-12-16T19:02:49.686460",
          "exception": false,
          "start_time": "2023-12-16T19:02:49.668057",
          "status": "completed"
        },
        "tags": [],
        "id": "3d732a8c"
      },
      "outputs": [],
      "source": [
        "#q4.hint()\n",
        "#q4.solution()"
      ]
    },
    {
      "cell_type": "markdown",
      "id": "7e0ed1fd",
      "metadata": {
        "papermill": {
          "duration": 0.00948,
          "end_time": "2023-12-16T19:02:49.705671",
          "exception": false,
          "start_time": "2023-12-16T19:02:49.696191",
          "status": "completed"
        },
        "tags": [],
        "id": "7e0ed1fd"
      },
      "source": [
        "## 5.\n",
        "Create a `Series` whose index is reviewers and whose values is the average review score given out by that reviewer. Hint: you will need the `taster_name` and `points` columns."
      ]
    },
    {
      "cell_type": "code",
      "execution_count": null,
      "id": "d7636699",
      "metadata": {
        "execution": {
          "iopub.execute_input": "2023-12-16T19:02:49.727222Z",
          "iopub.status.busy": "2023-12-16T19:02:49.726788Z",
          "iopub.status.idle": "2023-12-16T19:02:49.771537Z",
          "shell.execute_reply": "2023-12-16T19:02:49.769856Z"
        },
        "papermill": {
          "duration": 0.059449,
          "end_time": "2023-12-16T19:02:49.775039",
          "exception": false,
          "start_time": "2023-12-16T19:02:49.715590",
          "status": "completed"
        },
        "tags": [],
        "id": "d7636699",
        "outputId": "e7a726bc-09fe-4d03-ba65-fbad837ff91d"
      },
      "outputs": [
        {
          "data": {
            "application/javascript": [
              "parent.postMessage({\"jupyterEvent\": \"custom.exercise_interaction\", \"data\": {\"outcomeType\": 1, \"valueTowardsCompletion\": 0.16666666666666666, \"interactionType\": 1, \"questionType\": 1, \"questionId\": \"5_ReviewerMeanRatings\", \"learnToolsVersion\": \"0.3.4\", \"failureMessage\": \"\", \"exceptionClass\": \"\", \"trace\": \"\"}}, \"*\")"
            ],
            "text/plain": [
              "<IPython.core.display.Javascript object>"
            ]
          },
          "metadata": {},
          "output_type": "display_data"
        },
        {
          "data": {
            "text/markdown": [
              "<span style=\"color:#33cc33\">Correct</span>"
            ],
            "text/plain": [
              "Correct"
            ]
          },
          "metadata": {},
          "output_type": "display_data"
        }
      ],
      "source": [
        "reviewer_mean_ratings = reviews.groupby('taster_name').points.mean()\n",
        "\n",
        "# Check your answer\n",
        "q5.check()"
      ]
    },
    {
      "cell_type": "code",
      "execution_count": null,
      "id": "9f9ff415",
      "metadata": {
        "execution": {
          "iopub.execute_input": "2023-12-16T19:02:49.804646Z",
          "iopub.status.busy": "2023-12-16T19:02:49.804262Z",
          "iopub.status.idle": "2023-12-16T19:02:49.809255Z",
          "shell.execute_reply": "2023-12-16T19:02:49.808168Z"
        },
        "papermill": {
          "duration": 0.025641,
          "end_time": "2023-12-16T19:02:49.812782",
          "exception": false,
          "start_time": "2023-12-16T19:02:49.787141",
          "status": "completed"
        },
        "tags": [],
        "id": "9f9ff415"
      },
      "outputs": [],
      "source": [
        "#q5.hint()\n",
        "#q5.solution()"
      ]
    },
    {
      "cell_type": "markdown",
      "id": "42ee09bc",
      "metadata": {
        "papermill": {
          "duration": 0.010347,
          "end_time": "2023-12-16T19:02:49.835567",
          "exception": false,
          "start_time": "2023-12-16T19:02:49.825220",
          "status": "completed"
        },
        "tags": [],
        "id": "42ee09bc"
      },
      "source": [
        "Are there significant differences in the average scores assigned by the various reviewers? Run the cell below to use the `describe()` method to see a summary of the range of values."
      ]
    },
    {
      "cell_type": "code",
      "execution_count": null,
      "id": "05a7c3d5",
      "metadata": {
        "execution": {
          "iopub.execute_input": "2023-12-16T19:02:49.858650Z",
          "iopub.status.busy": "2023-12-16T19:02:49.858283Z",
          "iopub.status.idle": "2023-12-16T19:02:49.871900Z",
          "shell.execute_reply": "2023-12-16T19:02:49.870615Z"
        },
        "papermill": {
          "duration": 0.028163,
          "end_time": "2023-12-16T19:02:49.874360",
          "exception": false,
          "start_time": "2023-12-16T19:02:49.846197",
          "status": "completed"
        },
        "tags": [],
        "id": "05a7c3d5",
        "outputId": "788913e2-e93d-4b00-f189-c0fc789aaf6a"
      },
      "outputs": [
        {
          "data": {
            "text/plain": [
              "count    19.000000\n",
              "mean     88.233026\n",
              "std       1.243610\n",
              "min      85.855422\n",
              "25%      87.323501\n",
              "50%      88.536235\n",
              "75%      88.975256\n",
              "max      90.562551\n",
              "Name: points, dtype: float64"
            ]
          },
          "execution_count": 12,
          "metadata": {},
          "output_type": "execute_result"
        }
      ],
      "source": [
        "reviewer_mean_ratings.describe()"
      ]
    },
    {
      "cell_type": "markdown",
      "id": "2edfca1f",
      "metadata": {
        "papermill": {
          "duration": 0.011209,
          "end_time": "2023-12-16T19:02:49.896009",
          "exception": false,
          "start_time": "2023-12-16T19:02:49.884800",
          "status": "completed"
        },
        "tags": [],
        "id": "2edfca1f"
      },
      "source": [
        "## 6.\n",
        "What combination of countries and varieties are most common? Create a `Series` whose index is a `MultiIndex`of `{country, variety}` pairs. For example, a pinot noir produced in the US should map to `{\"US\", \"Pinot Noir\"}`. Sort the values in the `Series` in descending order based on wine count."
      ]
    },
    {
      "cell_type": "code",
      "execution_count": null,
      "id": "d3076d5f",
      "metadata": {
        "execution": {
          "iopub.execute_input": "2023-12-16T19:02:49.927349Z",
          "iopub.status.busy": "2023-12-16T19:02:49.926837Z",
          "iopub.status.idle": "2023-12-16T19:02:50.020427Z",
          "shell.execute_reply": "2023-12-16T19:02:50.018827Z"
        },
        "papermill": {
          "duration": 0.11432,
          "end_time": "2023-12-16T19:02:50.024282",
          "exception": false,
          "start_time": "2023-12-16T19:02:49.909962",
          "status": "completed"
        },
        "tags": [],
        "id": "d3076d5f",
        "outputId": "53cfd5e2-41cb-4733-b209-641a05b3af2b"
      },
      "outputs": [
        {
          "data": {
            "application/javascript": [
              "parent.postMessage({\"jupyterEvent\": \"custom.exercise_interaction\", \"data\": {\"outcomeType\": 1, \"valueTowardsCompletion\": 0.16666666666666666, \"interactionType\": 1, \"questionType\": 1, \"questionId\": \"6_GroupbyCountryVariety\", \"learnToolsVersion\": \"0.3.4\", \"failureMessage\": \"\", \"exceptionClass\": \"\", \"trace\": \"\"}}, \"*\")"
            ],
            "text/plain": [
              "<IPython.core.display.Javascript object>"
            ]
          },
          "metadata": {},
          "output_type": "display_data"
        },
        {
          "data": {
            "text/markdown": [
              "<span style=\"color:#33cc33\">Correct</span>"
            ],
            "text/plain": [
              "Correct"
            ]
          },
          "metadata": {},
          "output_type": "display_data"
        }
      ],
      "source": [
        "country_variety_counts = reviews.groupby(['country', 'variety']).size().sort_values(ascending=False)\n",
        "\n",
        "# Check your answer\n",
        "q6.check()"
      ]
    },
    {
      "cell_type": "code",
      "execution_count": null,
      "id": "a03cddf6",
      "metadata": {
        "execution": {
          "iopub.execute_input": "2023-12-16T19:02:50.052499Z",
          "iopub.status.busy": "2023-12-16T19:02:50.052017Z",
          "iopub.status.idle": "2023-12-16T19:02:50.057577Z",
          "shell.execute_reply": "2023-12-16T19:02:50.056102Z"
        },
        "papermill": {
          "duration": 0.022147,
          "end_time": "2023-12-16T19:02:50.060416",
          "exception": false,
          "start_time": "2023-12-16T19:02:50.038269",
          "status": "completed"
        },
        "tags": [],
        "id": "a03cddf6"
      },
      "outputs": [],
      "source": [
        "#q6.hint()\n",
        "#q6.solution()"
      ]
    },
    {
      "cell_type": "markdown",
      "id": "69c62313",
      "metadata": {
        "papermill": {
          "duration": 0.011346,
          "end_time": "2023-12-16T19:02:50.083622",
          "exception": false,
          "start_time": "2023-12-16T19:02:50.072276",
          "status": "completed"
        },
        "tags": [],
        "id": "69c62313"
      },
      "source": [
        "# Keep going\n",
        "\n",
        "Move on to the [**data types and missing data**](https://www.kaggle.com/residentmario/data-types-and-missing-values)."
      ]
    },
    {
      "cell_type": "markdown",
      "id": "ae0d723a",
      "metadata": {
        "papermill": {
          "duration": 0.014393,
          "end_time": "2023-12-16T19:02:50.109771",
          "exception": false,
          "start_time": "2023-12-16T19:02:50.095378",
          "status": "completed"
        },
        "tags": [],
        "id": "ae0d723a"
      },
      "source": [
        "---\n",
        "\n",
        "\n",
        "\n",
        "\n",
        "*Have questions or comments? Visit the [course discussion forum](https://www.kaggle.com/learn/pandas/discussion) to chat with other learners.*"
      ]
    }
  ],
  "metadata": {
    "kaggle": {
      "accelerator": "none",
      "dataSources": [
        {
          "datasetId": 655,
          "sourceId": 1252,
          "sourceType": "datasetVersion"
        },
        {
          "datasetId": 2321,
          "sourceId": 3919,
          "sourceType": "datasetVersion"
        },
        {
          "datasetId": 2894,
          "sourceId": 4877,
          "sourceType": "datasetVersion"
        },
        {
          "datasetId": 3491,
          "sourceId": 5624,
          "sourceType": "datasetVersion"
        },
        {
          "datasetId": 1442,
          "sourceId": 8172,
          "sourceType": "datasetVersion"
        },
        {
          "datasetId": 9366,
          "sourceId": 13206,
          "sourceType": "datasetVersion"
        },
        {
          "datasetId": 179555,
          "sourceId": 403916,
          "sourceType": "datasetVersion"
        },
        {
          "datasetId": 4549,
          "sourceId": 466349,
          "sourceType": "datasetVersion"
        },
        {
          "datasetId": 2478,
          "sourceId": 1151655,
          "sourceType": "datasetVersion"
        },
        {
          "datasetId": 10128,
          "sourceId": 5438389,
          "sourceType": "datasetVersion"
        }
      ],
      "isGpuEnabled": false,
      "isInternetEnabled": false,
      "language": "python",
      "sourceType": "notebook"
    },
    "kernelspec": {
      "display_name": "Python 3",
      "language": "python",
      "name": "python3"
    },
    "language_info": {
      "codemirror_mode": {
        "name": "ipython",
        "version": 3
      },
      "file_extension": ".py",
      "mimetype": "text/x-python",
      "name": "python",
      "nbconvert_exporter": "python",
      "pygments_lexer": "ipython3",
      "version": "3.10.12"
    },
    "papermill": {
      "default_parameters": {},
      "duration": 9.679266,
      "end_time": "2023-12-16T19:02:50.946218",
      "environment_variables": {},
      "exception": null,
      "input_path": "__notebook__.ipynb",
      "output_path": "__notebook__.ipynb",
      "parameters": {},
      "start_time": "2023-12-16T19:02:41.266952",
      "version": "2.4.0"
    },
    "colab": {
      "provenance": []
    }
  },
  "nbformat": 4,
  "nbformat_minor": 5
}