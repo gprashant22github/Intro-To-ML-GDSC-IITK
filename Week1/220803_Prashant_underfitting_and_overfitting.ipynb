{
  "cells": [
    {
      "cell_type": "markdown",
      "id": "680c0050",
      "metadata": {
        "papermill": {
          "duration": 0.00358,
          "end_time": "2023-12-16T17:15:20.284197",
          "exception": false,
          "start_time": "2023-12-16T17:15:20.280617",
          "status": "completed"
        },
        "tags": [],
        "id": "680c0050"
      },
      "source": [
        "**This notebook is an exercise in the [Introduction to Machine Learning](https://www.kaggle.com/learn/intro-to-machine-learning) course.  You can reference the tutorial at [this link](https://www.kaggle.com/dansbecker/underfitting-and-overfitting).**\n",
        "\n",
        "---\n"
      ]
    },
    {
      "cell_type": "markdown",
      "id": "0365e1e5",
      "metadata": {
        "papermill": {
          "duration": 0.002765,
          "end_time": "2023-12-16T17:15:20.290208",
          "exception": false,
          "start_time": "2023-12-16T17:15:20.287443",
          "status": "completed"
        },
        "tags": [],
        "id": "0365e1e5"
      },
      "source": [
        "## Recap\n",
        "You've built your first model, and now it's time to optimize the size of the tree to make better predictions. Run this cell to set up your coding environment where the previous step left off."
      ]
    },
    {
      "cell_type": "code",
      "execution_count": null,
      "id": "9a9a4388",
      "metadata": {
        "execution": {
          "iopub.execute_input": "2023-12-16T17:15:20.298552Z",
          "iopub.status.busy": "2023-12-16T17:15:20.297992Z",
          "iopub.status.idle": "2023-12-16T17:15:22.364857Z",
          "shell.execute_reply": "2023-12-16T17:15:22.363518Z"
        },
        "papermill": {
          "duration": 2.074249,
          "end_time": "2023-12-16T17:15:22.367405",
          "exception": false,
          "start_time": "2023-12-16T17:15:20.293156",
          "status": "completed"
        },
        "tags": [],
        "id": "9a9a4388",
        "outputId": "37aaf1e6-59b3-45ee-870d-732f5f1cd2e5"
      },
      "outputs": [
        {
          "name": "stdout",
          "output_type": "stream",
          "text": [
            "Validation MAE: 29,653\n",
            "\n",
            "Setup complete\n"
          ]
        }
      ],
      "source": [
        "# Code you have previously used to load data\n",
        "import pandas as pd\n",
        "from sklearn.metrics import mean_absolute_error\n",
        "from sklearn.model_selection import train_test_split\n",
        "from sklearn.tree import DecisionTreeRegressor\n",
        "\n",
        "\n",
        "# Path of the file to read\n",
        "iowa_file_path = '../input/home-data-for-ml-course/train.csv'\n",
        "\n",
        "home_data = pd.read_csv(iowa_file_path)\n",
        "# Create target object and call it y\n",
        "y = home_data.SalePrice\n",
        "# Create X\n",
        "features = ['LotArea', 'YearBuilt', '1stFlrSF', '2ndFlrSF', 'FullBath', 'BedroomAbvGr', 'TotRmsAbvGrd']\n",
        "X = home_data[features]\n",
        "\n",
        "# Split into validation and training data\n",
        "train_X, val_X, train_y, val_y = train_test_split(X, y, random_state=1)\n",
        "\n",
        "# Specify Model\n",
        "iowa_model = DecisionTreeRegressor(random_state=1)\n",
        "# Fit Model\n",
        "iowa_model.fit(train_X, train_y)\n",
        "\n",
        "# Make validation predictions and calculate mean absolute error\n",
        "val_predictions = iowa_model.predict(val_X)\n",
        "val_mae = mean_absolute_error(val_predictions, val_y)\n",
        "print(\"Validation MAE: {:,.0f}\".format(val_mae))\n",
        "\n",
        "# Set up code checking\n",
        "from learntools.core import binder\n",
        "binder.bind(globals())\n",
        "from learntools.machine_learning.ex5 import *\n",
        "print(\"\\nSetup complete\")"
      ]
    },
    {
      "cell_type": "markdown",
      "id": "0320161b",
      "metadata": {
        "papermill": {
          "duration": 0.002836,
          "end_time": "2023-12-16T17:15:22.373651",
          "exception": false,
          "start_time": "2023-12-16T17:15:22.370815",
          "status": "completed"
        },
        "tags": [],
        "id": "0320161b"
      },
      "source": [
        "# Exercises\n",
        "You could write the function `get_mae` yourself. For now, we'll supply it. This is the same function you read about in the previous lesson. Just run the cell below."
      ]
    },
    {
      "cell_type": "code",
      "execution_count": null,
      "id": "a29213d4",
      "metadata": {
        "execution": {
          "iopub.execute_input": "2023-12-16T17:15:22.381563Z",
          "iopub.status.busy": "2023-12-16T17:15:22.381174Z",
          "iopub.status.idle": "2023-12-16T17:15:22.387801Z",
          "shell.execute_reply": "2023-12-16T17:15:22.386691Z"
        },
        "papermill": {
          "duration": 0.012738,
          "end_time": "2023-12-16T17:15:22.389533",
          "exception": false,
          "start_time": "2023-12-16T17:15:22.376795",
          "status": "completed"
        },
        "tags": [],
        "id": "a29213d4"
      },
      "outputs": [],
      "source": [
        "def get_mae(max_leaf_nodes, train_X, val_X, train_y, val_y):\n",
        "    model = DecisionTreeRegressor(max_leaf_nodes=max_leaf_nodes, random_state=0)\n",
        "    model.fit(train_X, train_y)\n",
        "    preds_val = model.predict(val_X)\n",
        "    mae = mean_absolute_error(val_y, preds_val)\n",
        "    return(mae)"
      ]
    },
    {
      "cell_type": "markdown",
      "id": "5f1b2991",
      "metadata": {
        "papermill": {
          "duration": 0.002742,
          "end_time": "2023-12-16T17:15:22.395755",
          "exception": false,
          "start_time": "2023-12-16T17:15:22.393013",
          "status": "completed"
        },
        "tags": [],
        "id": "5f1b2991"
      },
      "source": [
        "## Step 1: Compare Different Tree Sizes\n",
        "Write a loop that tries the following values for *max_leaf_nodes* from a set of possible values.\n",
        "\n",
        "Call the *get_mae* function on each value of max_leaf_nodes. Store the output in some way that allows you to select the value of `max_leaf_nodes` that gives the most accurate model on your data."
      ]
    },
    {
      "cell_type": "code",
      "execution_count": null,
      "id": "a57d223b",
      "metadata": {
        "execution": {
          "iopub.execute_input": "2023-12-16T17:15:22.404052Z",
          "iopub.status.busy": "2023-12-16T17:15:22.402867Z",
          "iopub.status.idle": "2023-12-16T17:15:22.448754Z",
          "shell.execute_reply": "2023-12-16T17:15:22.447271Z"
        },
        "papermill": {
          "duration": 0.052508,
          "end_time": "2023-12-16T17:15:22.451273",
          "exception": false,
          "start_time": "2023-12-16T17:15:22.398765",
          "status": "completed"
        },
        "tags": [],
        "id": "a57d223b",
        "outputId": "07eacab0-467e-4b6e-b299-122e050ab303"
      },
      "outputs": [
        {
          "name": "stdout",
          "output_type": "stream",
          "text": [
            "Max leaf nodes: 5  \t\t Mean Absolute Error:  35044\n",
            "Max leaf nodes: 25  \t\t Mean Absolute Error:  29016\n",
            "Max leaf nodes: 50  \t\t Mean Absolute Error:  27405\n",
            "Max leaf nodes: 100  \t\t Mean Absolute Error:  27282\n",
            "Max leaf nodes: 250  \t\t Mean Absolute Error:  27893\n",
            "Max leaf nodes: 500  \t\t Mean Absolute Error:  29454\n"
          ]
        },
        {
          "data": {
            "application/javascript": [
              "parent.postMessage({\"jupyterEvent\": \"custom.exercise_interaction\", \"data\": {\"outcomeType\": 1, \"valueTowardsCompletion\": 0.5, \"interactionType\": 1, \"questionType\": 1, \"questionId\": \"1_BestTreeSize\", \"learnToolsVersion\": \"0.3.4\", \"failureMessage\": \"\", \"exceptionClass\": \"\", \"trace\": \"\"}}, \"*\")"
            ],
            "text/plain": [
              "<IPython.core.display.Javascript object>"
            ]
          },
          "metadata": {},
          "output_type": "display_data"
        },
        {
          "data": {
            "text/markdown": [
              "<span style=\"color:#33cc33\">Correct</span>"
            ],
            "text/plain": [
              "Correct"
            ]
          },
          "metadata": {},
          "output_type": "display_data"
        }
      ],
      "source": [
        "candidate_max_leaf_nodes = [5, 25, 50, 100, 250, 500]\n",
        "# Write loop to find the ideal tree size from candidate_max_leaf_nodes\n",
        "for max_leaf_nodes in candidate_max_leaf_nodes:\n",
        "    my_mae = get_mae(max_leaf_nodes, train_X, val_X, train_y, val_y)\n",
        "    print(\"Max leaf nodes: %d  \\t\\t Mean Absolute Error:  %d\" %(max_leaf_nodes, my_mae))\n",
        "\n",
        "# Store the best value of max_leaf_nodes (it will be either 5, 25, 50, 100, 250 or 500)\n",
        "best_tree_size = 100\n",
        "\n",
        "# Check your answer\n",
        "step_1.check()"
      ]
    },
    {
      "cell_type": "code",
      "execution_count": null,
      "id": "1d511f1d",
      "metadata": {
        "execution": {
          "iopub.execute_input": "2023-12-16T17:15:22.460475Z",
          "iopub.status.busy": "2023-12-16T17:15:22.460067Z",
          "iopub.status.idle": "2023-12-16T17:15:22.464340Z",
          "shell.execute_reply": "2023-12-16T17:15:22.463408Z"
        },
        "papermill": {
          "duration": 0.011683,
          "end_time": "2023-12-16T17:15:22.466618",
          "exception": false,
          "start_time": "2023-12-16T17:15:22.454935",
          "status": "completed"
        },
        "tags": [],
        "id": "1d511f1d"
      },
      "outputs": [],
      "source": [
        "# The lines below will show you a hint or the solution.\n",
        "# step_1.hint()\n",
        "# step_1.solution()"
      ]
    },
    {
      "cell_type": "markdown",
      "id": "1db9af09",
      "metadata": {
        "papermill": {
          "duration": 0.003185,
          "end_time": "2023-12-16T17:15:22.473374",
          "exception": false,
          "start_time": "2023-12-16T17:15:22.470189",
          "status": "completed"
        },
        "tags": [],
        "id": "1db9af09"
      },
      "source": [
        "## Step 2: Fit Model Using All Data\n",
        "You know the best tree size. If you were going to deploy this model in practice, you would make it even more accurate by using all of the data and keeping that tree size.  That is, you don't need to hold out the validation data now that you've made all your modeling decisions."
      ]
    },
    {
      "cell_type": "code",
      "execution_count": null,
      "id": "21fd0aa5",
      "metadata": {
        "execution": {
          "iopub.execute_input": "2023-12-16T17:15:22.481968Z",
          "iopub.status.busy": "2023-12-16T17:15:22.481386Z",
          "iopub.status.idle": "2023-12-16T17:15:22.497213Z",
          "shell.execute_reply": "2023-12-16T17:15:22.496281Z"
        },
        "papermill": {
          "duration": 0.022313,
          "end_time": "2023-12-16T17:15:22.499057",
          "exception": false,
          "start_time": "2023-12-16T17:15:22.476744",
          "status": "completed"
        },
        "tags": [],
        "id": "21fd0aa5",
        "outputId": "1f361b0e-70d9-4c9f-e637-17ebf527867d"
      },
      "outputs": [
        {
          "data": {
            "application/javascript": [
              "parent.postMessage({\"jupyterEvent\": \"custom.exercise_interaction\", \"data\": {\"outcomeType\": 1, \"valueTowardsCompletion\": 0.5, \"interactionType\": 1, \"questionType\": 2, \"questionId\": \"2_FitModelWithAllData\", \"learnToolsVersion\": \"0.3.4\", \"failureMessage\": \"\", \"exceptionClass\": \"\", \"trace\": \"\"}}, \"*\")"
            ],
            "text/plain": [
              "<IPython.core.display.Javascript object>"
            ]
          },
          "metadata": {},
          "output_type": "display_data"
        },
        {
          "data": {
            "text/markdown": [
              "<span style=\"color:#33cc33\">Correct</span>"
            ],
            "text/plain": [
              "Correct"
            ]
          },
          "metadata": {},
          "output_type": "display_data"
        }
      ],
      "source": [
        "# Fill in argument to make optimal size and uncomment\n",
        "final_model = DecisionTreeRegressor(max_leaf_nodes=best_tree_size,random_state=1)\n",
        "\n",
        "# fit the final model and uncomment the next two lines\n",
        "final_model.fit(X,y)\n",
        "\n",
        "# Check your answer\n",
        "step_2.check()"
      ]
    },
    {
      "cell_type": "code",
      "execution_count": null,
      "id": "ef1d4a9c",
      "metadata": {
        "execution": {
          "iopub.execute_input": "2023-12-16T17:15:22.508536Z",
          "iopub.status.busy": "2023-12-16T17:15:22.507906Z",
          "iopub.status.idle": "2023-12-16T17:15:22.513412Z",
          "shell.execute_reply": "2023-12-16T17:15:22.512306Z"
        },
        "papermill": {
          "duration": 0.013595,
          "end_time": "2023-12-16T17:15:22.516416",
          "exception": false,
          "start_time": "2023-12-16T17:15:22.502821",
          "status": "completed"
        },
        "tags": [],
        "id": "ef1d4a9c"
      },
      "outputs": [],
      "source": [
        " #step_2.hint()\n",
        " #step_2.solution()"
      ]
    },
    {
      "cell_type": "markdown",
      "id": "d93f7ce6",
      "metadata": {
        "papermill": {
          "duration": 0.003565,
          "end_time": "2023-12-16T17:15:22.524772",
          "exception": false,
          "start_time": "2023-12-16T17:15:22.521207",
          "status": "completed"
        },
        "tags": [],
        "id": "d93f7ce6"
      },
      "source": [
        "You've tuned this model and improved your results. But we are still using Decision Tree models, which are not very sophisticated by modern machine learning standards. In the next step you will learn to use Random Forests to improve your models even more.\n",
        "\n",
        "# Keep Going\n",
        "\n",
        "You are ready for **[Random Forests](https://www.kaggle.com/dansbecker/random-forests).**\n"
      ]
    },
    {
      "cell_type": "markdown",
      "id": "ceddce9a",
      "metadata": {
        "papermill": {
          "duration": 0.003359,
          "end_time": "2023-12-16T17:15:22.531935",
          "exception": false,
          "start_time": "2023-12-16T17:15:22.528576",
          "status": "completed"
        },
        "tags": [],
        "id": "ceddce9a"
      },
      "source": [
        "---\n",
        "\n",
        "\n",
        "\n",
        "\n",
        "*Have questions or comments? Visit the [course discussion forum](https://www.kaggle.com/learn/intro-to-machine-learning/discussion) to chat with other learners.*"
      ]
    }
  ],
  "metadata": {
    "kaggle": {
      "accelerator": "none",
      "dataSources": [
        {
          "databundleVersionId": 111096,
          "sourceId": 10211,
          "sourceType": "competition"
        },
        {
          "datasetId": 11167,
          "sourceId": 15520,
          "sourceType": "datasetVersion"
        },
        {
          "datasetId": 2709,
          "sourceId": 38454,
          "sourceType": "datasetVersion"
        }
      ],
      "isGpuEnabled": false,
      "isInternetEnabled": false,
      "language": "python",
      "sourceType": "notebook"
    },
    "kernelspec": {
      "display_name": "Python 3",
      "language": "python",
      "name": "python3"
    },
    "language_info": {
      "codemirror_mode": {
        "name": "ipython",
        "version": 3
      },
      "file_extension": ".py",
      "mimetype": "text/x-python",
      "name": "python",
      "nbconvert_exporter": "python",
      "pygments_lexer": "ipython3",
      "version": "3.10.12"
    },
    "papermill": {
      "default_parameters": {},
      "duration": 5.642105,
      "end_time": "2023-12-16T17:15:23.156776",
      "environment_variables": {},
      "exception": null,
      "input_path": "__notebook__.ipynb",
      "output_path": "__notebook__.ipynb",
      "parameters": {},
      "start_time": "2023-12-16T17:15:17.514671",
      "version": "2.4.0"
    },
    "colab": {
      "provenance": []
    }
  },
  "nbformat": 4,
  "nbformat_minor": 5
}