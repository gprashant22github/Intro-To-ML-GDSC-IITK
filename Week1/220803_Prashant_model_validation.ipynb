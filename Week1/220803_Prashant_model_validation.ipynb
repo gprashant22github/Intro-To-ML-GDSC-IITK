{
  "cells": [
    {
      "cell_type": "markdown",
      "id": "a166a903",
      "metadata": {
        "papermill": {
          "duration": 0.004774,
          "end_time": "2023-12-16T16:02:09.122363",
          "exception": false,
          "start_time": "2023-12-16T16:02:09.117589",
          "status": "completed"
        },
        "tags": [],
        "id": "a166a903"
      },
      "source": [
        "**This notebook is an exercise in the [Introduction to Machine Learning](https://www.kaggle.com/learn/intro-to-machine-learning) course.  You can reference the tutorial at [this link](https://www.kaggle.com/dansbecker/model-validation).**\n",
        "\n",
        "---\n"
      ]
    },
    {
      "cell_type": "markdown",
      "id": "a1e73564",
      "metadata": {
        "papermill": {
          "duration": 0.003552,
          "end_time": "2023-12-16T16:02:09.130000",
          "exception": false,
          "start_time": "2023-12-16T16:02:09.126448",
          "status": "completed"
        },
        "tags": [],
        "id": "a1e73564"
      },
      "source": [
        "## Recap\n",
        "You've built a model. In this exercise you will test how good your model is.\n",
        "\n",
        "Run the cell below to set up your coding environment where the previous exercise left off."
      ]
    },
    {
      "cell_type": "code",
      "execution_count": null,
      "id": "cdbda4b1",
      "metadata": {
        "execution": {
          "iopub.execute_input": "2023-12-16T16:02:09.139346Z",
          "iopub.status.busy": "2023-12-16T16:02:09.138934Z",
          "iopub.status.idle": "2023-12-16T16:02:12.127486Z",
          "shell.execute_reply": "2023-12-16T16:02:12.125788Z"
        },
        "papermill": {
          "duration": 2.996254,
          "end_time": "2023-12-16T16:02:12.130013",
          "exception": false,
          "start_time": "2023-12-16T16:02:09.133759",
          "status": "completed"
        },
        "tags": [],
        "id": "cdbda4b1",
        "outputId": "764f003a-2057-454c-b1cc-a7be8f4e4b1d"
      },
      "outputs": [
        {
          "name": "stdout",
          "output_type": "stream",
          "text": [
            "First in-sample predictions: [208500. 181500. 223500. 140000. 250000.]\n",
            "Actual target values for those homes: [208500, 181500, 223500, 140000, 250000]\n",
            "Setup Complete\n"
          ]
        }
      ],
      "source": [
        "# Code you have previously used to load data\n",
        "import pandas as pd\n",
        "from sklearn.tree import DecisionTreeRegressor\n",
        "\n",
        "# Path of the file to read\n",
        "iowa_file_path = '../input/home-data-for-ml-course/train.csv'\n",
        "\n",
        "home_data = pd.read_csv(iowa_file_path)\n",
        "y = home_data.SalePrice\n",
        "feature_columns = ['LotArea', 'YearBuilt', '1stFlrSF', '2ndFlrSF', 'FullBath', 'BedroomAbvGr', 'TotRmsAbvGrd']\n",
        "X = home_data[feature_columns]\n",
        "\n",
        "# Specify Model\n",
        "iowa_model = DecisionTreeRegressor()\n",
        "# Fit Model\n",
        "iowa_model.fit(X, y)\n",
        "\n",
        "print(\"First in-sample predictions:\", iowa_model.predict(X.head()))\n",
        "print(\"Actual target values for those homes:\", y.head().tolist())\n",
        "\n",
        "# Set up code checking\n",
        "from learntools.core import binder\n",
        "binder.bind(globals())\n",
        "from learntools.machine_learning.ex4 import *\n",
        "print(\"Setup Complete\")"
      ]
    },
    {
      "cell_type": "markdown",
      "id": "926fa653",
      "metadata": {
        "papermill": {
          "duration": 0.004333,
          "end_time": "2023-12-16T16:02:12.139301",
          "exception": false,
          "start_time": "2023-12-16T16:02:12.134968",
          "status": "completed"
        },
        "tags": [],
        "id": "926fa653"
      },
      "source": [
        "# Exercises\n",
        "\n",
        "## Step 1: Split Your Data\n",
        "Use the `train_test_split` function to split up your data.\n",
        "\n",
        "Give it the argument `random_state=1` so the `check` functions know what to expect when verifying your code.\n",
        "\n",
        "Recall, your features are loaded in the DataFrame **X** and your target is loaded in **y**.\n"
      ]
    },
    {
      "cell_type": "code",
      "execution_count": null,
      "id": "74e5bfbb",
      "metadata": {
        "execution": {
          "iopub.execute_input": "2023-12-16T16:02:12.150398Z",
          "iopub.status.busy": "2023-12-16T16:02:12.148911Z",
          "iopub.status.idle": "2023-12-16T16:02:12.161977Z",
          "shell.execute_reply": "2023-12-16T16:02:12.160588Z"
        },
        "papermill": {
          "duration": 0.021437,
          "end_time": "2023-12-16T16:02:12.164828",
          "exception": false,
          "start_time": "2023-12-16T16:02:12.143391",
          "status": "completed"
        },
        "tags": [],
        "id": "74e5bfbb",
        "outputId": "9458e49c-fac4-478f-901b-6c323d0c681f"
      },
      "outputs": [
        {
          "data": {
            "application/javascript": [
              "parent.postMessage({\"jupyterEvent\": \"custom.exercise_interaction\", \"data\": {\"outcomeType\": 1, \"valueTowardsCompletion\": 0.25, \"interactionType\": 1, \"questionType\": 2, \"questionId\": \"1_SplitData\", \"learnToolsVersion\": \"0.3.4\", \"failureMessage\": \"\", \"exceptionClass\": \"\", \"trace\": \"\"}}, \"*\")"
            ],
            "text/plain": [
              "<IPython.core.display.Javascript object>"
            ]
          },
          "metadata": {},
          "output_type": "display_data"
        },
        {
          "data": {
            "text/markdown": [
              "<span style=\"color:#33cc33\">Correct</span>"
            ],
            "text/plain": [
              "Correct"
            ]
          },
          "metadata": {},
          "output_type": "display_data"
        }
      ],
      "source": [
        "# Import the train_test_split function and uncomment\n",
        "# from _ import _\n",
        "from sklearn.model_selection import train_test_split\n",
        "\n",
        "# fill in and uncomment\n",
        "train_X, val_X, train_y, val_y = train_test_split(X, y, random_state = 1)\n",
        "\n",
        "# Check your answer\n",
        "step_1.check()"
      ]
    },
    {
      "cell_type": "code",
      "execution_count": null,
      "id": "5e5c4cf1",
      "metadata": {
        "execution": {
          "iopub.execute_input": "2023-12-16T16:02:12.177053Z",
          "iopub.status.busy": "2023-12-16T16:02:12.175581Z",
          "iopub.status.idle": "2023-12-16T16:02:12.180608Z",
          "shell.execute_reply": "2023-12-16T16:02:12.179307Z"
        },
        "papermill": {
          "duration": 0.013857,
          "end_time": "2023-12-16T16:02:12.183520",
          "exception": false,
          "start_time": "2023-12-16T16:02:12.169663",
          "status": "completed"
        },
        "tags": [],
        "id": "5e5c4cf1"
      },
      "outputs": [],
      "source": [
        "# The lines below will show you a hint or the solution.\n",
        "# step_1.hint()\n",
        "# step_1.solution()\n"
      ]
    },
    {
      "cell_type": "markdown",
      "id": "c2ec6031",
      "metadata": {
        "papermill": {
          "duration": 0.003951,
          "end_time": "2023-12-16T16:02:12.192743",
          "exception": false,
          "start_time": "2023-12-16T16:02:12.188792",
          "status": "completed"
        },
        "tags": [],
        "id": "c2ec6031"
      },
      "source": [
        "## Step 2: Specify and Fit the Model\n",
        "\n",
        "Create a `DecisionTreeRegressor` model and fit it to the relevant data.\n",
        "Set `random_state` to 1 again when creating the model."
      ]
    },
    {
      "cell_type": "code",
      "execution_count": null,
      "id": "35cdac7d",
      "metadata": {
        "execution": {
          "iopub.execute_input": "2023-12-16T16:02:12.204994Z",
          "iopub.status.busy": "2023-12-16T16:02:12.204244Z",
          "iopub.status.idle": "2023-12-16T16:02:12.230890Z",
          "shell.execute_reply": "2023-12-16T16:02:12.229192Z"
        },
        "papermill": {
          "duration": 0.035897,
          "end_time": "2023-12-16T16:02:12.233725",
          "exception": false,
          "start_time": "2023-12-16T16:02:12.197828",
          "status": "completed"
        },
        "tags": [],
        "id": "35cdac7d",
        "outputId": "7a2f53d6-ea0a-4d74-85af-38a7feb85e85"
      },
      "outputs": [
        {
          "name": "stdout",
          "output_type": "stream",
          "text": [
            "[186500. 184000. 130000.  92000. 164500. 220000. 335000. 144152. 215000.\n",
            " 262000.]\n",
            "[186500. 184000. 130000.  92000. 164500. 220000. 335000. 144152. 215000.\n",
            " 262000.]\n"
          ]
        },
        {
          "data": {
            "application/javascript": [
              "parent.postMessage({\"jupyterEvent\": \"custom.exercise_interaction\", \"data\": {\"outcomeType\": 1, \"valueTowardsCompletion\": 0.25, \"interactionType\": 1, \"questionType\": 2, \"questionId\": \"2_FitModelWithTrain\", \"learnToolsVersion\": \"0.3.4\", \"failureMessage\": \"\", \"exceptionClass\": \"\", \"trace\": \"\"}}, \"*\")"
            ],
            "text/plain": [
              "<IPython.core.display.Javascript object>"
            ]
          },
          "metadata": {},
          "output_type": "display_data"
        },
        {
          "data": {
            "text/markdown": [
              "<span style=\"color:#33cc33\">Correct</span>"
            ],
            "text/plain": [
              "Correct"
            ]
          },
          "metadata": {},
          "output_type": "display_data"
        }
      ],
      "source": [
        "# You imported DecisionTreeRegressor in your last exercise\n",
        "# and that code has been copied to the setup code above. So, no need to\n",
        "# import it again\n",
        "\n",
        "# Specify the model\n",
        "iowa_model = DecisionTreeRegressor(random_state=1)\n",
        "\n",
        "# Fit iowa_model with the training data.\n",
        "iowa_model.fit(train_X, train_y)\n",
        "\n",
        "# Check your answer\n",
        "step_2.check()"
      ]
    },
    {
      "cell_type": "code",
      "execution_count": null,
      "id": "d42eec30",
      "metadata": {
        "execution": {
          "iopub.execute_input": "2023-12-16T16:02:12.245306Z",
          "iopub.status.busy": "2023-12-16T16:02:12.244924Z",
          "iopub.status.idle": "2023-12-16T16:02:12.251223Z",
          "shell.execute_reply": "2023-12-16T16:02:12.249579Z"
        },
        "papermill": {
          "duration": 0.015472,
          "end_time": "2023-12-16T16:02:12.254027",
          "exception": false,
          "start_time": "2023-12-16T16:02:12.238555",
          "status": "completed"
        },
        "tags": [],
        "id": "d42eec30"
      },
      "outputs": [],
      "source": [
        " #step_2.hint()\n",
        " #step_2.solution()"
      ]
    },
    {
      "cell_type": "markdown",
      "id": "ca7b5dca",
      "metadata": {
        "papermill": {
          "duration": 0.00443,
          "end_time": "2023-12-16T16:02:12.263672",
          "exception": false,
          "start_time": "2023-12-16T16:02:12.259242",
          "status": "completed"
        },
        "tags": [],
        "id": "ca7b5dca"
      },
      "source": [
        "## Step 3: Make Predictions with Validation data\n"
      ]
    },
    {
      "cell_type": "code",
      "execution_count": null,
      "id": "bd2a6bb7",
      "metadata": {
        "execution": {
          "iopub.execute_input": "2023-12-16T16:02:12.275203Z",
          "iopub.status.busy": "2023-12-16T16:02:12.274795Z",
          "iopub.status.idle": "2023-12-16T16:02:12.291481Z",
          "shell.execute_reply": "2023-12-16T16:02:12.289412Z"
        },
        "papermill": {
          "duration": 0.025881,
          "end_time": "2023-12-16T16:02:12.294440",
          "exception": false,
          "start_time": "2023-12-16T16:02:12.268559",
          "status": "completed"
        },
        "tags": [],
        "id": "bd2a6bb7",
        "outputId": "0011a698-129d-4b28-f988-43e89ad37516"
      },
      "outputs": [
        {
          "data": {
            "application/javascript": [
              "parent.postMessage({\"jupyterEvent\": \"custom.exercise_interaction\", \"data\": {\"outcomeType\": 1, \"valueTowardsCompletion\": 0.25, \"interactionType\": 1, \"questionType\": 2, \"questionId\": \"3_ValPreds\", \"learnToolsVersion\": \"0.3.4\", \"failureMessage\": \"\", \"exceptionClass\": \"\", \"trace\": \"\"}}, \"*\")"
            ],
            "text/plain": [
              "<IPython.core.display.Javascript object>"
            ]
          },
          "metadata": {},
          "output_type": "display_data"
        },
        {
          "data": {
            "text/markdown": [
              "<span style=\"color:#33cc33\">Correct</span>"
            ],
            "text/plain": [
              "Correct"
            ]
          },
          "metadata": {},
          "output_type": "display_data"
        }
      ],
      "source": [
        "# Predict with all validation observations\n",
        "val_predictions = iowa_model.predict(val_X)\n",
        "\n",
        "# Check your answer\n",
        "step_3.check()"
      ]
    },
    {
      "cell_type": "code",
      "execution_count": null,
      "id": "a80573e2",
      "metadata": {
        "execution": {
          "iopub.execute_input": "2023-12-16T16:02:12.306411Z",
          "iopub.status.busy": "2023-12-16T16:02:12.306012Z",
          "iopub.status.idle": "2023-12-16T16:02:12.311866Z",
          "shell.execute_reply": "2023-12-16T16:02:12.310633Z"
        },
        "papermill": {
          "duration": 0.014962,
          "end_time": "2023-12-16T16:02:12.314475",
          "exception": false,
          "start_time": "2023-12-16T16:02:12.299513",
          "status": "completed"
        },
        "tags": [],
        "id": "a80573e2"
      },
      "outputs": [],
      "source": [
        "# step_3.hint()\n",
        "# step_3.solution()"
      ]
    },
    {
      "cell_type": "markdown",
      "id": "5de08ec3",
      "metadata": {
        "papermill": {
          "duration": 0.005154,
          "end_time": "2023-12-16T16:02:12.324961",
          "exception": false,
          "start_time": "2023-12-16T16:02:12.319807",
          "status": "completed"
        },
        "tags": [],
        "id": "5de08ec3"
      },
      "source": [
        "Inspect your predictions and actual values from validation data."
      ]
    },
    {
      "cell_type": "code",
      "execution_count": null,
      "id": "eb2c1b60",
      "metadata": {
        "execution": {
          "iopub.execute_input": "2023-12-16T16:02:12.337251Z",
          "iopub.status.busy": "2023-12-16T16:02:12.336325Z",
          "iopub.status.idle": "2023-12-16T16:02:12.345358Z",
          "shell.execute_reply": "2023-12-16T16:02:12.344493Z"
        },
        "papermill": {
          "duration": 0.017572,
          "end_time": "2023-12-16T16:02:12.347558",
          "exception": false,
          "start_time": "2023-12-16T16:02:12.329986",
          "status": "completed"
        },
        "tags": [],
        "id": "eb2c1b60",
        "outputId": "88c81b4e-fa23-4e18-f7cb-2a79cfb21233"
      },
      "outputs": [
        {
          "name": "stdout",
          "output_type": "stream",
          "text": [
            "[186500. 184000. 130000.  92000. 164500. 220000. 335000. 144152. 215000.\n",
            " 262000. 180000. 121000. 175900. 210000. 248900. 131000. 100000. 149350.\n",
            " 235000. 156000. 149900. 265979. 193500. 377500. 100000. 162900. 145000.\n",
            " 180000. 582933. 146000. 140000.  91500. 112500. 113000. 145000. 312500.\n",
            " 110000. 132000. 305000. 128000. 162900. 115000. 110000. 124000. 215200.\n",
            " 180000.  79000. 192000. 282922. 235000. 132000. 325000.  80000. 237000.\n",
            " 208300. 100000. 120500. 162000. 153000. 187000. 185750. 335000. 129000.\n",
            " 124900. 185750. 133700. 127000. 230000. 146800. 157900. 136000. 153575.\n",
            " 335000. 177500. 143000. 202500. 168500. 105000. 305900. 192000. 190000.\n",
            " 140200. 134900. 128950. 213000. 108959. 149500. 190000. 175900. 160000.\n",
            " 250580. 157000. 120500. 147500. 118000. 117000. 110000. 130000. 148500.\n",
            " 148000. 190000. 130500. 127000. 120500. 135000. 168000. 176432. 128000.\n",
            " 147000. 260000. 132000. 129500. 171000. 181134. 227875. 189000. 282922.\n",
            "  94750. 185000. 194000. 159000. 279500. 290000. 135000. 299800. 165000.\n",
            " 394432. 135750. 155000. 212000. 310000. 134800.  84000. 122900.  80000.\n",
            " 191000. 755000. 147000. 248000. 106500. 145000. 359100. 145000. 192500.\n",
            " 149000. 252000. 109000. 215000. 220000. 138500. 185000. 185000. 120500.\n",
            " 181000. 173000. 335000.  67000. 149350.  67000. 156000. 119000. 110500.\n",
            " 184000. 147000. 156000. 171000. 177000. 159000. 125000. 105000. 284000.\n",
            " 167500. 200000. 312500. 213000. 135960. 205000. 237000. 107000. 163000.\n",
            " 132500. 155835. 165500. 138500. 257000. 160000. 394617. 281213. 161000.\n",
            " 127500.  88000. 139000.  89500. 132500. 134800. 335000. 248900. 155000.\n",
            " 147000.  86000. 185000. 200000. 180500. 215200. 319900. 105000. 194000.\n",
            " 340000. 256000. 280000. 186500. 105500. 155000. 133500. 255500. 253000.\n",
            " 130000.  92900. 256000. 100000. 755000. 138500. 168500. 112000. 127000.\n",
            " 109008. 197000. 245500. 171900. 162000. 128000. 173000. 132000. 118000.\n",
            " 235128. 118964. 260000. 116000. 185000. 315750. 236500. 140000. 151500.\n",
            " 184000.  84000. 130000. 154000. 205000. 110000. 151500. 123000. 129500.\n",
            " 173900. 181500. 165500. 106500. 184900.  84500. 377500. 118500. 180000.\n",
            " 190000. 208500. 181000.  98000. 157000. 151500.  84000. 139000. 100000.\n",
            " 161750. 165600. 116000. 118500. 187000. 147000. 112000. 132000. 230000.\n",
            " 128000. 147000. 125000. 145000. 151000. 284000. 221000. 140200. 129000.\n",
            " 290000. 105000.  96500. 310000. 140000. 132000. 203000. 221000. 215200.\n",
            " 214000. 139000.  91500. 148000. 155000. 115000. 180000. 165500. 223000.\n",
            " 139000. 179900. 150000. 185000. 163000. 176000. 127000. 227000. 146000.\n",
            "  99900. 275000. 180500. 180000. 157000. 186500. 179900. 137500. 219500.\n",
            " 155000. 345000. 197000. 205000. 159000. 159434. 156000. 196000. 252678.\n",
            " 255500. 213000. 150900. 143750. 139000. 260000. 189000. 213250. 207500.\n",
            "  80000. 221000. 109500. 155000. 165000. 149350. 204900. 105900. 155000.\n",
            " 176000. 395000. 149700. 147000. 143900. 226700. 176000. 116000. 325300.\n",
            " 133750. 188500. 148500. 284000. 201800.]\n",
            "258     231500\n",
            "267     179500\n",
            "288     122000\n",
            "649      84500\n",
            "1233    142000\n",
            "         ...  \n",
            "1017    187500\n",
            "534     178000\n",
            "1334    125000\n",
            "1369    232000\n",
            "628     135000\n",
            "Name: SalePrice, Length: 365, dtype: int64\n"
          ]
        }
      ],
      "source": [
        "# print the top few validation predictions\n",
        "print(val_predictions)\n",
        "# print the top few actual prices from validation data\n",
        "print(val_y)"
      ]
    },
    {
      "cell_type": "markdown",
      "id": "58c26c22",
      "metadata": {
        "papermill": {
          "duration": 0.00494,
          "end_time": "2023-12-16T16:02:12.357786",
          "exception": false,
          "start_time": "2023-12-16T16:02:12.352846",
          "status": "completed"
        },
        "tags": [],
        "id": "58c26c22"
      },
      "source": [
        "What do you notice that is different from what you saw with in-sample predictions (which are printed after the top code cell in this page).\n",
        "\n",
        "Do you remember why validation predictions differ from in-sample (or training) predictions? This is an important idea from the last lesson.\n",
        "\n",
        "## Step 4: Calculate the Mean Absolute Error in Validation Data\n"
      ]
    },
    {
      "cell_type": "code",
      "execution_count": null,
      "id": "984c1997",
      "metadata": {
        "execution": {
          "iopub.execute_input": "2023-12-16T16:02:12.370592Z",
          "iopub.status.busy": "2023-12-16T16:02:12.370148Z",
          "iopub.status.idle": "2023-12-16T16:02:12.384018Z",
          "shell.execute_reply": "2023-12-16T16:02:12.382314Z"
        },
        "papermill": {
          "duration": 0.023601,
          "end_time": "2023-12-16T16:02:12.386687",
          "exception": false,
          "start_time": "2023-12-16T16:02:12.363086",
          "status": "completed"
        },
        "tags": [],
        "id": "984c1997",
        "outputId": "2abb875e-d9fd-4f0c-aab6-57e9b66f0078"
      },
      "outputs": [
        {
          "name": "stdout",
          "output_type": "stream",
          "text": [
            "29652.931506849316\n"
          ]
        },
        {
          "data": {
            "application/javascript": [
              "parent.postMessage({\"jupyterEvent\": \"custom.exercise_interaction\", \"data\": {\"outcomeType\": 1, \"valueTowardsCompletion\": 0.25, \"interactionType\": 1, \"questionType\": 1, \"questionId\": \"4_MAE\", \"learnToolsVersion\": \"0.3.4\", \"failureMessage\": \"\", \"exceptionClass\": \"\", \"trace\": \"\"}}, \"*\")"
            ],
            "text/plain": [
              "<IPython.core.display.Javascript object>"
            ]
          },
          "metadata": {},
          "output_type": "display_data"
        },
        {
          "data": {
            "text/markdown": [
              "<span style=\"color:#33cc33\">Correct</span>"
            ],
            "text/plain": [
              "Correct"
            ]
          },
          "metadata": {},
          "output_type": "display_data"
        }
      ],
      "source": [
        "from sklearn.metrics import mean_absolute_error\n",
        "val_mae = mean_absolute_error(val_y, val_predictions)\n",
        "\n",
        "# uncomment following line to see the validation_mae\n",
        "print(val_mae)\n",
        "\n",
        "# Check your answer\n",
        "step_4.check()"
      ]
    },
    {
      "cell_type": "code",
      "execution_count": null,
      "id": "1f287f33",
      "metadata": {
        "execution": {
          "iopub.execute_input": "2023-12-16T16:02:12.400604Z",
          "iopub.status.busy": "2023-12-16T16:02:12.400163Z",
          "iopub.status.idle": "2023-12-16T16:02:12.406301Z",
          "shell.execute_reply": "2023-12-16T16:02:12.404956Z"
        },
        "papermill": {
          "duration": 0.016466,
          "end_time": "2023-12-16T16:02:12.408962",
          "exception": false,
          "start_time": "2023-12-16T16:02:12.392496",
          "status": "completed"
        },
        "tags": [],
        "id": "1f287f33"
      },
      "outputs": [],
      "source": [
        "# step_4.hint()\n",
        "# step_4.solution()"
      ]
    },
    {
      "cell_type": "markdown",
      "id": "9c4e01cd",
      "metadata": {
        "papermill": {
          "duration": 0.005075,
          "end_time": "2023-12-16T16:02:12.419679",
          "exception": false,
          "start_time": "2023-12-16T16:02:12.414604",
          "status": "completed"
        },
        "tags": [],
        "id": "9c4e01cd"
      },
      "source": [
        "Is that MAE good?  There isn't a general rule for what values are good that applies across applications. But you'll see how to use (and improve) this number in the next step.\n",
        "\n",
        "# Keep Going\n",
        "\n",
        "You are ready for **[Underfitting and Overfitting](https://www.kaggle.com/dansbecker/underfitting-and-overfitting).**\n"
      ]
    },
    {
      "cell_type": "markdown",
      "id": "f54ac856",
      "metadata": {
        "papermill": {
          "duration": 0.004928,
          "end_time": "2023-12-16T16:02:12.430016",
          "exception": false,
          "start_time": "2023-12-16T16:02:12.425088",
          "status": "completed"
        },
        "tags": [],
        "id": "f54ac856"
      },
      "source": [
        "---\n",
        "\n",
        "\n",
        "\n",
        "\n",
        "*Have questions or comments? Visit the [course discussion forum](https://www.kaggle.com/learn/intro-to-machine-learning/discussion) to chat with other learners.*"
      ]
    }
  ],
  "metadata": {
    "kaggle": {
      "accelerator": "none",
      "dataSources": [
        {
          "databundleVersionId": 111096,
          "sourceId": 10211,
          "sourceType": "competition"
        },
        {
          "datasetId": 11167,
          "sourceId": 15520,
          "sourceType": "datasetVersion"
        },
        {
          "datasetId": 2709,
          "sourceId": 38454,
          "sourceType": "datasetVersion"
        }
      ],
      "isGpuEnabled": false,
      "isInternetEnabled": false,
      "language": "python",
      "sourceType": "notebook"
    },
    "kernelspec": {
      "display_name": "Python 3",
      "language": "python",
      "name": "python3"
    },
    "language_info": {
      "codemirror_mode": {
        "name": "ipython",
        "version": 3
      },
      "file_extension": ".py",
      "mimetype": "text/x-python",
      "name": "python",
      "nbconvert_exporter": "python",
      "pygments_lexer": "ipython3",
      "version": "3.10.12"
    },
    "papermill": {
      "default_parameters": {},
      "duration": 8.917096,
      "end_time": "2023-12-16T16:02:13.057912",
      "environment_variables": {},
      "exception": null,
      "input_path": "__notebook__.ipynb",
      "output_path": "__notebook__.ipynb",
      "parameters": {},
      "start_time": "2023-12-16T16:02:04.140816",
      "version": "2.4.0"
    },
    "colab": {
      "provenance": []
    }
  },
  "nbformat": 4,
  "nbformat_minor": 5
}