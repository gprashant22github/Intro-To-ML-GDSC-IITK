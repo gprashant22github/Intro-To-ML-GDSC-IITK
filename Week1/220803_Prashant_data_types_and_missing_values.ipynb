{
  "cells": [
    {
      "cell_type": "markdown",
      "id": "75e73806",
      "metadata": {
        "papermill": {
          "duration": 0.006473,
          "end_time": "2023-12-16T19:07:41.437029",
          "exception": false,
          "start_time": "2023-12-16T19:07:41.430556",
          "status": "completed"
        },
        "tags": [],
        "id": "75e73806"
      },
      "source": [
        "**This notebook is an exercise in the [Pandas](https://www.kaggle.com/learn/pandas) course.  You can reference the tutorial at [this link](https://www.kaggle.com/residentmario/data-types-and-missing-values).**\n",
        "\n",
        "---\n"
      ]
    },
    {
      "cell_type": "markdown",
      "id": "9ac46d33",
      "metadata": {
        "papermill": {
          "duration": 0.005695,
          "end_time": "2023-12-16T19:07:41.448981",
          "exception": false,
          "start_time": "2023-12-16T19:07:41.443286",
          "status": "completed"
        },
        "tags": [],
        "id": "9ac46d33"
      },
      "source": [
        "# Introduction\n",
        "\n",
        "Run the following cell to load your data and some utility functions."
      ]
    },
    {
      "cell_type": "code",
      "execution_count": null,
      "id": "dc8a9c1e",
      "metadata": {
        "execution": {
          "iopub.execute_input": "2023-12-16T19:07:41.462585Z",
          "iopub.status.busy": "2023-12-16T19:07:41.462189Z",
          "iopub.status.idle": "2023-12-16T19:07:45.095185Z",
          "shell.execute_reply": "2023-12-16T19:07:45.093715Z"
        },
        "papermill": {
          "duration": 3.643338,
          "end_time": "2023-12-16T19:07:45.098204",
          "exception": false,
          "start_time": "2023-12-16T19:07:41.454866",
          "status": "completed"
        },
        "tags": [],
        "id": "dc8a9c1e",
        "outputId": "2754fb3a-2e23-4e62-ff2a-7c94884d1b14"
      },
      "outputs": [
        {
          "name": "stdout",
          "output_type": "stream",
          "text": [
            "Setup complete.\n"
          ]
        }
      ],
      "source": [
        "import pandas as pd\n",
        "\n",
        "reviews = pd.read_csv(\"../input/wine-reviews/winemag-data-130k-v2.csv\", index_col=0)\n",
        "\n",
        "from learntools.core import binder; binder.bind(globals())\n",
        "from learntools.pandas.data_types_and_missing_data import *\n",
        "print(\"Setup complete.\")"
      ]
    },
    {
      "cell_type": "markdown",
      "id": "d1032b02",
      "metadata": {
        "papermill": {
          "duration": 0.005853,
          "end_time": "2023-12-16T19:07:45.110996",
          "exception": false,
          "start_time": "2023-12-16T19:07:45.105143",
          "status": "completed"
        },
        "tags": [],
        "id": "d1032b02"
      },
      "source": [
        "# Exercises"
      ]
    },
    {
      "cell_type": "markdown",
      "id": "29ee2901",
      "metadata": {
        "papermill": {
          "duration": 0.005951,
          "end_time": "2023-12-16T19:07:45.123022",
          "exception": false,
          "start_time": "2023-12-16T19:07:45.117071",
          "status": "completed"
        },
        "tags": [],
        "id": "29ee2901"
      },
      "source": [
        "## 1.\n",
        "What is the data type of the `points` column in the dataset?"
      ]
    },
    {
      "cell_type": "code",
      "execution_count": null,
      "id": "ab228bf2",
      "metadata": {
        "execution": {
          "iopub.execute_input": "2023-12-16T19:07:45.137329Z",
          "iopub.status.busy": "2023-12-16T19:07:45.136458Z",
          "iopub.status.idle": "2023-12-16T19:07:45.145347Z",
          "shell.execute_reply": "2023-12-16T19:07:45.144529Z"
        },
        "papermill": {
          "duration": 0.018403,
          "end_time": "2023-12-16T19:07:45.147412",
          "exception": false,
          "start_time": "2023-12-16T19:07:45.129009",
          "status": "completed"
        },
        "tags": [],
        "id": "ab228bf2",
        "outputId": "ccc5f988-3239-4020-e00c-4698f9b2bac2"
      },
      "outputs": [
        {
          "data": {
            "application/javascript": [
              "parent.postMessage({\"jupyterEvent\": \"custom.exercise_interaction\", \"data\": {\"outcomeType\": 1, \"valueTowardsCompletion\": 0.25, \"interactionType\": 1, \"questionType\": 1, \"questionId\": \"1_PointsDtype\", \"learnToolsVersion\": \"0.3.4\", \"failureMessage\": \"\", \"exceptionClass\": \"\", \"trace\": \"\"}}, \"*\")"
            ],
            "text/plain": [
              "<IPython.core.display.Javascript object>"
            ]
          },
          "metadata": {},
          "output_type": "display_data"
        },
        {
          "data": {
            "text/markdown": [
              "<span style=\"color:#33cc33\">Correct</span>"
            ],
            "text/plain": [
              "Correct"
            ]
          },
          "metadata": {},
          "output_type": "display_data"
        }
      ],
      "source": [
        "# Your code here\n",
        "dtype = reviews.points.dtype\n",
        "\n",
        "# Check your answer\n",
        "q1.check()"
      ]
    },
    {
      "cell_type": "code",
      "execution_count": null,
      "id": "baafc94a",
      "metadata": {
        "execution": {
          "iopub.execute_input": "2023-12-16T19:07:45.162535Z",
          "iopub.status.busy": "2023-12-16T19:07:45.161953Z",
          "iopub.status.idle": "2023-12-16T19:07:45.166059Z",
          "shell.execute_reply": "2023-12-16T19:07:45.165050Z"
        },
        "papermill": {
          "duration": 0.014628,
          "end_time": "2023-12-16T19:07:45.168554",
          "exception": false,
          "start_time": "2023-12-16T19:07:45.153926",
          "status": "completed"
        },
        "tags": [],
        "id": "baafc94a"
      },
      "outputs": [],
      "source": [
        "#q1.hint()\n",
        "#q1.solution()"
      ]
    },
    {
      "cell_type": "markdown",
      "id": "5cb549f7",
      "metadata": {
        "papermill": {
          "duration": 0.006254,
          "end_time": "2023-12-16T19:07:45.181445",
          "exception": false,
          "start_time": "2023-12-16T19:07:45.175191",
          "status": "completed"
        },
        "tags": [],
        "id": "5cb549f7"
      },
      "source": [
        "## 2.\n",
        "Create a Series from entries in the `points` column, but convert the entries to strings. Hint: strings are `str` in native Python."
      ]
    },
    {
      "cell_type": "code",
      "execution_count": null,
      "id": "5b3d58e4",
      "metadata": {
        "execution": {
          "iopub.execute_input": "2023-12-16T19:07:45.196669Z",
          "iopub.status.busy": "2023-12-16T19:07:45.195613Z",
          "iopub.status.idle": "2023-12-16T19:07:45.299933Z",
          "shell.execute_reply": "2023-12-16T19:07:45.299098Z"
        },
        "papermill": {
          "duration": 0.114578,
          "end_time": "2023-12-16T19:07:45.302489",
          "exception": false,
          "start_time": "2023-12-16T19:07:45.187911",
          "status": "completed"
        },
        "tags": [],
        "id": "5b3d58e4",
        "outputId": "f027ca12-c9ca-410b-8572-4faf8e424f9f"
      },
      "outputs": [
        {
          "data": {
            "application/javascript": [
              "parent.postMessage({\"jupyterEvent\": \"custom.exercise_interaction\", \"data\": {\"outcomeType\": 1, \"valueTowardsCompletion\": 0.25, \"interactionType\": 1, \"questionType\": 1, \"questionId\": \"2_StrPoints\", \"learnToolsVersion\": \"0.3.4\", \"failureMessage\": \"\", \"exceptionClass\": \"\", \"trace\": \"\"}}, \"*\")"
            ],
            "text/plain": [
              "<IPython.core.display.Javascript object>"
            ]
          },
          "metadata": {},
          "output_type": "display_data"
        },
        {
          "data": {
            "text/markdown": [
              "<span style=\"color:#33cc33\">Correct</span>"
            ],
            "text/plain": [
              "Correct"
            ]
          },
          "metadata": {},
          "output_type": "display_data"
        }
      ],
      "source": [
        "point_strings = reviews.points.astype(str)\n",
        "\n",
        "# Check your answer\n",
        "q2.check()"
      ]
    },
    {
      "cell_type": "code",
      "execution_count": null,
      "id": "9ed1d577",
      "metadata": {
        "execution": {
          "iopub.execute_input": "2023-12-16T19:07:45.318048Z",
          "iopub.status.busy": "2023-12-16T19:07:45.317649Z",
          "iopub.status.idle": "2023-12-16T19:07:45.321921Z",
          "shell.execute_reply": "2023-12-16T19:07:45.320983Z"
        },
        "papermill": {
          "duration": 0.014904,
          "end_time": "2023-12-16T19:07:45.324332",
          "exception": false,
          "start_time": "2023-12-16T19:07:45.309428",
          "status": "completed"
        },
        "tags": [],
        "id": "9ed1d577"
      },
      "outputs": [],
      "source": [
        "#q2.hint()\n",
        "#q2.solution()"
      ]
    },
    {
      "cell_type": "markdown",
      "id": "61f11d6d",
      "metadata": {
        "papermill": {
          "duration": 0.006938,
          "end_time": "2023-12-16T19:07:45.338196",
          "exception": false,
          "start_time": "2023-12-16T19:07:45.331258",
          "status": "completed"
        },
        "tags": [],
        "id": "61f11d6d"
      },
      "source": [
        "## 3.\n",
        "Sometimes the price column is null. How many reviews in the dataset are missing a price?"
      ]
    },
    {
      "cell_type": "code",
      "execution_count": null,
      "id": "4150a96d",
      "metadata": {
        "execution": {
          "iopub.execute_input": "2023-12-16T19:07:45.353702Z",
          "iopub.status.busy": "2023-12-16T19:07:45.353301Z",
          "iopub.status.idle": "2023-12-16T19:07:45.370398Z",
          "shell.execute_reply": "2023-12-16T19:07:45.369372Z"
        },
        "papermill": {
          "duration": 0.027584,
          "end_time": "2023-12-16T19:07:45.372661",
          "exception": false,
          "start_time": "2023-12-16T19:07:45.345077",
          "status": "completed"
        },
        "tags": [],
        "id": "4150a96d",
        "outputId": "ab8eae43-7d80-4397-fc8a-24306621dbd8"
      },
      "outputs": [
        {
          "data": {
            "application/javascript": [
              "parent.postMessage({\"jupyterEvent\": \"custom.exercise_interaction\", \"data\": {\"outcomeType\": 1, \"valueTowardsCompletion\": 0.25, \"interactionType\": 1, \"questionType\": 1, \"questionId\": \"3_CountMissingPrices\", \"learnToolsVersion\": \"0.3.4\", \"failureMessage\": \"\", \"exceptionClass\": \"\", \"trace\": \"\"}}, \"*\")"
            ],
            "text/plain": [
              "<IPython.core.display.Javascript object>"
            ]
          },
          "metadata": {},
          "output_type": "display_data"
        },
        {
          "data": {
            "text/markdown": [
              "<span style=\"color:#33cc33\">Correct</span>"
            ],
            "text/plain": [
              "Correct"
            ]
          },
          "metadata": {},
          "output_type": "display_data"
        }
      ],
      "source": [
        "missing_price_reviews = reviews[reviews.price.isnull()]\n",
        "n_missing_prices = len(missing_price_reviews)\n",
        "n_missing_prices = reviews.price.isnull().sum()\n",
        "n_missing_prices = pd.isnull(reviews.price).sum()\n",
        "# Check your answer\n",
        "q3.check()"
      ]
    },
    {
      "cell_type": "code",
      "execution_count": null,
      "id": "ee189d05",
      "metadata": {
        "execution": {
          "iopub.execute_input": "2023-12-16T19:07:45.389375Z",
          "iopub.status.busy": "2023-12-16T19:07:45.388412Z",
          "iopub.status.idle": "2023-12-16T19:07:45.392453Z",
          "shell.execute_reply": "2023-12-16T19:07:45.391683Z"
        },
        "papermill": {
          "duration": 0.014535,
          "end_time": "2023-12-16T19:07:45.394466",
          "exception": false,
          "start_time": "2023-12-16T19:07:45.379931",
          "status": "completed"
        },
        "tags": [],
        "id": "ee189d05"
      },
      "outputs": [],
      "source": [
        "#q3.hint()\n",
        "#q3.solution()"
      ]
    },
    {
      "cell_type": "markdown",
      "id": "777e1fe8",
      "metadata": {
        "papermill": {
          "duration": 0.006881,
          "end_time": "2023-12-16T19:07:45.408605",
          "exception": false,
          "start_time": "2023-12-16T19:07:45.401724",
          "status": "completed"
        },
        "tags": [],
        "id": "777e1fe8"
      },
      "source": [
        "## 4.\n",
        "What are the most common wine-producing regions? Create a Series counting the number of times each value occurs in the `region_1` field. This field is often missing data, so replace missing values with `Unknown`. Sort in descending order.  Your output should look something like this:\n",
        "\n",
        "```\n",
        "Unknown                    21247\n",
        "Napa Valley                 4480\n",
        "                           ...  \n",
        "Bardolino Superiore            1\n",
        "Primitivo del Tarantino        1\n",
        "Name: region_1, Length: 1230, dtype: int64\n",
        "```"
      ]
    },
    {
      "cell_type": "code",
      "execution_count": null,
      "id": "fa4bdead",
      "metadata": {
        "execution": {
          "iopub.execute_input": "2023-12-16T19:07:45.424909Z",
          "iopub.status.busy": "2023-12-16T19:07:45.424462Z",
          "iopub.status.idle": "2023-12-16T19:07:45.505711Z",
          "shell.execute_reply": "2023-12-16T19:07:45.504897Z"
        },
        "papermill": {
          "duration": 0.092082,
          "end_time": "2023-12-16T19:07:45.507823",
          "exception": false,
          "start_time": "2023-12-16T19:07:45.415741",
          "status": "completed"
        },
        "tags": [],
        "id": "fa4bdead",
        "outputId": "23d317f6-8eed-47f5-fbec-8bb578842213"
      },
      "outputs": [
        {
          "data": {
            "application/javascript": [
              "parent.postMessage({\"jupyterEvent\": \"custom.exercise_interaction\", \"data\": {\"outcomeType\": 1, \"valueTowardsCompletion\": 0.25, \"interactionType\": 1, \"questionType\": 2, \"questionId\": \"4_ReviewsPerRegion\", \"learnToolsVersion\": \"0.3.4\", \"failureMessage\": \"\", \"exceptionClass\": \"\", \"trace\": \"\"}}, \"*\")"
            ],
            "text/plain": [
              "<IPython.core.display.Javascript object>"
            ]
          },
          "metadata": {},
          "output_type": "display_data"
        },
        {
          "data": {
            "text/markdown": [
              "<span style=\"color:#33cc33\">Correct</span>"
            ],
            "text/plain": [
              "Correct"
            ]
          },
          "metadata": {},
          "output_type": "display_data"
        }
      ],
      "source": [
        "reviews_per_region = reviews.region_1.fillna('Unknown').value_counts().sort_values(ascending=False)\n",
        "\n",
        "# Check your answer\n",
        "q4.check()"
      ]
    },
    {
      "cell_type": "code",
      "execution_count": null,
      "id": "57023d36",
      "metadata": {
        "execution": {
          "iopub.execute_input": "2023-12-16T19:07:45.525338Z",
          "iopub.status.busy": "2023-12-16T19:07:45.524326Z",
          "iopub.status.idle": "2023-12-16T19:07:45.528430Z",
          "shell.execute_reply": "2023-12-16T19:07:45.527635Z"
        },
        "papermill": {
          "duration": 0.015141,
          "end_time": "2023-12-16T19:07:45.530520",
          "exception": false,
          "start_time": "2023-12-16T19:07:45.515379",
          "status": "completed"
        },
        "tags": [],
        "id": "57023d36"
      },
      "outputs": [],
      "source": [
        "#q4.hint()\n",
        "#q4.solution()"
      ]
    },
    {
      "cell_type": "markdown",
      "id": "e5b803fb",
      "metadata": {
        "papermill": {
          "duration": 0.007243,
          "end_time": "2023-12-16T19:07:45.545300",
          "exception": false,
          "start_time": "2023-12-16T19:07:45.538057",
          "status": "completed"
        },
        "tags": [],
        "id": "e5b803fb"
      },
      "source": [
        "# Keep going\n",
        "\n",
        "Move on to **[renaming and combining](https://www.kaggle.com/residentmario/renaming-and-combining)**."
      ]
    },
    {
      "cell_type": "markdown",
      "id": "bd9c5a45",
      "metadata": {
        "papermill": {
          "duration": 0.00717,
          "end_time": "2023-12-16T19:07:45.560081",
          "exception": false,
          "start_time": "2023-12-16T19:07:45.552911",
          "status": "completed"
        },
        "tags": [],
        "id": "bd9c5a45"
      },
      "source": [
        "---\n",
        "\n",
        "\n",
        "\n",
        "\n",
        "*Have questions or comments? Visit the [course discussion forum](https://www.kaggle.com/learn/pandas/discussion) to chat with other learners.*"
      ]
    }
  ],
  "metadata": {
    "kaggle": {
      "accelerator": "none",
      "dataSources": [
        {
          "datasetId": 655,
          "sourceId": 1252,
          "sourceType": "datasetVersion"
        },
        {
          "datasetId": 2321,
          "sourceId": 3919,
          "sourceType": "datasetVersion"
        },
        {
          "datasetId": 2894,
          "sourceId": 4877,
          "sourceType": "datasetVersion"
        },
        {
          "datasetId": 3491,
          "sourceId": 5624,
          "sourceType": "datasetVersion"
        },
        {
          "datasetId": 1442,
          "sourceId": 8172,
          "sourceType": "datasetVersion"
        },
        {
          "datasetId": 9366,
          "sourceId": 13206,
          "sourceType": "datasetVersion"
        },
        {
          "datasetId": 179555,
          "sourceId": 403916,
          "sourceType": "datasetVersion"
        },
        {
          "datasetId": 4549,
          "sourceId": 466349,
          "sourceType": "datasetVersion"
        },
        {
          "datasetId": 2478,
          "sourceId": 1151655,
          "sourceType": "datasetVersion"
        },
        {
          "datasetId": 10128,
          "sourceId": 5438389,
          "sourceType": "datasetVersion"
        }
      ],
      "isGpuEnabled": false,
      "isInternetEnabled": false,
      "language": "python",
      "sourceType": "notebook"
    },
    "kernelspec": {
      "display_name": "Python 3",
      "language": "python",
      "name": "python3"
    },
    "language_info": {
      "codemirror_mode": {
        "name": "ipython",
        "version": 3
      },
      "file_extension": ".py",
      "mimetype": "text/x-python",
      "name": "python",
      "nbconvert_exporter": "python",
      "pygments_lexer": "ipython3",
      "version": "3.10.12"
    },
    "papermill": {
      "default_parameters": {},
      "duration": 8.134935,
      "end_time": "2023-12-16T19:07:46.087324",
      "environment_variables": {},
      "exception": null,
      "input_path": "__notebook__.ipynb",
      "output_path": "__notebook__.ipynb",
      "parameters": {},
      "start_time": "2023-12-16T19:07:37.952389",
      "version": "2.4.0"
    },
    "colab": {
      "provenance": []
    }
  },
  "nbformat": 4,
  "nbformat_minor": 5
}